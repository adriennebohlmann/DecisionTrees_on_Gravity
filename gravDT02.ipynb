{
  "nbformat": 4,
  "nbformat_minor": 0,
  "metadata": {
    "colab": {
      "name": "gravDT02.ipynb",
      "provenance": [],
      "collapsed_sections": [],
      "toc_visible": true,
      "authorship_tag": "ABX9TyNedUGzIKPsSKO+A5U1RORk"
    },
    "kernelspec": {
      "name": "python3",
      "display_name": "Python 3"
    },
    "language_info": {
      "name": "python"
    }
  },
  "cells": [
    {
      "cell_type": "code",
      "metadata": {
        "colab": {
          "base_uri": "https://localhost:8080/"
        },
        "id": "CSYkPI1hcv7f",
        "outputId": "21e09abf-6b27-41ca-c6cf-90978a06433a"
      },
      "source": [
        "from google.colab import drive\n",
        "drive.mount('/content/gdrive')"
      ],
      "execution_count": 2,
      "outputs": [
        {
          "output_type": "stream",
          "text": [
            "Mounted at /content/gdrive\n"
          ],
          "name": "stdout"
        }
      ]
    },
    {
      "cell_type": "code",
      "metadata": {
        "id": "vhxFkyxUc2nC"
      },
      "source": [
        "import pandas as pd\n",
        "import numpy as np\n",
        "from sklearn.model_selection import train_test_split, RandomizedSearchCV, GridSearchCV\n",
        "from sklearn.tree import DecisionTreeRegressor\n",
        "from sklearn.ensemble import RandomForestRegressor, GradientBoostingRegressor, AdaBoostRegressor\n",
        "import matplotlib.pyplot as plt "
      ],
      "execution_count": 3,
      "outputs": []
    },
    {
      "cell_type": "code",
      "metadata": {
        "colab": {
          "base_uri": "https://localhost:8080/"
        },
        "id": "40fLVMc5c5eP",
        "outputId": "33a65ada-9370-45c0-a6c6-15f64e35ff28"
      },
      "source": [
        "gravd = pd.read_csv('/content/gdrive/MyDrive/gravity/gravd.csv')\n",
        "gravd.columns"
      ],
      "execution_count": 4,
      "outputs": [
        {
          "output_type": "execute_result",
          "data": {
            "text/plain": [
              "Index(['year', 'iso_o', 'iso_d', 'contig', 'comlang_off', 'distw', 'pop_o',\n",
              "       'gdp_o', 'gdpcap_o', 'iso2_o', 'pop_d', 'gdp_d', 'gdpcap_d', 'iso2_d',\n",
              "       'heg_d', 'conflict', 'indepdate', 'heg_o', 'col_to', 'col_fr',\n",
              "       'col_hist', 'col_cur', 'sever', 'sib_conflict', 'gatt_o', 'gatt_d',\n",
              "       'rta', 'comleg', 'comcur', 'acp_to_eu', 'gsp', 'eu_to_acp', 'gsp_rec',\n",
              "       'flow', 'validmirror', 'family', 'isl_o', 'isl_d', 'lndl_o', 'lndl_d'],\n",
              "      dtype='object')"
            ]
          },
          "metadata": {
            "tags": []
          },
          "execution_count": 4
        }
      ]
    },
    {
      "cell_type": "code",
      "metadata": {
        "colab": {
          "base_uri": "https://localhost:8080/"
        },
        "id": "nQsgm7QPc9lS",
        "outputId": "aa5f8e20-4324-485f-8d65-896f81039952"
      },
      "source": [
        "gravd = gravd[['flow', 'distw'\n",
        "                     , 'gdp_o', 'gdp_d'\n",
        "                     , 'contig', 'comlang_off', 'col_hist'\n",
        "                     , 'isl_o', 'isl_d', 'lndl_o', 'lndl_d'\n",
        "                     ]]\n",
        "gravd.isna().sum()"
      ],
      "execution_count": 6,
      "outputs": [
        {
          "output_type": "execute_result",
          "data": {
            "text/plain": [
              "flow              0\n",
              "distw             0\n",
              "gdp_o          2006\n",
              "gdp_d          1606\n",
              "contig            0\n",
              "comlang_off       0\n",
              "col_hist          0\n",
              "isl_o             0\n",
              "isl_d             0\n",
              "lndl_o            0\n",
              "lndl_d            0\n",
              "dtype: int64"
            ]
          },
          "metadata": {
            "tags": []
          },
          "execution_count": 6
        }
      ]
    },
    {
      "cell_type": "markdown",
      "metadata": {
        "id": "NyVe_uNjGvmW"
      },
      "source": [
        "drop nans and show correalation"
      ]
    },
    {
      "cell_type": "code",
      "metadata": {
        "colab": {
          "base_uri": "https://localhost:8080/",
          "height": 390
        },
        "id": "85hVr120dAUK",
        "outputId": "8549ee67-0bd4-479a-b8c9-1a9e85078c7f"
      },
      "source": [
        "gravd = gravd.dropna()\n",
        "gravd.corr()"
      ],
      "execution_count": 7,
      "outputs": [
        {
          "output_type": "execute_result",
          "data": {
            "text/html": [
              "<div>\n",
              "<style scoped>\n",
              "    .dataframe tbody tr th:only-of-type {\n",
              "        vertical-align: middle;\n",
              "    }\n",
              "\n",
              "    .dataframe tbody tr th {\n",
              "        vertical-align: top;\n",
              "    }\n",
              "\n",
              "    .dataframe thead th {\n",
              "        text-align: right;\n",
              "    }\n",
              "</style>\n",
              "<table border=\"1\" class=\"dataframe\">\n",
              "  <thead>\n",
              "    <tr style=\"text-align: right;\">\n",
              "      <th></th>\n",
              "      <th>flow</th>\n",
              "      <th>distw</th>\n",
              "      <th>gdp_o</th>\n",
              "      <th>gdp_d</th>\n",
              "      <th>contig</th>\n",
              "      <th>comlang_off</th>\n",
              "      <th>col_hist</th>\n",
              "      <th>isl_o</th>\n",
              "      <th>isl_d</th>\n",
              "      <th>lndl_o</th>\n",
              "      <th>lndl_d</th>\n",
              "    </tr>\n",
              "  </thead>\n",
              "  <tbody>\n",
              "    <tr>\n",
              "      <th>flow</th>\n",
              "      <td>1.000000</td>\n",
              "      <td>-0.049890</td>\n",
              "      <td>0.167948</td>\n",
              "      <td>0.213254</td>\n",
              "      <td>0.148241</td>\n",
              "      <td>0.020537</td>\n",
              "      <td>0.044647</td>\n",
              "      <td>-0.004968</td>\n",
              "      <td>-0.006837</td>\n",
              "      <td>-0.028287</td>\n",
              "      <td>-0.027311</td>\n",
              "    </tr>\n",
              "    <tr>\n",
              "      <th>distw</th>\n",
              "      <td>-0.049890</td>\n",
              "      <td>1.000000</td>\n",
              "      <td>0.047489</td>\n",
              "      <td>0.048441</td>\n",
              "      <td>-0.206316</td>\n",
              "      <td>-0.072044</td>\n",
              "      <td>-0.043466</td>\n",
              "      <td>0.176368</td>\n",
              "      <td>0.166128</td>\n",
              "      <td>-0.091461</td>\n",
              "      <td>-0.095632</td>\n",
              "    </tr>\n",
              "    <tr>\n",
              "      <th>gdp_o</th>\n",
              "      <td>0.167948</td>\n",
              "      <td>0.047489</td>\n",
              "      <td>1.000000</td>\n",
              "      <td>-0.013492</td>\n",
              "      <td>-0.003589</td>\n",
              "      <td>0.002866</td>\n",
              "      <td>0.054973</td>\n",
              "      <td>0.005815</td>\n",
              "      <td>0.006266</td>\n",
              "      <td>-0.092983</td>\n",
              "      <td>0.014054</td>\n",
              "    </tr>\n",
              "    <tr>\n",
              "      <th>gdp_d</th>\n",
              "      <td>0.213254</td>\n",
              "      <td>0.048441</td>\n",
              "      <td>-0.013492</td>\n",
              "      <td>1.000000</td>\n",
              "      <td>-0.003612</td>\n",
              "      <td>0.002542</td>\n",
              "      <td>0.054800</td>\n",
              "      <td>0.006411</td>\n",
              "      <td>0.007017</td>\n",
              "      <td>0.011372</td>\n",
              "      <td>-0.091553</td>\n",
              "    </tr>\n",
              "    <tr>\n",
              "      <th>contig</th>\n",
              "      <td>0.148241</td>\n",
              "      <td>-0.206316</td>\n",
              "      <td>-0.003589</td>\n",
              "      <td>-0.003612</td>\n",
              "      <td>1.000000</td>\n",
              "      <td>0.110013</td>\n",
              "      <td>0.089646</td>\n",
              "      <td>-0.068270</td>\n",
              "      <td>-0.068126</td>\n",
              "      <td>0.037150</td>\n",
              "      <td>0.037822</td>\n",
              "    </tr>\n",
              "    <tr>\n",
              "      <th>comlang_off</th>\n",
              "      <td>0.020537</td>\n",
              "      <td>-0.072044</td>\n",
              "      <td>0.002866</td>\n",
              "      <td>0.002542</td>\n",
              "      <td>0.110013</td>\n",
              "      <td>1.000000</td>\n",
              "      <td>0.145083</td>\n",
              "      <td>0.117948</td>\n",
              "      <td>0.125097</td>\n",
              "      <td>-0.017339</td>\n",
              "      <td>-0.025740</td>\n",
              "    </tr>\n",
              "    <tr>\n",
              "      <th>col_hist</th>\n",
              "      <td>0.044647</td>\n",
              "      <td>-0.043466</td>\n",
              "      <td>0.054973</td>\n",
              "      <td>0.054800</td>\n",
              "      <td>0.089646</td>\n",
              "      <td>0.145083</td>\n",
              "      <td>1.000000</td>\n",
              "      <td>0.031037</td>\n",
              "      <td>0.031258</td>\n",
              "      <td>-0.024387</td>\n",
              "      <td>-0.023205</td>\n",
              "    </tr>\n",
              "    <tr>\n",
              "      <th>isl_o</th>\n",
              "      <td>-0.004968</td>\n",
              "      <td>0.176368</td>\n",
              "      <td>0.005815</td>\n",
              "      <td>0.006411</td>\n",
              "      <td>-0.068270</td>\n",
              "      <td>0.117948</td>\n",
              "      <td>0.031037</td>\n",
              "      <td>1.000000</td>\n",
              "      <td>0.019769</td>\n",
              "      <td>-0.234955</td>\n",
              "      <td>-0.015212</td>\n",
              "    </tr>\n",
              "    <tr>\n",
              "      <th>isl_d</th>\n",
              "      <td>-0.006837</td>\n",
              "      <td>0.166128</td>\n",
              "      <td>0.006266</td>\n",
              "      <td>0.007017</td>\n",
              "      <td>-0.068126</td>\n",
              "      <td>0.125097</td>\n",
              "      <td>0.031258</td>\n",
              "      <td>0.019769</td>\n",
              "      <td>1.000000</td>\n",
              "      <td>-0.017286</td>\n",
              "      <td>-0.230824</td>\n",
              "    </tr>\n",
              "    <tr>\n",
              "      <th>lndl_o</th>\n",
              "      <td>-0.028287</td>\n",
              "      <td>-0.091461</td>\n",
              "      <td>-0.092983</td>\n",
              "      <td>0.011372</td>\n",
              "      <td>0.037150</td>\n",
              "      <td>-0.017339</td>\n",
              "      <td>-0.024387</td>\n",
              "      <td>-0.234955</td>\n",
              "      <td>-0.017286</td>\n",
              "      <td>1.000000</td>\n",
              "      <td>-0.006014</td>\n",
              "    </tr>\n",
              "    <tr>\n",
              "      <th>lndl_d</th>\n",
              "      <td>-0.027311</td>\n",
              "      <td>-0.095632</td>\n",
              "      <td>0.014054</td>\n",
              "      <td>-0.091553</td>\n",
              "      <td>0.037822</td>\n",
              "      <td>-0.025740</td>\n",
              "      <td>-0.023205</td>\n",
              "      <td>-0.015212</td>\n",
              "      <td>-0.230824</td>\n",
              "      <td>-0.006014</td>\n",
              "      <td>1.000000</td>\n",
              "    </tr>\n",
              "  </tbody>\n",
              "</table>\n",
              "</div>"
            ],
            "text/plain": [
              "                 flow     distw     gdp_o  ...     isl_d    lndl_o    lndl_d\n",
              "flow         1.000000 -0.049890  0.167948  ... -0.006837 -0.028287 -0.027311\n",
              "distw       -0.049890  1.000000  0.047489  ...  0.166128 -0.091461 -0.095632\n",
              "gdp_o        0.167948  0.047489  1.000000  ...  0.006266 -0.092983  0.014054\n",
              "gdp_d        0.213254  0.048441 -0.013492  ...  0.007017  0.011372 -0.091553\n",
              "contig       0.148241 -0.206316 -0.003589  ... -0.068126  0.037150  0.037822\n",
              "comlang_off  0.020537 -0.072044  0.002866  ...  0.125097 -0.017339 -0.025740\n",
              "col_hist     0.044647 -0.043466  0.054973  ...  0.031258 -0.024387 -0.023205\n",
              "isl_o       -0.004968  0.176368  0.005815  ...  0.019769 -0.234955 -0.015212\n",
              "isl_d       -0.006837  0.166128  0.006266  ...  1.000000 -0.017286 -0.230824\n",
              "lndl_o      -0.028287 -0.091461 -0.092983  ... -0.017286  1.000000 -0.006014\n",
              "lndl_d      -0.027311 -0.095632  0.014054  ... -0.230824 -0.006014  1.000000\n",
              "\n",
              "[11 rows x 11 columns]"
            ]
          },
          "metadata": {
            "tags": []
          },
          "execution_count": 7
        }
      ]
    },
    {
      "cell_type": "markdown",
      "metadata": {
        "id": "n1zYjqJqG2RP"
      },
      "source": [
        "sort data (only to check details on stratification)"
      ]
    },
    {
      "cell_type": "code",
      "metadata": {
        "id": "2vN7AZWPmZTj"
      },
      "source": [
        "# gravd = gravd.sort_values('flow', ignore_index=True)"
      ],
      "execution_count": 8,
      "outputs": []
    },
    {
      "cell_type": "markdown",
      "metadata": {
        "id": "UiGxYUXOI8mO"
      },
      "source": [
        "how many zero obs are in the data"
      ]
    },
    {
      "cell_type": "code",
      "metadata": {
        "colab": {
          "base_uri": "https://localhost:8080/"
        },
        "id": "n6ZijgvpdDbt",
        "outputId": "676d781b-c983-47dd-8278-6a824bd804c3"
      },
      "source": [
        "flow = np.array(gravd.flow.astype(np.float32))  \n",
        "print('of', len(flow), 'observations'\n",
        "      , len(flow) - np.count_nonzero(flow), ' are zero ='\n",
        "      , (len(flow) - np.count_nonzero(flow))/ len(flow)*100, '%')\n"
      ],
      "execution_count": 9,
      "outputs": [
        {
          "output_type": "stream",
          "text": [
            "of 26967 observations 6970  are zero = 25.846404865205624 %\n"
          ],
          "name": "stdout"
        }
      ]
    },
    {
      "cell_type": "markdown",
      "metadata": {
        "id": "lr8NH07dgXth"
      },
      "source": [
        "create bins for stratify in train-test-split"
      ]
    },
    {
      "cell_type": "code",
      "metadata": {
        "id": "06m6ESw5hmNg"
      },
      "source": [
        "#len(gravd)"
      ],
      "execution_count": 8,
      "outputs": []
    },
    {
      "cell_type": "code",
      "metadata": {
        "id": "NsTWO15LdGhJ"
      },
      "source": [
        "#bins = np.linspace(0, len(gravd), 20)\n",
        "bins = np.geomspace(1, len(gravd), 100)\n",
        "flowZ = flow.copy()\n",
        "flowZ = np.digitize(flow, bins)\n",
        "# flowZ[26800:26967]"
      ],
      "execution_count": 10,
      "outputs": []
    },
    {
      "cell_type": "markdown",
      "metadata": {
        "id": "EsiJgDrpJ4cb"
      },
      "source": [
        "reformat"
      ]
    },
    {
      "cell_type": "code",
      "metadata": {
        "id": "N-preUvqdJ-j"
      },
      "source": [
        "# weighted geographical between origin and destination\n",
        "distw = np.array(gravd.distw.astype(np.float32))\n",
        "\n",
        "# GDP of origin\n",
        "gdp_o = np.array(gravd.gdp_o.astype(np.float32))\n",
        "\n",
        "# GDP of destination\n",
        "gdp_d = np.array(gravd.gdp_d.astype(np.float32))\n",
        "\n",
        "# Dummies \n",
        "# neighbourhood status between origin and destination\n",
        "contig = np.array(gravd.contig.astype(np.int8))\n",
        "# common official language of origin and destination\n",
        "comlang_off = np.array(gravd.comlang_off.astype(np.int8))\n",
        "# colonial ties between origin and destination\n",
        "col_hist = np.array(gravd.col_hist.astype(np.int8))\n",
        "# island\n",
        "isl_o = np.array(gravd.isl_o.astype(np.int8))\n",
        "isl_d = np.array(gravd.isl_d.astype(np.int8))\n",
        "# landlocked\n",
        "lndl_o = np.array(gravd.lndl_o.astype(np.int8))\n",
        "lndl_d = np.array(gravd.lndl_d.astype(np.int8))\n",
        "\n",
        "X = np.array([flowZ, distw, gdp_o, gdp_d\n",
        "              , contig, comlang_off, col_hist\n",
        "              , isl_o, isl_d, lndl_o, lndl_d\n",
        "              ]).T\n"
      ],
      "execution_count": 15,
      "outputs": []
    },
    {
      "cell_type": "markdown",
      "metadata": {
        "id": "qRiuxRo4J8ix"
      },
      "source": [
        "define class and some functions for convenience"
      ]
    },
    {
      "cell_type": "code",
      "metadata": {
        "id": "GkAv2bwodOE2"
      },
      "source": [
        "# class for data preparation\n",
        "class prepare_data:\n",
        "    def __init__(self):\n",
        "        self.X = X.copy()\n",
        "        self.y = flow.copy()\n",
        "        \n",
        "    # train test split and transform\n",
        "    def tts(self, rnd = 42):\n",
        "         # train test split stratify on binary zero trade\n",
        "        self.X_train, self.X_test, self.y_train, self.y_test = train_test_split(self.X[:,1:11], self.y\n",
        "                                                                                , random_state=(rnd)\n",
        "                                                                                , test_size=0.2\n",
        "                                                                                , stratify=(self.X[:,0])\n",
        "                                                                                )\n",
        "        \n",
        "# plot feature importance \n",
        "def plot_feature_importance(model):\n",
        "    n_features = len(data.X_train[0,:])\n",
        "    plt.barh(range(n_features), model.feature_importances_, align='center') \n",
        "    plt.yticks(np.arange(n_features), feature_names) \n",
        "    plt.xlabel(\"Feature importance\")\n",
        "    plt.ylabel(\"Feature\")\n",
        "\n",
        "# random repetition loop instead of cross validation\n",
        "def rnd_val(estimator, cv=100):\n",
        "    all_r2_test = []\n",
        "    for i in range(cv):\n",
        "        data.tts(rnd=None)\n",
        "        estimator.fit(data.X_train, data.y_train)\n",
        "        r2_test = estimator.score(data.X_test, data.y_test)\n",
        "        all_r2_test.append(r2_test)\n",
        "        print('R2 test:', r2_test)\n",
        "        print('R2 train', estimator.score(data.X_train, data.y_train))\n",
        "    print('mean R2 test:', np.mean(all_r2_test))\n",
        "\n",
        "# get R2 for test and train data\n",
        "def get_R2s(estimator):\n",
        "    print('test R2:', estimator.score(data.X_test, data.y_test))\n",
        "    print('train R2:', estimator.score(data.X_train, data.y_train))\n",
        "    \n",
        "# plot prediction against true values\n",
        "def plt_y_pred(estimator):\n",
        "    y_pred = estimator.predict(data.X_test)\n",
        "    # plot feature importance\n",
        "    plot_feature_importance(estimator)\n",
        "    plt.show()\n",
        "    # plot y against y^\n",
        "    plt.scatter(y_pred, data.y_test, s = 3)\n",
        "    plt.xlabel('prediced trade flow from test data')\n",
        "    plt.ylabel('true trade flow from test data')\n",
        "    plt.title('test vs predicted trade flow')\n",
        "    plt.show()\n",
        "    # plot y against y^ on log axes\n",
        "    plt.loglog(y_pred, data.y_test, marker = 'o', markersize = 3, linestyle = '')\n",
        "    plt.xlabel('prediced trade flow from test data')\n",
        "    plt.ylabel('true trade flow from test data')\n",
        "    plt.title('test vs predicted trade flow on log axes')\n",
        "    plt.show()\n",
        "    \n",
        "def plt_error_hist(estimator):\n",
        "  estimator.fit(data.X_train, data.y_train)\n",
        "  # out-of-sample errors\n",
        "  y_pred = estimator.predict(data.X_test)\n",
        "  oos_errors = data.y_test - y_pred\n",
        "  plt.hist(oos_errors, bins=100, log=True)\n",
        "  plt.title('out-of-sample error distribution')\n",
        "  plt.show()\n",
        "  # within-sample errors\n",
        "  y_pred_is = estimator.predict(data.X_train)\n",
        "  is_errors = data.y_train - y_pred_is\n",
        "  plt.hist(is_errors, bins=100, log=True)\n",
        "  plt.title('within-sample error distribution')\n",
        "  plt.show()"
      ],
      "execution_count": 12,
      "outputs": []
    },
    {
      "cell_type": "markdown",
      "metadata": {
        "id": "jn8SqublKEtf"
      },
      "source": [
        "initialize data and train-test-split"
      ]
    },
    {
      "cell_type": "code",
      "metadata": {
        "id": "tZWLEdEadQee"
      },
      "source": [
        "data = prepare_data()\n",
        "data.tts()"
      ],
      "execution_count": 16,
      "outputs": []
    },
    {
      "cell_type": "markdown",
      "metadata": {
        "id": "6F9l_uYXKNxz"
      },
      "source": [
        "retrieve feature names"
      ]
    },
    {
      "cell_type": "code",
      "metadata": {
        "colab": {
          "base_uri": "https://localhost:8080/"
        },
        "id": "KpAFInYudTGP",
        "outputId": "1032942b-f576-486c-dc8c-1dc1be259b28"
      },
      "source": [
        "feature_names = gravd.columns[1:len(X[0,:])]\n",
        "feature_names"
      ],
      "execution_count": 18,
      "outputs": [
        {
          "output_type": "execute_result",
          "data": {
            "text/plain": [
              "Index(['distw', 'gdp_o', 'gdp_d', 'contig', 'comlang_off', 'col_hist', 'isl_o',\n",
              "       'isl_d', 'lndl_o', 'lndl_d'],\n",
              "      dtype='object')"
            ]
          },
          "metadata": {
            "tags": []
          },
          "execution_count": 18
        }
      ]
    },
    {
      "cell_type": "markdown",
      "metadata": {
        "id": "rSi_csDMKTBM"
      },
      "source": [
        "# Simple Decision Tree"
      ]
    },
    {
      "cell_type": "code",
      "metadata": {
        "colab": {
          "base_uri": "https://localhost:8080/",
          "height": 873
        },
        "id": "xAw34V_QdVvh",
        "outputId": "b955a101-38c8-4cc3-cff1-b24ec526f016"
      },
      "source": [
        "tree = DecisionTreeRegressor(random_state=7, max_depth=7) \n",
        "tree.fit(data.X_train, data.y_train)\n",
        "\n",
        "get_R2s(tree)\n",
        "plt_y_pred(tree)"
      ],
      "execution_count": 19,
      "outputs": [
        {
          "output_type": "stream",
          "text": [
            "test R2: 0.7395588842533327\n",
            "train R2: 0.9327914104934447\n"
          ],
          "name": "stdout"
        },
        {
          "output_type": "display_data",
          "data": {
            "image/png": "[encoded data removed]",
            "text/plain": [
              "<Figure size 432x288 with 1 Axes>"
            ]
          },
          "metadata": {
            "tags": [],
            "needs_background": "light"
          }
        },
        {
          "output_type": "display_data",
          "data": {
            "image/png": "[encoded data removed]",
            "text/plain": [
              "<Figure size 432x288 with 1 Axes>"
            ]
          },
          "metadata": {
            "tags": [],
            "needs_background": "light"
          }
        },
        {
          "output_type": "display_data",
          "data": {
            "image/png": "[encoded data removed]",
            "text/plain": [
              "<Figure size 432x288 with 1 Axes>"
            ]
          },
          "metadata": {
            "tags": [],
            "needs_background": "light"
          }
        }
      ]
    },
    {
      "cell_type": "code",
      "metadata": {
        "colab": {
          "base_uri": "https://localhost:8080/",
          "height": 545
        },
        "id": "8T8VQsCadYo7",
        "outputId": "d782358b-4efc-4421-e57a-42a8177a5c4d"
      },
      "source": [
        "plt_error_hist(tree)"
      ],
      "execution_count": 15,
      "outputs": [
        {
          "output_type": "display_data",
          "data": {
            "image/png": "[encoded data removed]",
            "text/plain": [
              "<Figure size 432x288 with 1 Axes>"
            ]
          },
          "metadata": {
            "tags": [],
            "needs_background": "light"
          }
        },
        {
          "output_type": "display_data",
          "data": {
            "image/png": "[encoded data removed]",
            "text/plain": [
              "<Figure size 432x288 with 1 Axes>"
            ]
          },
          "metadata": {
            "tags": [],
            "needs_background": "light"
          }
        }
      ]
    },
    {
      "cell_type": "code",
      "metadata": {
        "colab": {
          "base_uri": "https://localhost:8080/"
        },
        "id": "2POJ6XdedcMp",
        "outputId": "5cd16eb6-96bb-44af-e0d9-62b13e30bee7"
      },
      "source": [
        "rnd_val(tree)"
      ],
      "execution_count": 16,
      "outputs": [
        {
          "output_type": "stream",
          "text": [
            "R2 test: 0.25840772239063037\n",
            "R2 train 0.9369700567157689\n",
            "R2 test: 0.555747630321515\n",
            "R2 train 0.9532098738025775\n",
            "R2 test: 0.4885312552454535\n",
            "R2 train 0.959641670310105\n",
            "R2 test: 0.7929634958116226\n",
            "R2 train 0.9445550632573021\n",
            "R2 test: 0.2115841762308538\n",
            "R2 train 0.9414366114149916\n",
            "R2 test: 0.5110732067915981\n",
            "R2 train 0.9476305469962533\n",
            "R2 test: 0.7759353074236\n",
            "R2 train 0.944952142411143\n",
            "R2 test: 0.33984530405187785\n",
            "R2 train 0.9574223873505506\n",
            "R2 test: 0.7093221180610587\n",
            "R2 train 0.9618725000892702\n",
            "R2 test: 0.7878397824187029\n",
            "R2 train 0.9545943002562421\n",
            "R2 test: 0.37986701535152745\n",
            "R2 train 0.9614978800633198\n",
            "R2 test: 0.38481206364813636\n",
            "R2 train 0.9430864162886218\n",
            "R2 test: 0.38018048897318213\n",
            "R2 train 0.9550797885692428\n",
            "R2 test: 0.2744012534146326\n",
            "R2 train 0.9545788827583589\n",
            "R2 test: 0.42400292699879705\n",
            "R2 train 0.9521960948673994\n",
            "R2 test: 0.3313819281308832\n",
            "R2 train 0.9613288744931757\n",
            "R2 test: 0.3649063357553868\n",
            "R2 train 0.9596761086550052\n",
            "R2 test: 0.18646577566401146\n",
            "R2 train 0.9586770680480805\n",
            "R2 test: 0.28254242708213173\n",
            "R2 train 0.9602036696421652\n",
            "R2 test: 0.5088202934668198\n",
            "R2 train 0.9512771273405114\n",
            "R2 test: 0.2255553835769003\n",
            "R2 train 0.9657727298903106\n",
            "R2 test: -1.3040801959980688\n",
            "R2 train 0.9571345441085366\n",
            "R2 test: 0.3727506395080412\n",
            "R2 train 0.9605680397015166\n",
            "R2 test: 0.6154997080748715\n",
            "R2 train 0.9431082105504017\n",
            "R2 test: 0.40611187654549386\n",
            "R2 train 0.9458967598468428\n",
            "R2 test: 0.6280819941767064\n",
            "R2 train 0.9473693079339438\n",
            "R2 test: -0.4308816587712321\n",
            "R2 train 0.9537622826748702\n",
            "R2 test: 0.6409023763061509\n",
            "R2 train 0.9478496638887867\n",
            "R2 test: 0.5416352146522827\n",
            "R2 train 0.9539123290571658\n",
            "R2 test: 0.11860748624494466\n",
            "R2 train 0.9546767532885337\n",
            "R2 test: 0.37395786084268823\n",
            "R2 train 0.9576782073798266\n",
            "R2 test: 0.591943731767506\n",
            "R2 train 0.9564110584788256\n",
            "R2 test: 0.251825001803469\n",
            "R2 train 0.944745258684065\n",
            "R2 test: 0.6303357747074632\n",
            "R2 train 0.9416444275512937\n",
            "R2 test: 0.7906027790833722\n",
            "R2 train 0.9399138444998713\n",
            "R2 test: 0.740661757896367\n",
            "R2 train 0.9464745346511486\n",
            "R2 test: 0.7032899931407919\n",
            "R2 train 0.9611423236922081\n",
            "R2 test: 0.5081648324411552\n",
            "R2 train 0.9589050379610277\n",
            "R2 test: 0.7944216114723391\n",
            "R2 train 0.9535634706685491\n",
            "R2 test: 0.4002652154133268\n",
            "R2 train 0.9488682685092019\n",
            "R2 test: 0.3954795797756687\n",
            "R2 train 0.9557475522828791\n",
            "R2 test: 0.3616826243365281\n",
            "R2 train 0.9489150824116109\n",
            "R2 test: 0.2343449716304068\n",
            "R2 train 0.9383183875556022\n",
            "R2 test: -0.3426186213054141\n",
            "R2 train 0.9553592184292669\n",
            "R2 test: 0.24594664461230087\n",
            "R2 train 0.9432265366211229\n",
            "R2 test: -1.9553100893427873\n",
            "R2 train 0.9647449967960603\n",
            "R2 test: 0.3475363031068537\n",
            "R2 train 0.9466373576896099\n",
            "R2 test: 0.32515611979280074\n",
            "R2 train 0.9668930062635397\n",
            "R2 test: 0.4119025147836677\n",
            "R2 train 0.9626537792390181\n",
            "R2 test: 0.15261725616966382\n",
            "R2 train 0.9628286833016441\n",
            "R2 test: 0.796971203034345\n",
            "R2 train 0.9334935171912567\n",
            "R2 test: 0.5439983941562392\n",
            "R2 train 0.9561277369954367\n",
            "R2 test: 0.4838325517550489\n",
            "R2 train 0.9604883104105948\n",
            "R2 test: 0.44434633509076354\n",
            "R2 train 0.961595458700433\n",
            "R2 test: 0.42841191640667786\n",
            "R2 train 0.9473686202456484\n",
            "R2 test: 0.5629676865275384\n",
            "R2 train 0.9074166365792425\n",
            "R2 test: 0.5194827219569728\n",
            "R2 train 0.9371636866094477\n",
            "R2 test: 0.7851101557461325\n",
            "R2 train 0.9391014071391097\n",
            "R2 test: 0.4050449829093421\n",
            "R2 train 0.9421342573232544\n",
            "R2 test: 0.20276724975819838\n",
            "R2 train 0.9615433247884387\n",
            "R2 test: 0.7203715303793623\n",
            "R2 train 0.9616810523964142\n",
            "R2 test: 0.4521645730538759\n",
            "R2 train 0.9586000558566509\n",
            "R2 test: 0.5528876598687622\n",
            "R2 train 0.9487264895062372\n",
            "R2 test: 0.5862233736079497\n",
            "R2 train 0.9506325010684707\n",
            "R2 test: 0.1728595233521708\n",
            "R2 train 0.9329628008239221\n",
            "R2 test: 0.7355474004933804\n",
            "R2 train 0.9548688872457114\n",
            "R2 test: 0.04729943504720857\n",
            "R2 train 0.9515956248193871\n",
            "R2 test: 0.38209720684365306\n",
            "R2 train 0.9540118561212276\n",
            "R2 test: 0.5578534476933994\n",
            "R2 train 0.9556535839158673\n",
            "R2 test: 0.4714562093176387\n",
            "R2 train 0.9569393577224383\n",
            "R2 test: 0.40625390889887114\n",
            "R2 train 0.9594423244854569\n",
            "R2 test: 0.3995017442407369\n",
            "R2 train 0.9516625150056809\n",
            "R2 test: 0.4603818928950273\n",
            "R2 train 0.9601185063216121\n",
            "R2 test: -0.02446255951912457\n",
            "R2 train 0.9483187800213317\n",
            "R2 test: 0.47395884983160663\n",
            "R2 train 0.9454689818263825\n",
            "R2 test: 0.7482457112311793\n",
            "R2 train 0.946486706561401\n",
            "R2 test: 0.4930155434684499\n",
            "R2 train 0.9610093748411246\n",
            "R2 test: 0.7329425471793916\n",
            "R2 train 0.9598261067775642\n",
            "R2 test: 0.4229479430976389\n",
            "R2 train 0.9596266081502988\n",
            "R2 test: -0.23908617459861525\n",
            "R2 train 0.9489131198287178\n",
            "R2 test: 0.5403456905773381\n",
            "R2 train 0.9408443013897501\n",
            "R2 test: -0.434118517065476\n",
            "R2 train 0.9488582143368222\n",
            "R2 test: 0.46286663669208417\n",
            "R2 train 0.9582068069294903\n",
            "R2 test: 0.41966779989938585\n",
            "R2 train 0.9491340512531116\n",
            "R2 test: 0.2679170762161799\n",
            "R2 train 0.9483170806259483\n",
            "R2 test: 0.5303830251736613\n",
            "R2 train 0.9556677090527018\n",
            "R2 test: 0.275617531759217\n",
            "R2 train 0.9411863215053582\n",
            "R2 test: 0.5266236766034507\n",
            "R2 train 0.9271498281300659\n",
            "R2 test: 0.7668491867037089\n",
            "R2 train 0.9447000789815438\n",
            "R2 test: 0.20575704137600548\n",
            "R2 train 0.9493859578175027\n",
            "R2 test: 0.4122585779745268\n",
            "R2 train 0.9435362261507971\n",
            "R2 test: 0.6685603890703546\n",
            "R2 train 0.9292328855060465\n",
            "R2 test: 0.10112411309072557\n",
            "R2 train 0.9512465920507217\n",
            "R2 test: 0.8138790787931365\n",
            "R2 train 0.9449852505411254\n",
            "R2 test: 0.3080781751148024\n",
            "R2 train 0.958780586951731\n",
            "R2 test: 0.13070053963495087\n",
            "R2 train 0.9525691343431668\n",
            "R2 test: 0.3432572961183967\n",
            "R2 train 0.9277702023799217\n",
            "R2 test: 0.39218265776307043\n",
            "R2 train 0.9429157874175479\n",
            "R2 test: 0.23153404915401818\n",
            "R2 train 0.9473504468616586\n",
            "R2 test: 0.42562078277637705\n",
            "R2 train 0.9547854747780512\n",
            "mean R2 test: 0.37839516964826414\n"
          ],
          "name": "stdout"
        }
      ]
    },
    {
      "cell_type": "markdown",
      "metadata": {
        "id": "ExP3GuIIKs4B"
      },
      "source": [
        "grid search for one tree"
      ]
    },
    {
      "cell_type": "code",
      "metadata": {
        "colab": {
          "base_uri": "https://localhost:8080/"
        },
        "id": "-rFodKlhdful",
        "outputId": "17c0957e-94d2-42b1-880a-52f520eba805"
      },
      "source": [
        "# criterion\n",
        "crit = ['mse', 'friedman_mse', 'poisson']\n",
        "\n",
        "# max depth\n",
        "maxD = [2, 3, 5, 8, 13, 21, 34]\n",
        "\n",
        "# create the grid\n",
        "grid = {'criterion': crit, 'max_depth': maxD}\n",
        "\n",
        "# base model to tune\n",
        "baseTree = DecisionTreeRegressor()\n",
        "\n",
        "# random grid search for parameters\n",
        "tree_grid_search = GridSearchCV(estimator = baseTree\n",
        "                                , param_grid= grid\n",
        "                                , cv = 7              # no of cross validation\n",
        "                                , n_jobs = -1         # use all available cores\n",
        "                                )\n",
        "\n",
        "for i in range(21):\n",
        "    # if grid is to run on a different data split, run this:\n",
        "    data.tts(rnd = None)\n",
        "    # fixed data split:\n",
        "    # data.tts(rnd = 42)\n",
        "    # single grid search:\n",
        "    tree_grid_search.fit(data.X_train, data.y_train)\n",
        "    print(tree_grid_search.best_params_)"
      ],
      "execution_count": 17,
      "outputs": [
        {
          "output_type": "stream",
          "text": [
            "{'criterion': 'mse', 'max_depth': 8}\n",
            "{'criterion': 'mse', 'max_depth': 2}\n",
            "{'criterion': 'friedman_mse', 'max_depth': 34}\n",
            "{'criterion': 'mse', 'max_depth': 34}\n",
            "{'criterion': 'mse', 'max_depth': 21}\n",
            "{'criterion': 'friedman_mse', 'max_depth': 13}\n",
            "{'criterion': 'friedman_mse', 'max_depth': 13}\n",
            "{'criterion': 'friedman_mse', 'max_depth': 13}\n",
            "{'criterion': 'mse', 'max_depth': 5}\n",
            "{'criterion': 'mse', 'max_depth': 13}\n",
            "{'criterion': 'mse', 'max_depth': 34}\n",
            "{'criterion': 'mse', 'max_depth': 5}\n",
            "{'criterion': 'friedman_mse', 'max_depth': 34}\n",
            "{'criterion': 'friedman_mse', 'max_depth': 8}\n",
            "{'criterion': 'friedman_mse', 'max_depth': 8}\n",
            "{'criterion': 'mse', 'max_depth': 13}\n",
            "{'criterion': 'mse', 'max_depth': 21}\n",
            "{'criterion': 'friedman_mse', 'max_depth': 21}\n",
            "{'criterion': 'mse', 'max_depth': 13}\n",
            "{'criterion': 'friedman_mse', 'max_depth': 13}\n",
            "{'criterion': 'mse', 'max_depth': 21}\n"
          ],
          "name": "stdout"
        }
      ]
    },
    {
      "cell_type": "markdown",
      "metadata": {
        "id": "lSy7LAimii_Z"
      },
      "source": [
        "# Random Forest"
      ]
    },
    {
      "cell_type": "code",
      "metadata": {
        "colab": {
          "base_uri": "https://localhost:8080/",
          "height": 873
        },
        "id": "0LO7Wriyif8D",
        "outputId": "c75710d5-52a5-428f-ac83-f32364a38c0e"
      },
      "source": [
        "data.tts()\n",
        "forest = RandomForestRegressor(random_state=7) \n",
        "forest.fit(data.X_train, data.y_train)\n",
        "\n",
        "get_R2s(forest)\n",
        "plt_y_pred(forest)"
      ],
      "execution_count": 20,
      "outputs": [
        {
          "output_type": "stream",
          "text": [
            "test R2: 0.6756121837930711\n",
            "train R2: 0.9364658888028049\n"
          ],
          "name": "stdout"
        },
        {
          "output_type": "display_data",
          "data": {
            "image/png": "[encoded data removed]",
            "text/plain": [
              "<Figure size 432x288 with 1 Axes>"
            ]
          },
          "metadata": {
            "tags": [],
            "needs_background": "light"
          }
        },
        {
          "output_type": "display_data",
          "data": {
            "image/png": "[encoded data removed]",
            "text/plain": [
              "<Figure size 432x288 with 1 Axes>"
            ]
          },
          "metadata": {
            "tags": [],
            "needs_background": "light"
          }
        },
        {
          "output_type": "display_data",
          "data": {
            "image/png": "[encoded data removed]",
            "text/plain": [
              "<Figure size 432x288 with 1 Axes>"
            ]
          },
          "metadata": {
            "tags": [],
            "needs_background": "light"
          }
        }
      ]
    },
    {
      "cell_type": "code",
      "metadata": {
        "colab": {
          "base_uri": "https://localhost:8080/"
        },
        "id": "_ypyZNFbimxl",
        "outputId": "011687b4-58c6-4208-e0b3-3c5f2bc20a30"
      },
      "source": [
        "forest_opt = RandomForestRegressor(n_estimators=59, max_depth=52)\n",
        "rnd_val(forest_opt)"
      ],
      "execution_count": 19,
      "outputs": [
        {
          "output_type": "stream",
          "text": [
            "R2 test: 0.5235098839194365\n",
            "R2 train 0.9449077163606213\n",
            "R2 test: 0.4574907361178712\n",
            "R2 train 0.9499028539525585\n",
            "R2 test: 0.6405755194068483\n",
            "R2 train 0.9257831754737988\n",
            "R2 test: 0.6600492650031601\n",
            "R2 train 0.9397107200243169\n",
            "R2 test: 0.732247813664533\n",
            "R2 train 0.9415767190450841\n",
            "R2 test: 0.6372144857702045\n",
            "R2 train 0.9332442696764701\n",
            "R2 test: 0.6899139498375202\n",
            "R2 train 0.9498964035203988\n",
            "R2 test: 0.6752128492155983\n",
            "R2 train 0.9509118696041002\n",
            "R2 test: 0.6939232283750563\n",
            "R2 train 0.9420885399428155\n",
            "R2 test: 0.7160384227130593\n",
            "R2 train 0.9447731076730194\n",
            "R2 test: 0.5588221597354446\n",
            "R2 train 0.9475350585304425\n",
            "R2 test: 0.7314019565141351\n",
            "R2 train 0.9399245280072328\n",
            "R2 test: 0.4759484314216271\n",
            "R2 train 0.946628460985293\n",
            "R2 test: 0.6551400811383294\n",
            "R2 train 0.9061633032002699\n",
            "R2 test: 0.7716356260503946\n",
            "R2 train 0.9546907708377481\n",
            "R2 test: 0.6546025234500503\n",
            "R2 train 0.9607758858139109\n",
            "R2 test: 0.7073673961926141\n",
            "R2 train 0.9474055776183485\n",
            "R2 test: 0.5547184831135454\n",
            "R2 train 0.9381025577618535\n",
            "R2 test: 0.5737195004175918\n",
            "R2 train 0.933305039058044\n",
            "R2 test: 0.42777022634562445\n",
            "R2 train 0.9606071764976007\n",
            "R2 test: 0.6017159833729069\n",
            "R2 train 0.9278036502814381\n",
            "R2 test: 0.6031456680004694\n",
            "R2 train 0.9088368298513314\n",
            "R2 test: 0.6884578995486861\n",
            "R2 train 0.9160365061967817\n",
            "R2 test: 0.6113018030013891\n",
            "R2 train 0.9137998727902007\n",
            "R2 test: 0.7986081921610783\n",
            "R2 train 0.9436144428873277\n",
            "R2 test: 0.637840090867507\n",
            "R2 train 0.917228892569676\n",
            "R2 test: 0.6790719609771247\n",
            "R2 train 0.9430081776070952\n",
            "R2 test: 0.47047269212701603\n",
            "R2 train 0.9401684897233382\n",
            "R2 test: 0.6212556725086674\n",
            "R2 train 0.9472303882901089\n",
            "R2 test: 0.7104231354809827\n",
            "R2 train 0.9393377643257005\n",
            "R2 test: 0.7412085485767359\n",
            "R2 train 0.9415764998969929\n",
            "R2 test: 0.742588114628365\n",
            "R2 train 0.9342872094776873\n",
            "R2 test: 0.7333819449862109\n",
            "R2 train 0.9269069388526017\n",
            "R2 test: 0.7212817060978942\n",
            "R2 train 0.9258580769462078\n",
            "R2 test: 0.7559032341163981\n",
            "R2 train 0.9483458240612777\n",
            "R2 test: 0.6959476446897103\n",
            "R2 train 0.9325768253636311\n",
            "R2 test: 0.4889394486290054\n",
            "R2 train 0.9495787051667492\n",
            "R2 test: 0.7317164093077113\n",
            "R2 train 0.9487037245466939\n",
            "R2 test: 0.6415638473628629\n",
            "R2 train 0.9124375682925351\n",
            "R2 test: 0.5792501744746076\n",
            "R2 train 0.9368319838475706\n",
            "R2 test: 0.746033200986238\n",
            "R2 train 0.9545787181395682\n",
            "R2 test: 0.5528516358649647\n",
            "R2 train 0.9468108597373648\n",
            "R2 test: 0.4004824328317694\n",
            "R2 train 0.9492805867925733\n",
            "R2 test: 0.4280807979380485\n",
            "R2 train 0.9512313144315886\n",
            "R2 test: 0.6807643735045678\n",
            "R2 train 0.9498753735736458\n",
            "R2 test: 0.7456670933793319\n",
            "R2 train 0.9406807164737737\n",
            "R2 test: 0.525127808498115\n",
            "R2 train 0.9430115373218072\n",
            "R2 test: 0.8034206372561521\n",
            "R2 train 0.9502123052651376\n",
            "R2 test: 0.4596915814742736\n",
            "R2 train 0.9637008499846369\n",
            "R2 test: 0.45883225628912244\n",
            "R2 train 0.9408117744210039\n",
            "R2 test: 0.491885854794767\n",
            "R2 train 0.9475982589660021\n",
            "R2 test: 0.7070800916769471\n",
            "R2 train 0.9548841629327129\n",
            "R2 test: 0.45522703440442436\n",
            "R2 train 0.93261572240586\n",
            "R2 test: 0.642689770630506\n",
            "R2 train 0.9595492710260994\n",
            "R2 test: 0.5780527036020093\n",
            "R2 train 0.9589966792147351\n",
            "R2 test: 0.3094992263684798\n",
            "R2 train 0.9516626923559878\n",
            "R2 test: 0.6986636385923202\n",
            "R2 train 0.9418669171651547\n",
            "R2 test: 0.5211895809182345\n",
            "R2 train 0.943463003072765\n",
            "R2 test: 0.5462948040035851\n",
            "R2 train 0.9621705796803686\n",
            "R2 test: 0.72647195267956\n",
            "R2 train 0.948643130551113\n",
            "R2 test: 0.6506075929397688\n",
            "R2 train 0.9426362167431671\n",
            "R2 test: 0.5726544474032855\n",
            "R2 train 0.954385612573577\n",
            "R2 test: 0.502655009132112\n",
            "R2 train 0.9518295251238509\n",
            "R2 test: 0.5584661887918654\n",
            "R2 train 0.934939090997375\n",
            "R2 test: 0.7407593227437368\n",
            "R2 train 0.95034117580476\n",
            "R2 test: 0.3939390745055906\n",
            "R2 train 0.958948660409784\n",
            "R2 test: 0.7884926217497925\n",
            "R2 train 0.9434859137332203\n",
            "R2 test: 0.4904706192129605\n",
            "R2 train 0.9562862107416343\n",
            "R2 test: 0.5263998583561988\n",
            "R2 train 0.9546798693558586\n",
            "R2 test: 0.6250993891815124\n",
            "R2 train 0.9504073158098179\n",
            "R2 test: 0.668691509250869\n",
            "R2 train 0.9229702320019764\n",
            "R2 test: 0.5875222899609687\n",
            "R2 train 0.9358985182567139\n",
            "R2 test: 0.25940794134212897\n",
            "R2 train 0.9474204217576095\n",
            "R2 test: 0.6329692720047392\n",
            "R2 train 0.9354073825574363\n",
            "R2 test: 0.5421259019544685\n",
            "R2 train 0.9278358650915703\n",
            "R2 test: 0.7586794621259189\n",
            "R2 train 0.9471999909589649\n",
            "R2 test: 0.662525612954153\n",
            "R2 train 0.9241362785443001\n",
            "R2 test: 0.6342822510460459\n",
            "R2 train 0.9456826855279777\n",
            "R2 test: 0.6168140399305773\n",
            "R2 train 0.9610213611448243\n",
            "R2 test: 0.50272229463586\n",
            "R2 train 0.9536515028841399\n",
            "R2 test: 0.7313471561697196\n",
            "R2 train 0.9258455321459351\n",
            "R2 test: 0.3648350199763442\n",
            "R2 train 0.9483427124412838\n",
            "R2 test: 0.6978166108965337\n",
            "R2 train 0.9412761052137188\n",
            "R2 test: 0.7415451148781415\n",
            "R2 train 0.9413277942577573\n",
            "R2 test: 0.5691621065087871\n",
            "R2 train 0.9207521497935385\n",
            "R2 test: 0.78410188685217\n",
            "R2 train 0.9470825527760911\n",
            "R2 test: 0.7436262168358946\n",
            "R2 train 0.9462014541884303\n",
            "R2 test: 0.7693353301340384\n",
            "R2 train 0.9367357962921868\n",
            "R2 test: 0.6915850105726021\n",
            "R2 train 0.950249872934867\n",
            "R2 test: 0.627436286688081\n",
            "R2 train 0.9386554600257492\n",
            "R2 test: 0.685954465678302\n",
            "R2 train 0.9526070842036278\n",
            "R2 test: 0.6500815442752051\n",
            "R2 train 0.9520966462463155\n",
            "R2 test: 0.629737216254934\n",
            "R2 train 0.9514828844537967\n",
            "R2 test: 0.793624571157667\n",
            "R2 train 0.9541594521716905\n",
            "R2 test: 0.6992980962219668\n",
            "R2 train 0.9465912823749995\n",
            "R2 test: 0.729393083383187\n",
            "R2 train 0.9595238487195235\n",
            "R2 test: 0.7478677376036953\n",
            "R2 train 0.9439277311620502\n",
            "R2 test: 0.6423599218218758\n",
            "R2 train 0.9320619333794643\n",
            "R2 test: 0.6945229414647667\n",
            "R2 train 0.9301820094085312\n",
            "R2 test: 0.7667375051566443\n",
            "R2 train 0.9405217308088467\n",
            "mean R2 test: 0.6274503570676451\n"
          ],
          "name": "stdout"
        }
      ]
    },
    {
      "cell_type": "markdown",
      "metadata": {
        "id": "WRMw2SGMLHb-"
      },
      "source": [
        "random grid search for random forest"
      ]
    },
    {
      "cell_type": "code",
      "metadata": {
        "colab": {
          "base_uri": "https://localhost:8080/"
        },
        "id": "SxhYyRVNLL9t",
        "outputId": "a98ab454-b185-493e-93d4-8b07c3aa2732"
      },
      "source": [
        "# no. of trees in random forest\n",
        "n_estimators = [int(x) for x in np.linspace(start = 50, stop = 500, num = 50)]\n",
        "# max levels in tree\n",
        "max_depth = [int(x) for x in np.linspace(5, 100, num = 5)]\n",
        "max_depth.append(None)\n",
        "\n",
        "# create the random grid\n",
        "random_grid = {'n_estimators': n_estimators,\n",
        "               'max_depth': max_depth,\n",
        "               }\n",
        "\n",
        "# base model to tune\n",
        "baseForest = RandomForestRegressor()\n",
        "# random search of parameters, using 3 fold cross validation, \n",
        "# search across 100 different combinations, and use all available cores\n",
        "rf_random = RandomizedSearchCV(estimator = baseForest\n",
        "                               , param_distributions = random_grid\n",
        "                               , n_iter = 100, cv = 3, verbose=2\n",
        "                               #, random_state=42\n",
        "                               , n_jobs = -1)\n",
        "\n",
        "# if grid is to run on a different data split, run this:\n",
        "data.tts(rnd = None)\n",
        "# fixed data split:\n",
        "#data.tts(rnd = 42)\n",
        "\n",
        "# single grid search:\n",
        "rf_random.fit(data.X_train, data.y_train)\n",
        "rf_random.best_params_"
      ],
      "execution_count": 20,
      "outputs": [
        {
          "output_type": "stream",
          "text": [
            "Fitting 3 folds for each of 100 candidates, totalling 300 fits\n"
          ],
          "name": "stdout"
        },
        {
          "output_type": "stream",
          "text": [
            "[Parallel(n_jobs=-1)]: Using backend LokyBackend with 2 concurrent workers.\n",
            "[Parallel(n_jobs=-1)]: Done  37 tasks      | elapsed:  7.5min\n",
            "[Parallel(n_jobs=-1)]: Done 158 tasks      | elapsed: 26.9min\n",
            "[Parallel(n_jobs=-1)]: Done 300 out of 300 | elapsed: 53.6min finished\n"
          ],
          "name": "stderr"
        },
        {
          "output_type": "execute_result",
          "data": {
            "text/plain": [
              "{'max_depth': 76, 'n_estimators': 86}"
            ]
          },
          "metadata": {
            "tags": []
          },
          "execution_count": 20
        }
      ]
    },
    {
      "cell_type": "code",
      "metadata": {
        "colab": {
          "base_uri": "https://localhost:8080/"
        },
        "id": "rAPmCrQTjJjB",
        "outputId": "bea1da1f-7005-422c-d11c-06b9a9f11569"
      },
      "source": [
        "forest_opt = RandomForestRegressor(n_estimators=377, max_depth=13)\n",
        "rnd_val(forest_opt)"
      ],
      "execution_count": 22,
      "outputs": [
        {
          "output_type": "stream",
          "text": [
            "R2 test: 0.5801315753780065\n",
            "R2 train 0.9512462870043583\n",
            "R2 test: 0.7535991897006895\n",
            "R2 train 0.9414071223150008\n",
            "R2 test: 0.6293129331213545\n",
            "R2 train 0.948511919301278\n",
            "R2 test: 0.5605796572408259\n",
            "R2 train 0.9594975756523016\n",
            "R2 test: 0.636497128529293\n",
            "R2 train 0.9463063924883115\n",
            "R2 test: 0.7470044310412374\n",
            "R2 train 0.9562804437469578\n",
            "R2 test: 0.7364351838609807\n",
            "R2 train 0.9504606480753958\n",
            "R2 test: 0.5240218852921729\n",
            "R2 train 0.9442568808951834\n",
            "R2 test: 0.6150094082822655\n",
            "R2 train 0.9466349854940962\n",
            "R2 test: 0.675212963281651\n",
            "R2 train 0.9416246249836978\n",
            "R2 test: 0.5834885510787475\n",
            "R2 train 0.9394743025548743\n",
            "R2 test: 0.7166422330425961\n",
            "R2 train 0.9432070727815771\n",
            "R2 test: 0.7641926627909466\n",
            "R2 train 0.9407523021059435\n",
            "R2 test: 0.6375233717458788\n",
            "R2 train 0.9535893403496956\n",
            "R2 test: 0.6585040504949754\n",
            "R2 train 0.9436179653091585\n",
            "R2 test: 0.29426162482524254\n",
            "R2 train 0.9572238884546292\n",
            "R2 test: 0.6761099127879119\n",
            "R2 train 0.9481653877211518\n",
            "R2 test: 0.7106317697954172\n",
            "R2 train 0.9444483465660709\n",
            "R2 test: 0.587889599365475\n",
            "R2 train 0.9320546164461335\n",
            "R2 test: 0.6764063462078951\n",
            "R2 train 0.917263090779755\n",
            "R2 test: 0.6528433781848008\n",
            "R2 train 0.9486423220588477\n",
            "R2 test: 0.8095912512170813\n",
            "R2 train 0.9534137969311856\n",
            "R2 test: 0.6214407662283734\n",
            "R2 train 0.94239325670198\n",
            "R2 test: 0.6501699757219903\n",
            "R2 train 0.9489956563927552\n",
            "R2 test: 0.3797731731954802\n",
            "R2 train 0.9532620870828342\n",
            "R2 test: 0.7356094480287786\n",
            "R2 train 0.9343442077925107\n",
            "R2 test: 0.4302579042289907\n",
            "R2 train 0.9444419976264607\n",
            "R2 test: 0.5523751869344713\n",
            "R2 train 0.9564167389306075\n",
            "R2 test: 0.6673428795276444\n",
            "R2 train 0.9237153408848561\n",
            "R2 test: 0.592167996273204\n",
            "R2 train 0.9359134284955253\n",
            "R2 test: 0.7217320581076733\n",
            "R2 train 0.9464578631226789\n",
            "R2 test: 0.7459026929392886\n",
            "R2 train 0.9498952496968811\n",
            "R2 test: 0.4105811725220341\n",
            "R2 train 0.9441960760692424\n",
            "R2 test: 0.5820853377902032\n",
            "R2 train 0.9344180607404148\n",
            "R2 test: 0.6862532677700985\n",
            "R2 train 0.9436864740072529\n",
            "R2 test: 0.7130523877376818\n",
            "R2 train 0.9226325436127012\n",
            "R2 test: 0.5218445717410867\n",
            "R2 train 0.9521929271023629\n",
            "R2 test: 0.6372002827822043\n",
            "R2 train 0.9458078753739754\n",
            "R2 test: 0.7150623268087675\n",
            "R2 train 0.9323203983697996\n",
            "R2 test: 0.5566310092850475\n",
            "R2 train 0.9517899324029556\n",
            "R2 test: 0.599599714545832\n",
            "R2 train 0.9516153217426483\n",
            "R2 test: 0.7638618435973515\n",
            "R2 train 0.9513122745983078\n",
            "R2 test: 0.4611466032613094\n",
            "R2 train 0.9480911443818835\n",
            "R2 test: 0.6638000086515167\n",
            "R2 train 0.9409969704557604\n",
            "R2 test: 0.6807144805040084\n",
            "R2 train 0.9532789209259388\n",
            "R2 test: 0.4816110714060866\n",
            "R2 train 0.9099451022234025\n",
            "R2 test: 0.6640202958125588\n",
            "R2 train 0.9450201137779507\n",
            "R2 test: 0.30568223136744865\n",
            "R2 train 0.947691113611375\n",
            "R2 test: 0.732090459854266\n",
            "R2 train 0.946340118569818\n",
            "R2 test: 0.7340153420613641\n",
            "R2 train 0.955583209974939\n",
            "R2 test: 0.3184556732363063\n",
            "R2 train 0.9544097464442972\n",
            "R2 test: 0.6625822656910175\n",
            "R2 train 0.9320884057454425\n",
            "R2 test: 0.5074802323298044\n",
            "R2 train 0.9417415548349417\n",
            "R2 test: 0.5480258799998321\n",
            "R2 train 0.9382363581946005\n",
            "R2 test: 0.5949522945795958\n",
            "R2 train 0.9501575456280072\n",
            "R2 test: 0.6399016782469611\n",
            "R2 train 0.9307435611672148\n",
            "R2 test: 0.5999697638879634\n",
            "R2 train 0.950719344310847\n",
            "R2 test: 0.540719597740887\n",
            "R2 train 0.9534389343956665\n",
            "R2 test: 0.7328641724707867\n",
            "R2 train 0.9444213186787922\n",
            "R2 test: 0.7653589996846181\n",
            "R2 train 0.9561134029782693\n",
            "R2 test: 0.6740687142266495\n",
            "R2 train 0.9453393563235345\n",
            "R2 test: 0.6734134354205561\n",
            "R2 train 0.9243952840692256\n",
            "R2 test: 0.44330549271346803\n",
            "R2 train 0.95434149662664\n",
            "R2 test: 0.6888447911708304\n",
            "R2 train 0.9372799061328522\n",
            "R2 test: 0.6774650983861417\n",
            "R2 train 0.9364320358340061\n",
            "R2 test: 0.5429551267063436\n",
            "R2 train 0.9513683786061548\n",
            "R2 test: 0.5196169122502672\n",
            "R2 train 0.9555940854170717\n",
            "R2 test: 0.5177095268507266\n",
            "R2 train 0.9551441384089877\n",
            "R2 test: 0.4549662612799356\n",
            "R2 train 0.9566367781651014\n",
            "R2 test: 0.29554891484037515\n",
            "R2 train 0.9552904873707683\n",
            "R2 test: 0.7176673993290389\n",
            "R2 train 0.9442157851932617\n",
            "R2 test: 0.637917211638459\n",
            "R2 train 0.9361570968297597\n",
            "R2 test: 0.7463319945458555\n",
            "R2 train 0.92716724679829\n",
            "R2 test: 0.7044156763497467\n",
            "R2 train 0.9535382207306645\n",
            "R2 test: 0.6649779294053708\n",
            "R2 train 0.9473687980654972\n",
            "R2 test: 0.6314484552709473\n",
            "R2 train 0.925942611143194\n",
            "R2 test: 0.7144354023293398\n",
            "R2 train 0.957416513538692\n",
            "R2 test: 0.747398709098098\n",
            "R2 train 0.9493537083543209\n",
            "R2 test: 0.6397461454899691\n",
            "R2 train 0.9480334224223066\n",
            "R2 test: 0.25858327780091195\n",
            "R2 train 0.954426886455217\n",
            "R2 test: 0.7228185953571137\n",
            "R2 train 0.9522435389508679\n",
            "R2 test: 0.6829693962063486\n",
            "R2 train 0.9426854837265203\n",
            "R2 test: 0.47337217923782604\n",
            "R2 train 0.9502897688697494\n",
            "R2 test: 0.4799884200913619\n",
            "R2 train 0.9583233152426693\n",
            "R2 test: 0.6717746186105231\n",
            "R2 train 0.9266862712234989\n",
            "R2 test: 0.7014215216941153\n",
            "R2 train 0.9466288458134635\n",
            "R2 test: 0.742541373897504\n",
            "R2 train 0.9382453884243601\n",
            "R2 test: 0.6681681117081143\n",
            "R2 train 0.9374130300407588\n",
            "R2 test: 0.7136560224306359\n",
            "R2 train 0.9540569593291784\n",
            "R2 test: 0.6899638592480142\n",
            "R2 train 0.9476400607431654\n",
            "R2 test: 0.6244271511407757\n",
            "R2 train 0.9475655082855701\n",
            "R2 test: 0.672411798321222\n",
            "R2 train 0.942067144175051\n",
            "R2 test: 0.6487883804414984\n",
            "R2 train 0.9467655344775004\n",
            "R2 test: 0.6389821286438718\n",
            "R2 train 0.9537728357217726\n",
            "R2 test: 0.671441356193874\n",
            "R2 train 0.9480600436603227\n",
            "R2 test: 0.5410181583712703\n",
            "R2 train 0.9492208649139197\n",
            "R2 test: 0.7567524191292907\n",
            "R2 train 0.9337957104179679\n",
            "R2 test: 0.6243315021621819\n",
            "R2 train 0.949651030828879\n",
            "R2 test: 0.6842245175878197\n",
            "R2 train 0.9288541704066291\n",
            "R2 test: 0.7795656482093998\n",
            "R2 train 0.9415667145195123\n",
            "mean R2 test: 0.6228165778760377\n"
          ],
          "name": "stdout"
        }
      ]
    },
    {
      "cell_type": "code",
      "metadata": {
        "colab": {
          "base_uri": "https://localhost:8080/",
          "height": 545
        },
        "id": "mmMtgS_dLWL1",
        "outputId": "aa28837e-5130-4cbd-bcd4-01476572328b"
      },
      "source": [
        "plt_error_hist(forest_opt)"
      ],
      "execution_count": 23,
      "outputs": [
        {
          "output_type": "display_data",
          "data": {
            "image/png": "[encoded data removed]",
            "text/plain": [
              "<Figure size 432x288 with 1 Axes>"
            ]
          },
          "metadata": {
            "tags": [],
            "needs_background": "light"
          }
        },
        {
          "output_type": "display_data",
          "data": {
            "image/png": "[encoded data removed]",
            "text/plain": [
              "<Figure size 432x288 with 1 Axes>"
            ]
          },
          "metadata": {
            "tags": [],
            "needs_background": "light"
          }
        }
      ]
    },
    {
      "cell_type": "markdown",
      "metadata": {
        "id": "f5ouxpw2LZUc"
      },
      "source": [
        "# Gradient Booster"
      ]
    },
    {
      "cell_type": "code",
      "metadata": {
        "colab": {
          "base_uri": "https://localhost:8080/",
          "height": 873
        },
        "id": "2iDLPzcfLd9X",
        "outputId": "e6af453f-efca-4618-896a-1ee1a913feb4"
      },
      "source": [
        "data.tts()\n",
        "booster = GradientBoostingRegressor(random_state=7)\n",
        "booster.fit(data.X_train, data.y_train)\n",
        "\n",
        "get_R2s(booster)\n",
        "plt_y_pred(booster)"
      ],
      "execution_count": 21,
      "outputs": [
        {
          "output_type": "stream",
          "text": [
            "test R2: 0.7437957469661448\n",
            "train R2: 0.9357488921897997\n"
          ],
          "name": "stdout"
        },
        {
          "output_type": "display_data",
          "data": {
            "image/png": "[encoded data removed]",
            "text/plain": [
              "<Figure size 432x288 with 1 Axes>"
            ]
          },
          "metadata": {
            "tags": [],
            "needs_background": "light"
          }
        },
        {
          "output_type": "display_data",
          "data": {
            "image/png": "[encoded data removed]",
            "text/plain": [
              "<Figure size 432x288 with 1 Axes>"
            ]
          },
          "metadata": {
            "tags": [],
            "needs_background": "light"
          }
        },
        {
          "output_type": "display_data",
          "data": {
            "image/png": "[encoded data removed]",
            "text/plain": [
              "<Figure size 432x288 with 1 Axes>"
            ]
          },
          "metadata": {
            "tags": [],
            "needs_background": "light"
          }
        }
      ]
    },
    {
      "cell_type": "markdown",
      "metadata": {
        "id": "w2YV64Y3LtpD"
      },
      "source": [
        "grid search for the gradient booster"
      ]
    },
    {
      "cell_type": "code",
      "metadata": {
        "colab": {
          "base_uri": "https://localhost:8080/"
        },
        "id": "XQVzoDOaLxsW",
        "outputId": "363194e8-5137-40ab-b43b-a1368c514fef"
      },
      "source": [
        "# loss\n",
        "loss = ['ls', 'lad', 'huber', 'quantile']\n",
        "# loss = ['ls', 'huber', 'quantile']\n",
        "# learning rate\n",
        "lr = [0.001, 0.01, 0.1, 1]\n",
        "# subsample below 1 leads to stochastic gradient boosting \n",
        "subs = [0.5, 0.8, 1.0]\n",
        "# max depth\n",
        "maxD = [2, 3, 5]\n",
        "\n",
        "# create the random grid\n",
        "random_grid = {'loss': loss\n",
        "               , 'learning_rate': lr\n",
        "               #, 'subsample': subs\n",
        "               , 'max_depth': maxD\n",
        "               }\n",
        "\n",
        "# base model to tune\n",
        "baseBoost = GradientBoostingRegressor()\n",
        "\n",
        "# random grid search for parameters\n",
        "boost_random = RandomizedSearchCV(estimator = baseBoost\n",
        "                                  , param_distributions = random_grid\n",
        "                                  , n_iter =10           # different combinations to search\n",
        "                                  , cv = 3              # 3 fold cross validation\n",
        "                                  # , verbose=2\n",
        "                                  #, random_state=42\n",
        "                                  , n_jobs = -1         # use all available cores\n",
        "                                  )\n",
        "\n",
        "# if grid is to run on a different data split, run this:\n",
        "data.tts(rnd = None)\n",
        "# fixed data split:\n",
        "# data.tts(rnd = 42)\n",
        "\n",
        "# single grid search:\n",
        "boost_random.fit(data.X_train, data.y_train)\n",
        "boost_random.best_params_"
      ],
      "execution_count": 25,
      "outputs": [
        {
          "output_type": "execute_result",
          "data": {
            "text/plain": [
              "{'learning_rate': 1, 'loss': 'huber', 'max_depth': 2}"
            ]
          },
          "metadata": {
            "tags": []
          },
          "execution_count": 25
        }
      ]
    },
    {
      "cell_type": "code",
      "metadata": {
        "colab": {
          "base_uri": "https://localhost:8080/"
        },
        "id": "O4ZbgMl1L34l",
        "outputId": "99a3890c-b6bc-4ee7-f346-7d9a7c2904f6"
      },
      "source": [
        "booster_opt = GradientBoostingRegressor(learning_rate=0.1   \n",
        "                                        , loss = 'ls'          \n",
        "                                        , max_depth = 3         \n",
        "                                        , n_estimators = 200\n",
        "                                        )\n",
        "\n",
        "rnd_val(booster_opt)"
      ],
      "execution_count": 26,
      "outputs": [
        {
          "output_type": "stream",
          "text": [
            "R2 test: 0.45532496155723046\n",
            "R2 train 0.9489453514274889\n",
            "R2 test: 0.8276302867178427\n",
            "R2 train 0.9666227511709168\n",
            "R2 test: 0.7749750085213584\n",
            "R2 train 0.9600063915195177\n",
            "R2 test: 0.7414109580724695\n",
            "R2 train 0.9608117029202727\n",
            "R2 test: 0.6437116325170633\n",
            "R2 train 0.9716506593129769\n",
            "R2 test: 0.26147225819536857\n",
            "R2 train 0.9722984354924782\n",
            "R2 test: 0.5833417401013898\n",
            "R2 train 0.9707229168290276\n",
            "R2 test: 0.5957244407646287\n",
            "R2 train 0.9737825377457694\n",
            "R2 test: 0.5647409813811375\n",
            "R2 train 0.9708743797040242\n",
            "R2 test: 0.8225887147335665\n",
            "R2 train 0.9582614200217096\n",
            "R2 test: 0.8560762069960499\n",
            "R2 train 0.9692150417088923\n",
            "R2 test: 0.414354337592323\n",
            "R2 train 0.9714505353422418\n",
            "R2 test: 0.7376485983280814\n",
            "R2 train 0.97126487981723\n",
            "R2 test: 0.7509028403331732\n",
            "R2 train 0.966873511662962\n",
            "R2 test: 0.8430194047811512\n",
            "R2 train 0.9595001158319082\n",
            "R2 test: 0.8126199030739486\n",
            "R2 train 0.9694332960123512\n",
            "R2 test: 0.7369656481934228\n",
            "R2 train 0.9687745440861285\n",
            "R2 test: 0.7640728904707291\n",
            "R2 train 0.971298646762494\n",
            "R2 test: 0.8025967090488364\n",
            "R2 train 0.9668279139687825\n",
            "R2 test: 0.7700702220939551\n",
            "R2 train 0.9630100697044535\n",
            "R2 test: 0.6077235278053887\n",
            "R2 train 0.9727984526926463\n",
            "R2 test: 0.6111126762165839\n",
            "R2 train 0.9710543306331229\n",
            "R2 test: 0.7022666990617104\n",
            "R2 train 0.9715722859696521\n",
            "R2 test: 0.6352116825956068\n",
            "R2 train 0.9695338082754427\n",
            "R2 test: 0.6566699925531949\n",
            "R2 train 0.9663739232645343\n",
            "R2 test: 0.6477091287850594\n",
            "R2 train 0.9712211812305882\n",
            "R2 test: 0.45292614349706267\n",
            "R2 train 0.9727438370778858\n",
            "R2 test: 0.5784170230211875\n",
            "R2 train 0.9696210020586212\n",
            "R2 test: 0.8359353939803823\n",
            "R2 train 0.9697200071692511\n",
            "R2 test: 0.8715527968051368\n",
            "R2 train 0.9686871612937135\n",
            "R2 test: 0.7269265902396296\n",
            "R2 train 0.9706486882692213\n",
            "R2 test: 0.42986735896710904\n",
            "R2 train 0.9747964043248118\n",
            "R2 test: 0.8248277996332127\n",
            "R2 train 0.9659698264918203\n",
            "R2 test: 0.7567407176198682\n",
            "R2 train 0.9661917347038463\n",
            "R2 test: 0.7769973378788311\n",
            "R2 train 0.9633210548932748\n",
            "R2 test: 0.7067736769361226\n",
            "R2 train 0.9720671990650933\n",
            "R2 test: 0.865824218447192\n",
            "R2 train 0.9716007130412204\n",
            "R2 test: 0.7253594552385665\n",
            "R2 train 0.9724491247047344\n",
            "R2 test: 0.6674033491696687\n",
            "R2 train 0.9676543114129743\n",
            "R2 test: 0.8072113298015968\n",
            "R2 train 0.9583640604254458\n",
            "R2 test: 0.638414458376792\n",
            "R2 train 0.9746368226810039\n",
            "R2 test: 0.6703603419628708\n",
            "R2 train 0.9736344298983647\n",
            "R2 test: 0.7213243955272106\n",
            "R2 train 0.9734886002901044\n",
            "R2 test: 0.5357631350445873\n",
            "R2 train 0.969041270634231\n",
            "R2 test: 0.5698155944673545\n",
            "R2 train 0.975927384118497\n",
            "R2 test: 0.5509152135458597\n",
            "R2 train 0.9727745574738378\n",
            "R2 test: 0.1767131146402613\n",
            "R2 train 0.9725197091829062\n",
            "R2 test: 0.7480866232288914\n",
            "R2 train 0.9732284529455977\n",
            "R2 test: 0.475705112672895\n",
            "R2 train 0.9662827596952049\n",
            "R2 test: 0.7290267028666281\n",
            "R2 train 0.9714857966149957\n",
            "R2 test: 0.5937700302776405\n",
            "R2 train 0.9736076874963501\n",
            "R2 test: 0.8382959628160097\n",
            "R2 train 0.9670101339796604\n",
            "R2 test: 0.5507264965150477\n",
            "R2 train 0.9705438310287401\n",
            "R2 test: 0.49525361993285283\n",
            "R2 train 0.9641904482235601\n",
            "R2 test: 0.5888197300498009\n",
            "R2 train 0.973080605229854\n",
            "R2 test: 0.8737380057680716\n",
            "R2 train 0.967158332223409\n",
            "R2 test: 0.8354232036878624\n",
            "R2 train 0.9718709267538792\n",
            "R2 test: 0.779582204231491\n",
            "R2 train 0.9665035962822499\n",
            "R2 test: 0.4195035159693197\n",
            "R2 train 0.9692702265375682\n",
            "R2 test: 0.7905995961597508\n",
            "R2 train 0.9667778400612703\n",
            "R2 test: 0.6834556453932592\n",
            "R2 train 0.971580896236871\n",
            "R2 test: 0.7403363199735643\n",
            "R2 train 0.9441936705530009\n",
            "R2 test: 0.817225123193966\n",
            "R2 train 0.965595278958644\n",
            "R2 test: 0.6775996889365523\n",
            "R2 train 0.9683966902652865\n",
            "R2 test: 0.7184372624192065\n",
            "R2 train 0.9704981905724924\n",
            "R2 test: 0.7344521895509037\n",
            "R2 train 0.9723358130863634\n",
            "R2 test: 0.8117957867268781\n",
            "R2 train 0.9699933866967749\n",
            "R2 test: 0.6952107138186755\n",
            "R2 train 0.9721281296174773\n",
            "R2 test: 0.7810918857663812\n",
            "R2 train 0.9628732635085948\n",
            "R2 test: 0.7925422998781757\n",
            "R2 train 0.9639616890316219\n",
            "R2 test: 0.7233308202386144\n",
            "R2 train 0.9714583089939393\n",
            "R2 test: 0.8621292156734419\n",
            "R2 train 0.9677588966816343\n",
            "R2 test: 0.7289084293943271\n",
            "R2 train 0.9691256152372021\n",
            "R2 test: 0.8368468819967128\n",
            "R2 train 0.9649847156685839\n",
            "R2 test: 0.8519212854733809\n",
            "R2 train 0.9692481740421841\n",
            "R2 test: 0.7692669547912783\n",
            "R2 train 0.9684717898245694\n",
            "R2 test: 0.8574425371930908\n",
            "R2 train 0.967739585721582\n",
            "R2 test: 0.4327674330759942\n",
            "R2 train 0.9550413881400921\n",
            "R2 test: 0.704032235756288\n",
            "R2 train 0.9683463968597152\n",
            "R2 test: 0.6734734288441313\n",
            "R2 train 0.9729640698600986\n",
            "R2 test: 0.8270797907344088\n",
            "R2 train 0.9691999565037216\n",
            "R2 test: 0.4650547153239282\n",
            "R2 train 0.9675962600786433\n",
            "R2 test: 0.6378328146142499\n",
            "R2 train 0.9668839421844359\n",
            "R2 test: 0.8815147420930745\n",
            "R2 train 0.9672333846191415\n",
            "R2 test: 0.8303527829978292\n",
            "R2 train 0.9699859002166757\n",
            "R2 test: 0.74255558344406\n",
            "R2 train 0.9644964948373046\n",
            "R2 test: 0.7092439917473383\n",
            "R2 train 0.9626923142598895\n",
            "R2 test: 0.8832584048387201\n",
            "R2 train 0.9713262974714445\n",
            "R2 test: 0.8468722577270775\n",
            "R2 train 0.9559128366184352\n",
            "R2 test: 0.5436407230240885\n",
            "R2 train 0.9703597700505826\n",
            "R2 test: 0.7665161018342812\n",
            "R2 train 0.9639717738554979\n",
            "R2 test: 0.7757952916185955\n",
            "R2 train 0.9617603180965226\n",
            "R2 test: 0.33307905959712486\n",
            "R2 train 0.9572199781833297\n",
            "R2 test: 0.6477564914145715\n",
            "R2 train 0.9707915120874678\n",
            "R2 test: 0.7642207050909837\n",
            "R2 train 0.9596400902396178\n",
            "R2 test: 0.8231123652736257\n",
            "R2 train 0.9657939761794487\n",
            "R2 test: 0.6851659678924051\n",
            "R2 train 0.9725275529069861\n",
            "R2 test: 0.6870173688425982\n",
            "R2 train 0.9738238158397324\n",
            "R2 test: 0.5975681294210082\n",
            "R2 train 0.9740826267176962\n",
            "R2 test: 0.7741135722756655\n",
            "R2 train 0.9714315027490277\n",
            "mean R2 test: 0.6934255869736848\n"
          ],
          "name": "stdout"
        }
      ]
    },
    {
      "cell_type": "code",
      "metadata": {
        "colab": {
          "base_uri": "https://localhost:8080/",
          "height": 839
        },
        "id": "q93FwAt7vP6t",
        "outputId": "d483231d-7a4a-4c8d-bb61-abb3353ee11e"
      },
      "source": [
        "plt_y_pred(booster_opt)"
      ],
      "execution_count": 27,
      "outputs": [
        {
          "output_type": "display_data",
          "data": {
            "image/png": "[encoded data removed]",
            "text/plain": [
              "<Figure size 432x288 with 1 Axes>"
            ]
          },
          "metadata": {
            "tags": [],
            "needs_background": "light"
          }
        },
        {
          "output_type": "display_data",
          "data": {
            "image/png": "[encoded data removed]",
            "text/plain": [
              "<Figure size 432x288 with 1 Axes>"
            ]
          },
          "metadata": {
            "tags": [],
            "needs_background": "light"
          }
        },
        {
          "output_type": "display_data",
          "data": {
            "image/png": "[encoded data removed]",
            "text/plain": [
              "<Figure size 432x288 with 1 Axes>"
            ]
          },
          "metadata": {
            "tags": [],
            "needs_background": "light"
          }
        }
      ]
    },
    {
      "cell_type": "code",
      "metadata": {
        "colab": {
          "base_uri": "https://localhost:8080/",
          "height": 545
        },
        "id": "BzLS6A3XL_3G",
        "outputId": "0d7b698f-0625-43da-8e41-eef641ebf3e5"
      },
      "source": [
        "plt_error_hist(booster_opt)"
      ],
      "execution_count": 28,
      "outputs": [
        {
          "output_type": "display_data",
          "data": {
            "image/png": "[encoded data removed]",
            "text/plain": [
              "<Figure size 432x288 with 1 Axes>"
            ]
          },
          "metadata": {
            "tags": [],
            "needs_background": "light"
          }
        },
        {
          "output_type": "display_data",
          "data": {
            "image/png": "[encoded data removed]",
            "text/plain": [
              "<Figure size 432x288 with 1 Axes>"
            ]
          },
          "metadata": {
            "tags": [],
            "needs_background": "light"
          }
        }
      ]
    },
    {
      "cell_type": "markdown",
      "metadata": {
        "id": "bLZwtKJJMLLP"
      },
      "source": [
        "## Boosting Stochastic Gradient Descent Regressor"
      ]
    },
    {
      "cell_type": "code",
      "metadata": {
        "colab": {
          "base_uri": "https://localhost:8080/",
          "height": 873
        },
        "id": "ClHrGWe5MIf3",
        "outputId": "ce89167d-5fa4-43ee-a94f-b90d950c8292"
      },
      "source": [
        "data.tts() \n",
        "booster_SGD = GradientBoostingRegressor(random_state=7\n",
        "                                        , subsample = 0.8\n",
        "                                        , max_depth=5       \n",
        "                                        , n_estimators = 200\n",
        "                                        )\n",
        "     \n",
        "booster_SGD.fit(data.X_train, data.y_train)\n",
        "\n",
        "get_R2s(booster_SGD)\n",
        "plt_y_pred(booster_SGD)"
      ],
      "execution_count": 23,
      "outputs": [
        {
          "output_type": "stream",
          "text": [
            "test R2: 0.8227613040294448\n",
            "train R2: 0.9941964384135061\n"
          ],
          "name": "stdout"
        },
        {
          "output_type": "display_data",
          "data": {
            "image/png": "[encoded data removed]",
            "text/plain": [
              "<Figure size 432x288 with 1 Axes>"
            ]
          },
          "metadata": {
            "tags": [],
            "needs_background": "light"
          }
        },
        {
          "output_type": "display_data",
          "data": {
            "image/png": "[encoded data removed]",
            "text/plain": [
              "<Figure size 432x288 with 1 Axes>"
            ]
          },
          "metadata": {
            "tags": [],
            "needs_background": "light"
          }
        },
        {
          "output_type": "display_data",
          "data": {
            "image/png": "[encoded data removed]",
            "text/plain": [
              "<Figure size 432x288 with 1 Axes>"
            ]
          },
          "metadata": {
            "tags": [],
            "needs_background": "light"
          }
        }
      ]
    },
    {
      "cell_type": "code",
      "metadata": {
        "colab": {
          "base_uri": "https://localhost:8080/"
        },
        "id": "_z-qdWepI4Lz",
        "outputId": "cb6a2509-5822-4ffa-fc49-0bf1080dd08b"
      },
      "source": [
        "rnd_val(booster_SGD)"
      ],
      "execution_count": 24,
      "outputs": [
        {
          "output_type": "stream",
          "text": [
            "R2 test: 0.6641233197841312\n",
            "R2 train 0.9959851146028258\n",
            "R2 test: 0.6315204563567345\n",
            "R2 train 0.9960360748164014\n",
            "R2 test: 0.4188878822049101\n",
            "R2 train 0.9957245812229953\n",
            "R2 test: 0.7095766755634418\n",
            "R2 train 0.995937939230531\n",
            "R2 test: 0.5531821000428376\n",
            "R2 train 0.9952584149081993\n",
            "R2 test: 0.6257077348499334\n",
            "R2 train 0.9961772701315087\n",
            "R2 test: 0.7688191730897508\n",
            "R2 train 0.9949681639924235\n",
            "R2 test: 0.40580562844831214\n",
            "R2 train 0.993914198032683\n",
            "R2 test: 0.7902034142657723\n",
            "R2 train 0.99525303025165\n",
            "R2 test: 0.612812127379684\n",
            "R2 train 0.9962329428056348\n",
            "R2 test: 0.623914026599689\n",
            "R2 train 0.9961496377230341\n",
            "R2 test: 0.6388852740041783\n",
            "R2 train 0.9960462475010537\n",
            "R2 test: 0.897656574205465\n",
            "R2 train 0.9953557611735993\n",
            "R2 test: 0.738327560163436\n",
            "R2 train 0.9955590017806063\n",
            "R2 test: 0.4462473094541304\n",
            "R2 train 0.9957641392458637\n",
            "R2 test: 0.8843818056658543\n",
            "R2 train 0.9955825706592459\n",
            "R2 test: 0.74105467999712\n",
            "R2 train 0.9960554347481884\n",
            "R2 test: 0.8054090441001611\n",
            "R2 train 0.995203203782179\n",
            "R2 test: 0.7706376311757114\n",
            "R2 train 0.9958408655617705\n",
            "R2 test: 0.35125499515453085\n",
            "R2 train 0.9954867624475239\n",
            "R2 test: 0.7897128952200564\n",
            "R2 train 0.9955300897727595\n",
            "R2 test: 0.7044552721281163\n",
            "R2 train 0.9957428355973659\n",
            "R2 test: 0.7444009243288638\n",
            "R2 train 0.9946514412310682\n",
            "R2 test: 0.8016881048906694\n",
            "R2 train 0.994413759482607\n",
            "R2 test: 0.763463705376356\n",
            "R2 train 0.9951973669924097\n",
            "R2 test: 0.7647683443465123\n",
            "R2 train 0.9946281867927311\n",
            "R2 test: 0.7645517497329312\n",
            "R2 train 0.9956858601526329\n",
            "R2 test: 0.6763410701565381\n",
            "R2 train 0.9955032169660409\n",
            "R2 test: 0.705722663189181\n",
            "R2 train 0.9958520732430034\n",
            "R2 test: 0.7241216433411892\n",
            "R2 train 0.995424082383813\n",
            "R2 test: 0.865577426295264\n",
            "R2 train 0.9956528526819791\n",
            "R2 test: 0.861989918255679\n",
            "R2 train 0.9957968605988086\n",
            "R2 test: 0.9145970903575216\n",
            "R2 train 0.9947358612773735\n",
            "R2 test: 0.6676691003915881\n",
            "R2 train 0.9957422556011138\n",
            "R2 test: 0.7588290478699389\n",
            "R2 train 0.9957240708307045\n",
            "R2 test: 0.6785215519162258\n",
            "R2 train 0.9958653372632867\n",
            "R2 test: 0.7695509502741991\n",
            "R2 train 0.9957034625470931\n",
            "R2 test: 0.7952454195376228\n",
            "R2 train 0.9951946138603431\n",
            "R2 test: 0.7518287071215202\n",
            "R2 train 0.9956043101220994\n",
            "R2 test: 0.5887137002964868\n",
            "R2 train 0.9963115535138366\n",
            "R2 test: 0.6121721030868272\n",
            "R2 train 0.9960360389238886\n",
            "R2 test: 0.7924610700270383\n",
            "R2 train 0.9950696285568658\n",
            "R2 test: 0.8631306380603779\n",
            "R2 train 0.9956684995836553\n",
            "R2 test: 0.4174938562884164\n",
            "R2 train 0.9934980404346682\n",
            "R2 test: 0.8316240377865118\n",
            "R2 train 0.9961364049261674\n",
            "R2 test: 0.5928212453595325\n",
            "R2 train 0.9960408789192607\n",
            "R2 test: 0.677713570312749\n",
            "R2 train 0.9955876013833259\n",
            "R2 test: 0.7867675330216133\n",
            "R2 train 0.9957399019656794\n",
            "R2 test: 0.8279431139094314\n",
            "R2 train 0.9958684768978129\n",
            "R2 test: 0.6827451277435417\n",
            "R2 train 0.9962022818615904\n",
            "R2 test: 0.8108580776613699\n",
            "R2 train 0.995454766924321\n",
            "R2 test: 0.7246357031140502\n",
            "R2 train 0.9955987074350092\n",
            "R2 test: 0.7971767173611023\n",
            "R2 train 0.9946987409299667\n",
            "R2 test: 0.7831455545020081\n",
            "R2 train 0.9937052185706738\n",
            "R2 test: 0.8204889567297118\n",
            "R2 train 0.9944782101820979\n",
            "R2 test: 0.7283781532952469\n",
            "R2 train 0.9959254472263153\n",
            "R2 test: 0.6634169080906576\n",
            "R2 train 0.9932223326386328\n",
            "R2 test: 0.8241405301931343\n",
            "R2 train 0.9942590858299285\n",
            "R2 test: 0.7667582623954389\n",
            "R2 train 0.9957308127226014\n",
            "R2 test: 0.7363740135064916\n",
            "R2 train 0.9958901596981976\n",
            "R2 test: 0.7657696484644628\n",
            "R2 train 0.9957130115914816\n",
            "R2 test: 0.7605665734884562\n",
            "R2 train 0.995479750555426\n",
            "R2 test: 0.49368193410222727\n",
            "R2 train 0.9952202396270237\n",
            "R2 test: 0.784637614007364\n",
            "R2 train 0.9959585539638274\n",
            "R2 test: 0.766330017135486\n",
            "R2 train 0.9952265969655206\n",
            "R2 test: 0.8339321791499958\n",
            "R2 train 0.9958172519499662\n",
            "R2 test: 0.4867394603593805\n",
            "R2 train 0.995277285120785\n",
            "R2 test: 0.8617185528382653\n",
            "R2 train 0.9952892883051747\n",
            "R2 test: 0.730245169457395\n",
            "R2 train 0.9958260648619945\n",
            "R2 test: 0.553745624599234\n",
            "R2 train 0.9958414946298729\n",
            "R2 test: 0.6151404555643208\n",
            "R2 train 0.9963872797980207\n",
            "R2 test: 0.5925893880480226\n",
            "R2 train 0.9961755447330534\n",
            "R2 test: 0.7273596567619642\n",
            "R2 train 0.9962405238668376\n",
            "R2 test: 0.7311294329506994\n",
            "R2 train 0.9953838986897565\n",
            "R2 test: 0.5435387550700874\n",
            "R2 train 0.9960149404256455\n",
            "R2 test: 0.6791923053872677\n",
            "R2 train 0.9956415334494795\n",
            "R2 test: 0.8681474257840078\n",
            "R2 train 0.9956777237426035\n",
            "R2 test: 0.69153609517825\n",
            "R2 train 0.9961059398487166\n",
            "R2 test: 0.8294266353123921\n",
            "R2 train 0.9943292478923514\n",
            "R2 test: 0.8949886618799682\n",
            "R2 train 0.995622137929478\n",
            "R2 test: 0.7195426810151878\n",
            "R2 train 0.9959286783255005\n",
            "R2 test: 0.7455548310838382\n",
            "R2 train 0.9955308379541895\n",
            "R2 test: 0.296711746716091\n",
            "R2 train 0.9940871955122363\n",
            "R2 test: 0.7087015737775862\n",
            "R2 train 0.9954137760217002\n",
            "R2 test: 0.8066380919952684\n",
            "R2 train 0.9962725781009826\n",
            "R2 test: 0.6836090683426095\n",
            "R2 train 0.9931431770062749\n",
            "R2 test: 0.6832158296447846\n",
            "R2 train 0.9957801038669981\n",
            "R2 test: 0.7926405837207132\n",
            "R2 train 0.9959525605141645\n",
            "R2 test: 0.5477016022773542\n",
            "R2 train 0.9951607744743268\n",
            "R2 test: 0.6459060138988478\n",
            "R2 train 0.9961805992027207\n",
            "R2 test: 0.5549018456794441\n",
            "R2 train 0.9957879193671295\n",
            "R2 test: 0.6982268098561957\n",
            "R2 train 0.9961796700389257\n",
            "R2 test: 0.8153201904423029\n",
            "R2 train 0.9958014237561263\n",
            "R2 test: 0.6313554492305327\n",
            "R2 train 0.9960930993995138\n",
            "R2 test: 0.7445331991546713\n",
            "R2 train 0.9959200078261837\n",
            "R2 test: 0.5077007031575834\n",
            "R2 train 0.9964296786451431\n",
            "R2 test: 0.5759480445835687\n",
            "R2 train 0.9960105333068112\n",
            "R2 test: 0.8380627380957157\n",
            "R2 train 0.995846489897833\n",
            "R2 test: 0.841453180432517\n",
            "R2 train 0.9936849209732236\n",
            "R2 test: 0.842206924146469\n",
            "R2 train 0.9954704085087043\n",
            "mean R2 test: 0.7080074856276802\n"
          ],
          "name": "stdout"
        }
      ]
    },
    {
      "cell_type": "code",
      "metadata": {
        "colab": {
          "base_uri": "https://localhost:8080/",
          "height": 181
        },
        "id": "ZxWOUW3PFBm-",
        "outputId": "21587356-4402-4f58-fc12-a5d819a09fa6"
      },
      "source": [
        " plt_y_pred(booster_SGD)"
      ],
      "execution_count": 1,
      "outputs": [
        {
          "output_type": "error",
          "ename": "NameError",
          "evalue": "ignored",
          "traceback": [
            "\u001b[0;31m---------------------------------------------------------------------------\u001b[0m",
            "\u001b[0;31mNameError\u001b[0m                                 Traceback (most recent call last)",
            "\u001b[0;32m<ipython-input-1-7fc02b30dea9>\u001b[0m in \u001b[0;36m<module>\u001b[0;34m()\u001b[0m\n\u001b[0;32m----> 1\u001b[0;31m \u001b[0mrnd_val\u001b[0m\u001b[0;34m(\u001b[0m\u001b[0mbooster_SGD\u001b[0m\u001b[0;34m)\u001b[0m\u001b[0;34m\u001b[0m\u001b[0;34m\u001b[0m\u001b[0m\n\u001b[0m\u001b[1;32m      2\u001b[0m \u001b[0mplt_y_pred\u001b[0m\u001b[0;34m(\u001b[0m\u001b[0mbooster_SGD\u001b[0m\u001b[0;34m)\u001b[0m\u001b[0;34m\u001b[0m\u001b[0;34m\u001b[0m\u001b[0m\n",
            "\u001b[0;31mNameError\u001b[0m: name 'rnd_val' is not defined"
          ]
        }
      ]
    },
    {
      "cell_type": "markdown",
      "metadata": {
        "id": "Skvg36OEMZKc"
      },
      "source": [
        "# Ada Boost"
      ]
    },
    {
      "cell_type": "code",
      "metadata": {
        "colab": {
          "base_uri": "https://localhost:8080/",
          "height": 1000
        },
        "id": "DmGVBU-zMa8I",
        "outputId": "e53b46f1-0c9c-48bd-ccf2-3dcc17a3c350"
      },
      "source": [
        "ada = AdaBoostRegressor(base_estimator = DecisionTreeRegressor())\n",
        "rnd_val(ada)\n",
        "plt_y_pred(ada)"
      ],
      "execution_count": 32,
      "outputs": [
        {
          "output_type": "stream",
          "text": [
            "R2 test: 0.7720140320477277\n",
            "R2 train 0.999845591320093\n",
            "R2 test: 0.7613657358130976\n",
            "R2 train 0.9998252016615234\n",
            "R2 test: 0.4654921654341452\n",
            "R2 train 0.9997919341087038\n",
            "R2 test: 0.6074327050860813\n",
            "R2 train 0.9996988450002654\n",
            "R2 test: 0.6862600090126787\n",
            "R2 train 0.9998355468027271\n",
            "R2 test: 0.6289399520927709\n",
            "R2 train 0.9998635087296973\n",
            "R2 test: 0.5063584326859327\n",
            "R2 train 0.9997523409090079\n",
            "R2 test: 0.6647369161697808\n",
            "R2 train 0.9998886561196187\n",
            "R2 test: 0.6636371837116386\n",
            "R2 train 0.9997672634232047\n",
            "R2 test: 0.5862216701655829\n",
            "R2 train 0.9998589877884348\n",
            "R2 test: 0.4510978881042581\n",
            "R2 train 0.9998699136481037\n",
            "R2 test: 0.3684965806863212\n",
            "R2 train 0.9998950267074013\n",
            "R2 test: 0.8688164414915849\n",
            "R2 train 0.9997777604378442\n",
            "R2 test: 0.8398432844370107\n",
            "R2 train 0.9997380573245894\n",
            "R2 test: 0.6172795400706976\n",
            "R2 train 0.9997940008302589\n",
            "R2 test: 0.4337418748889529\n",
            "R2 train 0.9998753870041659\n",
            "R2 test: 0.3713018627119685\n",
            "R2 train 0.9999084789997402\n",
            "R2 test: 0.6311538632942304\n",
            "R2 train 0.9997948080795421\n",
            "R2 test: 0.8500665812203685\n",
            "R2 train 0.9998133910556867\n",
            "R2 test: 0.5469360175383489\n",
            "R2 train 0.9998129396717531\n",
            "R2 test: 0.777077753713051\n",
            "R2 train 0.9998150473153644\n",
            "R2 test: 0.5851653075758432\n",
            "R2 train 0.9998948672670072\n",
            "R2 test: 0.7247782289767779\n",
            "R2 train 0.9998170340948722\n",
            "R2 test: 0.5634383660809388\n",
            "R2 train 0.9997642926718835\n",
            "R2 test: 0.6845501341179046\n",
            "R2 train 0.999838228907502\n",
            "R2 test: 0.7470559737533712\n",
            "R2 train 0.9999009296516428\n",
            "R2 test: 0.6119164104302007\n",
            "R2 train 0.9997952356596223\n",
            "R2 test: 0.7884437578839523\n",
            "R2 train 0.9996239470829866\n",
            "R2 test: 0.5526512979174838\n",
            "R2 train 0.9997864992633922\n",
            "R2 test: 0.7014216976309879\n",
            "R2 train 0.9998175882630154\n",
            "R2 test: 0.6477467861919444\n",
            "R2 train 0.9998212849600775\n",
            "R2 test: 0.807017935442722\n",
            "R2 train 0.9997783359364597\n",
            "R2 test: 0.7874958516659735\n",
            "R2 train 0.9998343980674917\n",
            "R2 test: 0.6900295195003574\n",
            "R2 train 0.9998978806789794\n",
            "R2 test: 0.6246535661262757\n",
            "R2 train 0.9997841776357408\n",
            "R2 test: 0.7087710684643744\n",
            "R2 train 0.999900403909119\n",
            "R2 test: 0.601842686320784\n",
            "R2 train 0.9998504461486237\n",
            "R2 test: 0.6190649850865122\n",
            "R2 train 0.9997690914401078\n",
            "R2 test: 0.723471783987035\n",
            "R2 train 0.9998757962869009\n",
            "R2 test: 0.7448876860238312\n",
            "R2 train 0.999611125256983\n",
            "R2 test: 0.5196761050936756\n",
            "R2 train 0.9998483389720567\n",
            "R2 test: 0.5873463170817301\n",
            "R2 train 0.9997805192117007\n",
            "R2 test: 0.6234938716227473\n",
            "R2 train 0.9997923340482369\n",
            "R2 test: 0.7551972719830528\n",
            "R2 train 0.9998618201101888\n",
            "R2 test: 0.6250104661688118\n",
            "R2 train 0.9997691391389283\n",
            "R2 test: 0.2479380283322148\n",
            "R2 train 0.9997059234573399\n",
            "R2 test: 0.5936269180092906\n",
            "R2 train 0.9998534037061206\n",
            "R2 test: 0.8160514278906855\n",
            "R2 train 0.9996451104338745\n",
            "R2 test: 0.808415172308567\n",
            "R2 train 0.9997897992404731\n",
            "R2 test: 0.5316428515963973\n",
            "R2 train 0.9998583171864447\n",
            "R2 test: 0.8145655310014358\n",
            "R2 train 0.999789344498855\n",
            "R2 test: 0.7869704350345379\n",
            "R2 train 0.999771084439318\n",
            "R2 test: 0.5743515505857724\n",
            "R2 train 0.9997916143432249\n",
            "R2 test: 0.81564482309236\n",
            "R2 train 0.9998613314379983\n",
            "R2 test: 0.8057111074822016\n",
            "R2 train 0.9998714945868011\n",
            "R2 test: 0.7975670877043615\n",
            "R2 train 0.9998652363801481\n",
            "R2 test: 0.4776798792820071\n",
            "R2 train 0.9998243425476017\n",
            "R2 test: 0.522309535433501\n",
            "R2 train 0.9998596739194465\n",
            "R2 test: 0.7627645886400487\n",
            "R2 train 0.999889210215402\n",
            "R2 test: 0.5253017502535284\n",
            "R2 train 0.9998661643469852\n",
            "R2 test: 0.5694839951850998\n",
            "R2 train 0.9998498910802002\n",
            "R2 test: 0.6469265254203008\n",
            "R2 train 0.9998513645297064\n",
            "R2 test: 0.5670302209834728\n",
            "R2 train 0.9998561635202419\n",
            "R2 test: 0.7667456212192486\n",
            "R2 train 0.9998636777627669\n",
            "R2 test: 0.6178218752462556\n",
            "R2 train 0.9997927121568888\n",
            "R2 test: 0.7761425970551071\n",
            "R2 train 0.9998645024971116\n",
            "R2 test: 0.44746506807983166\n",
            "R2 train 0.9998943003236819\n",
            "R2 test: 0.7275663855165126\n",
            "R2 train 0.9998443402059355\n",
            "R2 test: 0.6984731552654173\n",
            "R2 train 0.9997825312121384\n",
            "R2 test: 0.7177565748407553\n",
            "R2 train 0.9998113994870539\n",
            "R2 test: 0.7291387794284285\n",
            "R2 train 0.9998935923744106\n",
            "R2 test: 0.8323445152081832\n",
            "R2 train 0.9997974417166983\n",
            "R2 test: 0.6978702587416001\n",
            "R2 train 0.9998299166399482\n",
            "R2 test: 0.8449732000747504\n",
            "R2 train 0.9997537709861245\n",
            "R2 test: 0.8433605233509364\n",
            "R2 train 0.9998758651174319\n",
            "R2 test: 0.7021369713692436\n",
            "R2 train 0.9998520816172858\n",
            "R2 test: 0.8468192482748021\n",
            "R2 train 0.9996460731050122\n",
            "R2 test: 0.8017605095591466\n",
            "R2 train 0.9997460028963555\n",
            "R2 test: 0.2520616982405305\n",
            "R2 train 0.9998193403506034\n",
            "R2 test: 0.5724450852490055\n",
            "R2 train 0.9997310155174646\n",
            "R2 test: 0.5603793480510716\n",
            "R2 train 0.9998664956778821\n",
            "R2 test: 0.6281190100643512\n",
            "R2 train 0.9998240047671751\n",
            "R2 test: 0.7378628132989403\n",
            "R2 train 0.9998198863401168\n",
            "R2 test: 0.6679907900260471\n",
            "R2 train 0.999855512672501\n",
            "R2 test: 0.6548415966720439\n",
            "R2 train 0.9998577012223274\n",
            "R2 test: 0.8564499562838928\n",
            "R2 train 0.9996125116767813\n",
            "R2 test: 0.8271809738815705\n",
            "R2 train 0.9998864319432714\n",
            "R2 test: 0.3871659281158375\n",
            "R2 train 0.9999115116617788\n",
            "R2 test: 0.6371308217699017\n",
            "R2 train 0.999862898277505\n",
            "R2 test: 0.36499582380420104\n",
            "R2 train 0.9998778009907926\n",
            "R2 test: 0.41669857808349786\n",
            "R2 train 0.999732917707497\n",
            "R2 test: 0.5712035414642831\n",
            "R2 train 0.9996653197078225\n",
            "R2 test: 0.8044442938746788\n",
            "R2 train 0.9997421553748942\n",
            "R2 test: 0.697876179159985\n",
            "R2 train 0.9996921807565713\n",
            "R2 test: 0.6659322881736183\n",
            "R2 train 0.999755573726569\n",
            "R2 test: 0.6444479760800946\n",
            "R2 train 0.999758775194962\n",
            "R2 test: 0.49988471426564396\n",
            "R2 train 0.999923202990728\n",
            "R2 test: 0.5972064570380048\n",
            "R2 train 0.9998645338633688\n",
            "R2 test: 0.7264245355732529\n",
            "R2 train 0.9998642301752944\n",
            "R2 test: 0.37705928472092665\n",
            "R2 train 0.9998404542702027\n",
            "mean R2 test: 0.649855559708609\n"
          ],
          "name": "stdout"
        },
        {
          "output_type": "display_data",
          "data": {
            "image/png": "[encoded data removed]",
            "text/plain": [
              "<Figure size 432x288 with 1 Axes>"
            ]
          },
          "metadata": {
            "tags": [],
            "needs_background": "light"
          }
        },
        {
          "output_type": "display_data",
          "data": {
            "image/png": "[encoded data removed]",
            "text/plain": [
              "<Figure size 432x288 with 1 Axes>"
            ]
          },
          "metadata": {
            "tags": [],
            "needs_background": "light"
          }
        },
        {
          "output_type": "display_data",
          "data": {
            "image/png": "[encoded data removed]",
            "text/plain": [
              "<Figure size 432x288 with 1 Axes>"
            ]
          },
          "metadata": {
            "tags": [],
            "needs_background": "light"
          }
        }
      ]
    },
    {
      "cell_type": "code",
      "metadata": {
        "colab": {
          "base_uri": "https://localhost:8080/",
          "height": 545
        },
        "id": "zCo8jsNwMe9v",
        "outputId": "6610f7e0-c1ee-493d-dfa4-ba09d52abbd8"
      },
      "source": [
        "plt_error_hist(ada)"
      ],
      "execution_count": 33,
      "outputs": [
        {
          "output_type": "display_data",
          "data": {
            "image/png": "[encoded data removed]",
            "text/plain": [
              "<Figure size 432x288 with 1 Axes>"
            ]
          },
          "metadata": {
            "tags": [],
            "needs_background": "light"
          }
        },
        {
          "output_type": "display_data",
          "data": {
            "image/png": "[encoded data removed]",
            "text/plain": [
              "<Figure size 432x288 with 1 Axes>"
            ]
          },
          "metadata": {
            "tags": [],
            "needs_background": "light"
          }
        }
      ]
    }
  ]
}