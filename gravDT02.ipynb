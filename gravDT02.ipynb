{
  "nbformat": 4,
  "nbformat_minor": 0,
  "metadata": {
    "colab": {
      "name": "gravDT02.ipynb",
      "provenance": [],
      "collapsed_sections": [],
      "toc_visible": true,
      "authorship_tag": "ABX9TyMRTDR/Aw+IHTSJ7HJP2922",
      "include_colab_link": true
    },
    "kernelspec": {
      "name": "python3",
      "display_name": "Python 3"
    },
    "language_info": {
      "name": "python"
    }
  },
  "cells": [
    {
      "cell_type": "markdown",
      "metadata": {
        "id": "view-in-github",
        "colab_type": "text"
      },
      "source": [
        "<a href=\"https://colab.research.google.com/github/adriennebohlmann/DecisionTrees_on_Gravity/blob/main/gravDT02.ipynb\" target=\"_parent\"><img src=\"https://colab.research.google.com/assets/colab-badge.svg\" alt=\"Open In Colab\"/></a>"
      ]
    },
    {
      "cell_type": "code",
      "metadata": {
        "colab": {
          "base_uri": "https://localhost:8080/"
        },
        "id": "CSYkPI1hcv7f",
        "outputId": "35e22d62-b7e1-4ea7-c9aa-93bd2f26559d"
      },
      "source": [
        "from google.colab import drive\n",
        "drive.mount('/content/gdrive')"
      ],
      "execution_count": null,
      "outputs": [
        {
          "output_type": "stream",
          "text": [
            "Mounted at /content/gdrive\n"
          ],
          "name": "stdout"
        }
      ]
    },
    {
      "cell_type": "code",
      "metadata": {
        "id": "vhxFkyxUc2nC"
      },
      "source": [
        "import pandas as pd\n",
        "import numpy as np\n",
        "from sklearn.model_selection import train_test_split, RandomizedSearchCV, GridSearchCV\n",
        "from sklearn.tree import DecisionTreeRegressor\n",
        "from sklearn.ensemble import RandomForestRegressor, GradientBoostingRegressor, AdaBoostRegressor\n",
        "import matplotlib.pyplot as plt "
      ],
      "execution_count": null,
      "outputs": []
    },
    {
      "cell_type": "code",
      "metadata": {
        "colab": {
          "base_uri": "https://localhost:8080/"
        },
        "id": "40fLVMc5c5eP",
        "outputId": "3e4fd61a-68f5-475a-af7d-4b6dad193bf1"
      },
      "source": [
        "gravd = pd.read_csv('/content/gdrive/MyDrive/gravity/gravd.csv')\n",
        "gravd.columns"
      ],
      "execution_count": null,
      "outputs": [
        {
          "output_type": "execute_result",
          "data": {
            "text/plain": [
              "Index(['year', 'iso_o', 'iso_d', 'contig', 'comlang_off', 'distw', 'pop_o',\n",
              "       'gdp_o', 'gdpcap_o', 'iso2_o', 'pop_d', 'gdp_d', 'gdpcap_d', 'iso2_d',\n",
              "       'heg_d', 'conflict', 'indepdate', 'heg_o', 'col_to', 'col_fr',\n",
              "       'col_hist', 'col_cur', 'sever', 'sib_conflict', 'gatt_o', 'gatt_d',\n",
              "       'rta', 'comleg', 'comcur', 'acp_to_eu', 'gsp', 'eu_to_acp', 'gsp_rec',\n",
              "       'flow', 'validmirror', 'family', 'isl_o', 'isl_d', 'lndl_o', 'lndl_d'],\n",
              "      dtype='object')"
            ]
          },
          "metadata": {
            "tags": []
          },
          "execution_count": 4
        }
      ]
    },
    {
      "cell_type": "code",
      "metadata": {
        "colab": {
          "base_uri": "https://localhost:8080/"
        },
        "id": "nQsgm7QPc9lS",
        "outputId": "a27f6584-32a5-40f5-b5c9-06660e32ab17"
      },
      "source": [
        "gravd = gravd[['flow', 'distw'\n",
        "                     , 'gdp_o', 'gdp_d'\n",
        "                     , 'contig', 'comlang_off', 'col_hist'\n",
        "                     , 'isl_o', 'isl_d', 'lndl_o', 'lndl_d'\n",
        "                     ]]\n",
        "gravd.isna().sum()"
      ],
      "execution_count": null,
      "outputs": [
        {
          "output_type": "execute_result",
          "data": {
            "text/plain": [
              "flow              0\n",
              "distw             0\n",
              "gdp_o          2006\n",
              "gdp_d          1606\n",
              "contig            0\n",
              "comlang_off       0\n",
              "col_hist          0\n",
              "isl_o             0\n",
              "isl_d             0\n",
              "lndl_o            0\n",
              "lndl_d            0\n",
              "dtype: int64"
            ]
          },
          "metadata": {
            "tags": []
          },
          "execution_count": 5
        }
      ]
    },
    {
      "cell_type": "markdown",
      "metadata": {
        "id": "NyVe_uNjGvmW"
      },
      "source": [
        "drop nans and show correalation"
      ]
    },
    {
      "cell_type": "code",
      "metadata": {
        "colab": {
          "base_uri": "https://localhost:8080/",
          "height": 390
        },
        "id": "85hVr120dAUK",
        "outputId": "1143eb06-89c2-47eb-e534-7515235e32ba"
      },
      "source": [
        "gravd = gravd.dropna()\n",
        "gravd.corr()"
      ],
      "execution_count": null,
      "outputs": [
        {
          "output_type": "execute_result",
          "data": {
            "text/html": [
              "<div>\n",
              "<style scoped>\n",
              "    .dataframe tbody tr th:only-of-type {\n",
              "        vertical-align: middle;\n",
              "    }\n",
              "\n",
              "    .dataframe tbody tr th {\n",
              "        vertical-align: top;\n",
              "    }\n",
              "\n",
              "    .dataframe thead th {\n",
              "        text-align: right;\n",
              "    }\n",
              "</style>\n",
              "<table border=\"1\" class=\"dataframe\">\n",
              "  <thead>\n",
              "    <tr style=\"text-align: right;\">\n",
              "      <th></th>\n",
              "      <th>flow</th>\n",
              "      <th>distw</th>\n",
              "      <th>gdp_o</th>\n",
              "      <th>gdp_d</th>\n",
              "      <th>contig</th>\n",
              "      <th>comlang_off</th>\n",
              "      <th>col_hist</th>\n",
              "      <th>isl_o</th>\n",
              "      <th>isl_d</th>\n",
              "      <th>lndl_o</th>\n",
              "      <th>lndl_d</th>\n",
              "    </tr>\n",
              "  </thead>\n",
              "  <tbody>\n",
              "    <tr>\n",
              "      <th>flow</th>\n",
              "      <td>1.000000</td>\n",
              "      <td>-0.049890</td>\n",
              "      <td>0.167948</td>\n",
              "      <td>0.213254</td>\n",
              "      <td>0.148241</td>\n",
              "      <td>0.020537</td>\n",
              "      <td>0.044647</td>\n",
              "      <td>-0.004968</td>\n",
              "      <td>-0.006837</td>\n",
              "      <td>-0.028287</td>\n",
              "      <td>-0.027311</td>\n",
              "    </tr>\n",
              "    <tr>\n",
              "      <th>distw</th>\n",
              "      <td>-0.049890</td>\n",
              "      <td>1.000000</td>\n",
              "      <td>0.047489</td>\n",
              "      <td>0.048441</td>\n",
              "      <td>-0.206316</td>\n",
              "      <td>-0.072044</td>\n",
              "      <td>-0.043466</td>\n",
              "      <td>0.176368</td>\n",
              "      <td>0.166128</td>\n",
              "      <td>-0.091461</td>\n",
              "      <td>-0.095632</td>\n",
              "    </tr>\n",
              "    <tr>\n",
              "      <th>gdp_o</th>\n",
              "      <td>0.167948</td>\n",
              "      <td>0.047489</td>\n",
              "      <td>1.000000</td>\n",
              "      <td>-0.013492</td>\n",
              "      <td>-0.003589</td>\n",
              "      <td>0.002866</td>\n",
              "      <td>0.054973</td>\n",
              "      <td>0.005815</td>\n",
              "      <td>0.006266</td>\n",
              "      <td>-0.092983</td>\n",
              "      <td>0.014054</td>\n",
              "    </tr>\n",
              "    <tr>\n",
              "      <th>gdp_d</th>\n",
              "      <td>0.213254</td>\n",
              "      <td>0.048441</td>\n",
              "      <td>-0.013492</td>\n",
              "      <td>1.000000</td>\n",
              "      <td>-0.003612</td>\n",
              "      <td>0.002542</td>\n",
              "      <td>0.054800</td>\n",
              "      <td>0.006411</td>\n",
              "      <td>0.007017</td>\n",
              "      <td>0.011372</td>\n",
              "      <td>-0.091553</td>\n",
              "    </tr>\n",
              "    <tr>\n",
              "      <th>contig</th>\n",
              "      <td>0.148241</td>\n",
              "      <td>-0.206316</td>\n",
              "      <td>-0.003589</td>\n",
              "      <td>-0.003612</td>\n",
              "      <td>1.000000</td>\n",
              "      <td>0.110013</td>\n",
              "      <td>0.089646</td>\n",
              "      <td>-0.068270</td>\n",
              "      <td>-0.068126</td>\n",
              "      <td>0.037150</td>\n",
              "      <td>0.037822</td>\n",
              "    </tr>\n",
              "    <tr>\n",
              "      <th>comlang_off</th>\n",
              "      <td>0.020537</td>\n",
              "      <td>-0.072044</td>\n",
              "      <td>0.002866</td>\n",
              "      <td>0.002542</td>\n",
              "      <td>0.110013</td>\n",
              "      <td>1.000000</td>\n",
              "      <td>0.145083</td>\n",
              "      <td>0.117948</td>\n",
              "      <td>0.125097</td>\n",
              "      <td>-0.017339</td>\n",
              "      <td>-0.025740</td>\n",
              "    </tr>\n",
              "    <tr>\n",
              "      <th>col_hist</th>\n",
              "      <td>0.044647</td>\n",
              "      <td>-0.043466</td>\n",
              "      <td>0.054973</td>\n",
              "      <td>0.054800</td>\n",
              "      <td>0.089646</td>\n",
              "      <td>0.145083</td>\n",
              "      <td>1.000000</td>\n",
              "      <td>0.031037</td>\n",
              "      <td>0.031258</td>\n",
              "      <td>-0.024387</td>\n",
              "      <td>-0.023205</td>\n",
              "    </tr>\n",
              "    <tr>\n",
              "      <th>isl_o</th>\n",
              "      <td>-0.004968</td>\n",
              "      <td>0.176368</td>\n",
              "      <td>0.005815</td>\n",
              "      <td>0.006411</td>\n",
              "      <td>-0.068270</td>\n",
              "      <td>0.117948</td>\n",
              "      <td>0.031037</td>\n",
              "      <td>1.000000</td>\n",
              "      <td>0.019769</td>\n",
              "      <td>-0.234955</td>\n",
              "      <td>-0.015212</td>\n",
              "    </tr>\n",
              "    <tr>\n",
              "      <th>isl_d</th>\n",
              "      <td>-0.006837</td>\n",
              "      <td>0.166128</td>\n",
              "      <td>0.006266</td>\n",
              "      <td>0.007017</td>\n",
              "      <td>-0.068126</td>\n",
              "      <td>0.125097</td>\n",
              "      <td>0.031258</td>\n",
              "      <td>0.019769</td>\n",
              "      <td>1.000000</td>\n",
              "      <td>-0.017286</td>\n",
              "      <td>-0.230824</td>\n",
              "    </tr>\n",
              "    <tr>\n",
              "      <th>lndl_o</th>\n",
              "      <td>-0.028287</td>\n",
              "      <td>-0.091461</td>\n",
              "      <td>-0.092983</td>\n",
              "      <td>0.011372</td>\n",
              "      <td>0.037150</td>\n",
              "      <td>-0.017339</td>\n",
              "      <td>-0.024387</td>\n",
              "      <td>-0.234955</td>\n",
              "      <td>-0.017286</td>\n",
              "      <td>1.000000</td>\n",
              "      <td>-0.006014</td>\n",
              "    </tr>\n",
              "    <tr>\n",
              "      <th>lndl_d</th>\n",
              "      <td>-0.027311</td>\n",
              "      <td>-0.095632</td>\n",
              "      <td>0.014054</td>\n",
              "      <td>-0.091553</td>\n",
              "      <td>0.037822</td>\n",
              "      <td>-0.025740</td>\n",
              "      <td>-0.023205</td>\n",
              "      <td>-0.015212</td>\n",
              "      <td>-0.230824</td>\n",
              "      <td>-0.006014</td>\n",
              "      <td>1.000000</td>\n",
              "    </tr>\n",
              "  </tbody>\n",
              "</table>\n",
              "</div>"
            ],
            "text/plain": [
              "                 flow     distw     gdp_o  ...     isl_d    lndl_o    lndl_d\n",
              "flow         1.000000 -0.049890  0.167948  ... -0.006837 -0.028287 -0.027311\n",
              "distw       -0.049890  1.000000  0.047489  ...  0.166128 -0.091461 -0.095632\n",
              "gdp_o        0.167948  0.047489  1.000000  ...  0.006266 -0.092983  0.014054\n",
              "gdp_d        0.213254  0.048441 -0.013492  ...  0.007017  0.011372 -0.091553\n",
              "contig       0.148241 -0.206316 -0.003589  ... -0.068126  0.037150  0.037822\n",
              "comlang_off  0.020537 -0.072044  0.002866  ...  0.125097 -0.017339 -0.025740\n",
              "col_hist     0.044647 -0.043466  0.054973  ...  0.031258 -0.024387 -0.023205\n",
              "isl_o       -0.004968  0.176368  0.005815  ...  0.019769 -0.234955 -0.015212\n",
              "isl_d       -0.006837  0.166128  0.006266  ...  1.000000 -0.017286 -0.230824\n",
              "lndl_o      -0.028287 -0.091461 -0.092983  ... -0.017286  1.000000 -0.006014\n",
              "lndl_d      -0.027311 -0.095632  0.014054  ... -0.230824 -0.006014  1.000000\n",
              "\n",
              "[11 rows x 11 columns]"
            ]
          },
          "metadata": {
            "tags": []
          },
          "execution_count": 6
        }
      ]
    },
    {
      "cell_type": "markdown",
      "metadata": {
        "id": "n1zYjqJqG2RP"
      },
      "source": [
        "sort data (only to check details on stratification)"
      ]
    },
    {
      "cell_type": "code",
      "metadata": {
        "id": "2vN7AZWPmZTj"
      },
      "source": [
        "# gravd = gravd.sort_values('flow', ignore_index=True)"
      ],
      "execution_count": null,
      "outputs": []
    },
    {
      "cell_type": "markdown",
      "metadata": {
        "id": "UiGxYUXOI8mO"
      },
      "source": [
        "how many zero obs are in the data"
      ]
    },
    {
      "cell_type": "code",
      "metadata": {
        "colab": {
          "base_uri": "https://localhost:8080/"
        },
        "id": "n6ZijgvpdDbt",
        "outputId": "84e8abd6-d2f3-49c2-caac-3835b0638b49"
      },
      "source": [
        "flow = np.array(gravd.flow.astype(np.float32)) #*1000  \n",
        "print('of', len(flow), 'observations'\n",
        "      , len(flow) - np.count_nonzero(flow), ' are zero ='\n",
        "      , (len(flow) - np.count_nonzero(flow))/ len(flow)*100, '%')\n"
      ],
      "execution_count": null,
      "outputs": [
        {
          "output_type": "stream",
          "text": [
            "of 26967 observations 6970  are zero = 25.846404865205624 %\n"
          ],
          "name": "stdout"
        }
      ]
    },
    {
      "cell_type": "markdown",
      "metadata": {
        "id": "lr8NH07dgXth"
      },
      "source": [
        "# discrete representation of flow distribution\n",
        "create bins for stratify in train-test-split"
      ]
    },
    {
      "cell_type": "code",
      "metadata": {
        "id": "06m6ESw5hmNg"
      },
      "source": [
        "#len(gravd)"
      ],
      "execution_count": null,
      "outputs": []
    },
    {
      "cell_type": "code",
      "metadata": {
        "id": "NsTWO15LdGhJ"
      },
      "source": [
        "#bins = np.linspace(0, len(gravd), 20)\n",
        "bins = np.geomspace(1, len(gravd), 100)\n",
        "# with upscaled flow:\n",
        "#bins = np.geomspace(start=1, stop=0.5*len(gravd), num=300)\n",
        "flowZ = flow.copy()\n",
        "flowZ = np.digitize(flow, bins)\n",
        "# flowZ[26800:26967]"
      ],
      "execution_count": null,
      "outputs": []
    },
    {
      "cell_type": "markdown",
      "metadata": {
        "id": "EsiJgDrpJ4cb"
      },
      "source": [
        "reformat"
      ]
    },
    {
      "cell_type": "code",
      "metadata": {
        "id": "N-preUvqdJ-j"
      },
      "source": [
        "# weighted geographical between origin and destination\n",
        "distw = np.array(gravd.distw.astype(np.float32))\n",
        "\n",
        "# GDP of origin\n",
        "gdp_o = np.array(gravd.gdp_o.astype(np.float32))\n",
        "\n",
        "# GDP of destination\n",
        "gdp_d = np.array(gravd.gdp_d.astype(np.float32))\n",
        "\n",
        "# Dummies \n",
        "# neighbourhood status between origin and destination\n",
        "contig = np.array(gravd.contig.astype(np.int8))\n",
        "# common official language of origin and destination\n",
        "comlang_off = np.array(gravd.comlang_off.astype(np.int8))\n",
        "# colonial ties between origin and destination\n",
        "col_hist = np.array(gravd.col_hist.astype(np.int8))\n",
        "# island\n",
        "isl_o = np.array(gravd.isl_o.astype(np.int8))\n",
        "isl_d = np.array(gravd.isl_d.astype(np.int8))\n",
        "# landlocked\n",
        "lndl_o = np.array(gravd.lndl_o.astype(np.int8))\n",
        "lndl_d = np.array(gravd.lndl_d.astype(np.int8))\n",
        "\n",
        "X = np.array([flowZ, distw, gdp_o, gdp_d\n",
        "              , contig, comlang_off, col_hist\n",
        "              , isl_o, isl_d, lndl_o, lndl_d\n",
        "              ]).T\n"
      ],
      "execution_count": null,
      "outputs": []
    },
    {
      "cell_type": "markdown",
      "metadata": {
        "id": "qRiuxRo4J8ix"
      },
      "source": [
        "define class and some functions for convenience"
      ]
    },
    {
      "cell_type": "code",
      "metadata": {
        "id": "GkAv2bwodOE2"
      },
      "source": [
        "# class for data preparation\n",
        "class prepare_data:\n",
        "    def __init__(self):\n",
        "        self.X = X.copy()\n",
        "        self.y = flow.copy()\n",
        "        \n",
        "    # train test split and transform\n",
        "    def tts(self, rnd = 42):\n",
        "         # train test split stratify on binary zero trade\n",
        "        self.X_train, self.X_test, self.y_train, self.y_test = train_test_split(self.X[:,1:11], self.y\n",
        "                                                                                , random_state=(rnd)\n",
        "                                                                                , test_size=0.2\n",
        "                                                                                , stratify=(self.X[:,0])\n",
        "                                                                                )\n",
        "        \n",
        "# plot feature importance \n",
        "def plot_feature_importance(model):\n",
        "    n_features = len(data.X_train[0,:])\n",
        "    plt.barh(range(n_features), model.feature_importances_, align='center') \n",
        "    plt.yticks(np.arange(n_features), feature_names) \n",
        "    plt.xlabel(\"Feature importance\")\n",
        "    plt.ylabel(\"Feature\")\n",
        "\n",
        "# random repetition loop instead of cross validation\n",
        "def rnd_val(estimator, cv=100):\n",
        "    all_r2_test = []\n",
        "    for i in range(cv):\n",
        "        data.tts(rnd=None)\n",
        "        estimator.fit(data.X_train, data.y_train)\n",
        "        r2_test = estimator.score(data.X_test, data.y_test)\n",
        "        all_r2_test.append(r2_test)\n",
        "        print('R2 test:', r2_test)\n",
        "        print('R2 train', estimator.score(data.X_train, data.y_train))\n",
        "    print('mean R2 test:', np.mean(all_r2_test))\n",
        "\n",
        "# get R2 for test and train data\n",
        "def get_R2s(estimator):\n",
        "    print('test R2:', estimator.score(data.X_test, data.y_test))\n",
        "    print('train R2:', estimator.score(data.X_train, data.y_train))\n",
        "    \n",
        "# plot prediction against true values\n",
        "def plt_y_pred(estimator):\n",
        "    y_pred = estimator.predict(data.X_test)\n",
        "    # plot feature importance\n",
        "    plot_feature_importance(estimator)\n",
        "    plt.show()\n",
        "    # plot y against y^\n",
        "    plt.scatter(y_pred, data.y_test, s = 3)\n",
        "    plt.xlabel('prediced trade flow from test data')\n",
        "    plt.ylabel('true trade flow from test data')\n",
        "    plt.title('test vs predicted trade flow')\n",
        "    plt.show()\n",
        "    # plot y against y^ on log axes\n",
        "    plt.loglog(y_pred, data.y_test, marker = 'o', markersize = 3, linestyle = '')\n",
        "    plt.xlabel('prediced trade flow from test data')\n",
        "    plt.ylabel('true trade flow from test data')\n",
        "    plt.title('test vs predicted trade flow on log axes')\n",
        "    plt.show()\n",
        "    \n",
        "def plt_error_hist(estimator):\n",
        "  estimator.fit(data.X_train, data.y_train)\n",
        "  # out-of-sample errors\n",
        "  y_pred = estimator.predict(data.X_test)\n",
        "  oos_errors = data.y_test - y_pred\n",
        "  plt.hist(oos_errors, bins=100, log=True)\n",
        "  plt.title('out-of-sample error distribution')\n",
        "  plt.show()\n",
        "  # within-sample errors\n",
        "  y_pred_is = estimator.predict(data.X_train)\n",
        "  is_errors = data.y_train - y_pred_is\n",
        "  plt.hist(is_errors, bins=100, log=True)\n",
        "  plt.title('within-sample error distribution')\n",
        "  plt.show()"
      ],
      "execution_count": null,
      "outputs": []
    },
    {
      "cell_type": "markdown",
      "metadata": {
        "id": "jn8SqublKEtf"
      },
      "source": [
        "initialize data and train-test-split"
      ]
    },
    {
      "cell_type": "code",
      "metadata": {
        "id": "tZWLEdEadQee"
      },
      "source": [
        "data = prepare_data()\n",
        "data.tts()"
      ],
      "execution_count": null,
      "outputs": []
    },
    {
      "cell_type": "markdown",
      "metadata": {
        "id": "6F9l_uYXKNxz"
      },
      "source": [
        "retrieve feature names"
      ]
    },
    {
      "cell_type": "code",
      "metadata": {
        "colab": {
          "base_uri": "https://localhost:8080/"
        },
        "id": "KpAFInYudTGP",
        "outputId": "feced59f-3f4c-4ae3-ffad-9f5302f7724e"
      },
      "source": [
        "feature_names = gravd.columns[1:len(X[0,:])]\n",
        "feature_names"
      ],
      "execution_count": null,
      "outputs": [
        {
          "output_type": "execute_result",
          "data": {
            "text/plain": [
              "Index(['distw', 'gdp_o', 'gdp_d', 'contig', 'comlang_off', 'col_hist', 'isl_o',\n",
              "       'isl_d', 'lndl_o', 'lndl_d'],\n",
              "      dtype='object')"
            ]
          },
          "metadata": {
            "tags": []
          },
          "execution_count": 12
        }
      ]
    },
    {
      "cell_type": "markdown",
      "metadata": {
        "id": "rSi_csDMKTBM"
      },
      "source": [
        "# Simple Decision Tree"
      ]
    },
    {
      "cell_type": "code",
      "metadata": {
        "colab": {
          "base_uri": "https://localhost:8080/",
          "height": 873
        },
        "id": "xAw34V_QdVvh",
        "outputId": "ccdb270c-605f-425a-96b1-dd51e18db120"
      },
      "source": [
        "tree = DecisionTreeRegressor(random_state=7, max_depth=7) \n",
        "tree.fit(data.X_train, data.y_train)\n",
        "\n",
        "get_R2s(tree)\n",
        "plt_y_pred(tree)"
      ],
      "execution_count": null,
      "outputs": [
        {
          "output_type": "stream",
          "text": [
            "test R2: 0.7395588842533327\n",
            "train R2: 0.9327914104934447\n"
          ],
          "name": "stdout"
        },
        {
          "output_type": "display_data",
          "data": {
            "image/png": "[encoded data removed]",
            "text/plain": [
              "<Figure size 432x288 with 1 Axes>"
            ]
          },
          "metadata": {
            "tags": [],
            "needs_background": "light"
          }
        },
        {
          "output_type": "display_data",
          "data": {
            "image/png": "[encoded data removed]",
            "text/plain": [
              "<Figure size 432x288 with 1 Axes>"
            ]
          },
          "metadata": {
            "tags": [],
            "needs_background": "light"
          }
        },
        {
          "output_type": "display_data",
          "data": {
            "image/png": "[encoded data removed]",
            "text/plain": [
              "<Figure size 432x288 with 1 Axes>"
            ]
          },
          "metadata": {
            "tags": [],
            "needs_background": "light"
          }
        }
      ]
    },
    {
      "cell_type": "code",
      "metadata": {
        "colab": {
          "base_uri": "https://localhost:8080/",
          "height": 545
        },
        "id": "8T8VQsCadYo7",
        "outputId": "8ec7a795-2a2d-4030-fc72-6905461409dc"
      },
      "source": [
        "plt_error_hist(tree)"
      ],
      "execution_count": null,
      "outputs": [
        {
          "output_type": "display_data",
          "data": {
            "image/png": "[encoded data removed]",
            "text/plain": [
              "<Figure size 432x288 with 1 Axes>"
            ]
          },
          "metadata": {
            "tags": [],
            "needs_background": "light"
          }
        },
        {
          "output_type": "display_data",
          "data": {
            "image/png": "[encoded data removed]",
            "text/plain": [
              "<Figure size 432x288 with 1 Axes>"
            ]
          },
          "metadata": {
            "tags": [],
            "needs_background": "light"
          }
        }
      ]
    },
    {
      "cell_type": "code",
      "metadata": {
        "colab": {
          "base_uri": "https://localhost:8080/"
        },
        "id": "2POJ6XdedcMp",
        "outputId": "40f0058b-6f9a-4de6-aa66-43bc54648bda"
      },
      "source": [
        "rnd_val(tree)"
      ],
      "execution_count": null,
      "outputs": [
        {
          "output_type": "stream",
          "text": [
            "R2 test: 0.6170336111513448\n",
            "R2 train 0.9568018606431027\n",
            "R2 test: 0.43493741602606484\n",
            "R2 train 0.9610923501162703\n",
            "R2 test: 0.7492895984952765\n",
            "R2 train 0.9417923789439704\n",
            "R2 test: 0.31252713198009263\n",
            "R2 train 0.9640606185192754\n",
            "R2 test: 0.2629518387007148\n",
            "R2 train 0.9603709893031956\n",
            "R2 test: 0.5355593039678832\n",
            "R2 train 0.9555205993459377\n",
            "R2 test: 0.4433418197964652\n",
            "R2 train 0.9529447409528207\n",
            "R2 test: 0.48515066467623646\n",
            "R2 train 0.9646824063518483\n",
            "R2 test: 0.5055690102449659\n",
            "R2 train 0.9484884104795449\n",
            "R2 test: 0.7261505412145385\n",
            "R2 train 0.9530918840624757\n",
            "R2 test: 0.36791062161191157\n",
            "R2 train 0.9540586756943364\n",
            "R2 test: 0.4753763196025657\n",
            "R2 train 0.9566486052883361\n",
            "R2 test: 0.3435980428892367\n",
            "R2 train 0.95521212479805\n",
            "R2 test: 0.08998605119794123\n",
            "R2 train 0.9439431859213111\n",
            "R2 test: 0.26894057234355984\n",
            "R2 train 0.960375455130924\n",
            "R2 test: 0.38607979449865804\n",
            "R2 train 0.9663093021551102\n",
            "R2 test: 0.237299487006393\n",
            "R2 train 0.9364718245729026\n",
            "R2 test: 0.480739880950179\n",
            "R2 train 0.9369548774605835\n",
            "R2 test: 0.3736962309806401\n",
            "R2 train 0.9615875057322077\n",
            "R2 test: 0.5160418529408977\n",
            "R2 train 0.9558780767106864\n",
            "R2 test: 0.4512435689384096\n",
            "R2 train 0.9592211984902514\n",
            "R2 test: 0.45565213375993974\n",
            "R2 train 0.9602938237894189\n",
            "R2 test: 0.7292429051122474\n",
            "R2 train 0.9385428759840853\n",
            "R2 test: 0.752687157389745\n",
            "R2 train 0.9514631533423793\n",
            "R2 test: 0.4919173910950625\n",
            "R2 train 0.9392702700942733\n",
            "R2 test: 0.5777057127946246\n",
            "R2 train 0.9622010502956215\n",
            "R2 test: 0.38875337187472836\n",
            "R2 train 0.94316606455443\n",
            "R2 test: 0.6643808601485384\n",
            "R2 train 0.9377923639000931\n",
            "R2 test: 0.40237553918145996\n",
            "R2 train 0.9648681737428535\n",
            "R2 test: -0.09988396003685572\n",
            "R2 train 0.9463201680781244\n",
            "R2 test: 0.18227029902727976\n",
            "R2 train 0.9502796523522167\n",
            "R2 test: 0.7801019663827294\n",
            "R2 train 0.9371304840788806\n",
            "R2 test: 0.6395395513527511\n",
            "R2 train 0.9430605088209535\n",
            "R2 test: 0.6488784030800958\n",
            "R2 train 0.9371929685678763\n",
            "R2 test: 0.6483518872910975\n",
            "R2 train 0.9549541807953111\n",
            "R2 test: 0.3475894433704527\n",
            "R2 train 0.9492332657706023\n",
            "R2 test: 0.7628932062660916\n",
            "R2 train 0.9565578364759336\n",
            "R2 test: 0.05082570427944588\n",
            "R2 train 0.941711295958834\n",
            "R2 test: 0.5937590102197492\n",
            "R2 train 0.9591473657999731\n",
            "R2 test: 0.4834263067555365\n",
            "R2 train 0.9492181940249798\n",
            "R2 test: 0.3878796786371148\n",
            "R2 train 0.9530725004664722\n",
            "R2 test: 0.7615243325178994\n",
            "R2 train 0.9529477767485901\n",
            "R2 test: -1.0353266070083444\n",
            "R2 train 0.9411790307021214\n",
            "R2 test: -0.09720735754974541\n",
            "R2 train 0.9440790301024662\n",
            "R2 test: 0.5972188667191265\n",
            "R2 train 0.9453866144240226\n",
            "R2 test: 0.4898725858643983\n",
            "R2 train 0.9362588385309994\n",
            "R2 test: 0.23046346866651168\n",
            "R2 train 0.9448475366184439\n",
            "R2 test: 0.17408731501850228\n",
            "R2 train 0.9543356266770716\n",
            "R2 test: 0.3977378257054465\n",
            "R2 train 0.953358987978419\n",
            "R2 test: 0.6339758130973727\n",
            "R2 train 0.9444948262125069\n",
            "R2 test: 0.6309103782257408\n",
            "R2 train 0.9635111524993012\n",
            "R2 test: 0.6932744961963884\n",
            "R2 train 0.9039965209303371\n",
            "R2 test: 0.33599605914726094\n",
            "R2 train 0.9386844158189669\n",
            "R2 test: 0.6785973830600283\n",
            "R2 train 0.9462430544534214\n",
            "R2 test: 0.07021174627210036\n",
            "R2 train 0.9499657933116965\n",
            "R2 test: 0.04403535340463882\n",
            "R2 train 0.961048709782265\n",
            "R2 test: 0.7116536711109178\n",
            "R2 train 0.9521125462147474\n",
            "R2 test: 0.6114230737995063\n",
            "R2 train 0.9355474887420442\n",
            "R2 test: 0.6859977648808314\n",
            "R2 train 0.9412900502183117\n",
            "R2 test: 0.6236794796487566\n",
            "R2 train 0.949853004803722\n",
            "R2 test: 0.6108342701780873\n",
            "R2 train 0.9504885850066424\n",
            "R2 test: -0.16968563993675767\n",
            "R2 train 0.9526539589094568\n",
            "R2 test: 0.5482934840372944\n",
            "R2 train 0.9519543945950241\n",
            "R2 test: 0.7278555735494998\n",
            "R2 train 0.9547611778759134\n",
            "R2 test: 0.23416615311761935\n",
            "R2 train 0.944781262801578\n",
            "R2 test: 0.636241176138904\n",
            "R2 train 0.9318995379525901\n",
            "R2 test: 0.36451076717950903\n",
            "R2 train 0.9396146733978861\n",
            "R2 test: 0.5051646971063133\n",
            "R2 train 0.9565674952503386\n",
            "R2 test: 0.20008182925084284\n",
            "R2 train 0.9598693127835689\n",
            "R2 test: 0.27913958245947224\n",
            "R2 train 0.9491437912910718\n",
            "R2 test: 0.10249183458000832\n",
            "R2 train 0.946613349633249\n",
            "R2 test: -0.13749030222326453\n",
            "R2 train 0.9605964325039277\n",
            "R2 test: -0.2921919713016585\n",
            "R2 train 0.9555254474736921\n",
            "R2 test: 0.7694259502555643\n",
            "R2 train 0.9595194177098103\n",
            "R2 test: 0.5710440101233725\n",
            "R2 train 0.9570518135572735\n",
            "R2 test: 0.5424426174146306\n",
            "R2 train 0.9486985806125888\n",
            "R2 test: 0.3906809586136994\n",
            "R2 train 0.9502516232247861\n",
            "R2 test: 0.38021361009041543\n",
            "R2 train 0.9585850056891989\n",
            "R2 test: 0.850058728736897\n",
            "R2 train 0.9543330351016437\n",
            "R2 test: 0.27935069493728437\n",
            "R2 train 0.9464755908374803\n",
            "R2 test: 0.703817455950343\n",
            "R2 train 0.9408118038324015\n",
            "R2 test: -0.9951757524601766\n",
            "R2 train 0.9470281181229523\n",
            "R2 test: 0.7064335549828573\n",
            "R2 train 0.9486312880935702\n",
            "R2 test: 0.22505268763088082\n",
            "R2 train 0.9576539513949882\n",
            "R2 test: -0.055590606466865644\n",
            "R2 train 0.9642170473853944\n",
            "R2 test: 0.4810896835064613\n",
            "R2 train 0.940070378579132\n",
            "R2 test: 0.5758872419560894\n",
            "R2 train 0.9629004682270688\n",
            "R2 test: 0.19994029165604943\n",
            "R2 train 0.9480173335770321\n",
            "R2 test: 0.6765232027695194\n",
            "R2 train 0.9305081934529125\n",
            "R2 test: 0.5911882117905364\n",
            "R2 train 0.9383638944179304\n",
            "R2 test: 0.5034112429296252\n",
            "R2 train 0.9585222923574019\n",
            "R2 test: 0.20860615958897588\n",
            "R2 train 0.9391210595289846\n",
            "R2 test: 0.6444788223704423\n",
            "R2 train 0.9392598195271212\n",
            "R2 test: 0.7567138681167856\n",
            "R2 train 0.9556323768264533\n",
            "R2 test: 0.7716200530549229\n",
            "R2 train 0.9551153514269637\n",
            "R2 test: 0.830618738145364\n",
            "R2 train 0.9455957538690266\n",
            "R2 test: 0.5724352457543773\n",
            "R2 train 0.9571022107461307\n",
            "R2 test: 0.5015257678412842\n",
            "R2 train 0.9538535293017398\n",
            "R2 test: 0.6656945600414521\n",
            "R2 train 0.9472305571599946\n",
            "R2 test: 0.7047502497115432\n",
            "R2 train 0.9413750284352496\n",
            "mean R2 test: 0.4285154427915135\n"
          ],
          "name": "stdout"
        }
      ]
    },
    {
      "cell_type": "markdown",
      "metadata": {
        "id": "ExP3GuIIKs4B"
      },
      "source": [
        "grid search for one tree"
      ]
    },
    {
      "cell_type": "code",
      "metadata": {
        "colab": {
          "base_uri": "https://localhost:8080/"
        },
        "id": "-rFodKlhdful",
        "outputId": "17c0957e-94d2-42b1-880a-52f520eba805"
      },
      "source": [
        "# criterion\n",
        "crit = ['mse', 'friedman_mse', 'poisson']\n",
        "\n",
        "# max depth\n",
        "maxD = [2, 3, 5, 8, 13, 21, 34]\n",
        "\n",
        "# create the grid\n",
        "grid = {'criterion': crit, 'max_depth': maxD}\n",
        "\n",
        "# base model to tune\n",
        "baseTree = DecisionTreeRegressor()\n",
        "\n",
        "# random grid search for parameters\n",
        "tree_grid_search = GridSearchCV(estimator = baseTree\n",
        "                                , param_grid= grid\n",
        "                                , cv = 7              # no of cross validation\n",
        "                                , n_jobs = -1         # use all available cores\n",
        "                                )\n",
        "\n",
        "for i in range(21):\n",
        "    # if grid is to run on a different data split, run this:\n",
        "    data.tts(rnd = None)\n",
        "    # fixed data split:\n",
        "    # data.tts(rnd = 42)\n",
        "    # single grid search:\n",
        "    tree_grid_search.fit(data.X_train, data.y_train)\n",
        "    print(tree_grid_search.best_params_)"
      ],
      "execution_count": null,
      "outputs": [
        {
          "output_type": "stream",
          "text": [
            "{'criterion': 'mse', 'max_depth': 8}\n",
            "{'criterion': 'mse', 'max_depth': 2}\n",
            "{'criterion': 'friedman_mse', 'max_depth': 34}\n",
            "{'criterion': 'mse', 'max_depth': 34}\n",
            "{'criterion': 'mse', 'max_depth': 21}\n",
            "{'criterion': 'friedman_mse', 'max_depth': 13}\n",
            "{'criterion': 'friedman_mse', 'max_depth': 13}\n",
            "{'criterion': 'friedman_mse', 'max_depth': 13}\n",
            "{'criterion': 'mse', 'max_depth': 5}\n",
            "{'criterion': 'mse', 'max_depth': 13}\n",
            "{'criterion': 'mse', 'max_depth': 34}\n",
            "{'criterion': 'mse', 'max_depth': 5}\n",
            "{'criterion': 'friedman_mse', 'max_depth': 34}\n",
            "{'criterion': 'friedman_mse', 'max_depth': 8}\n",
            "{'criterion': 'friedman_mse', 'max_depth': 8}\n",
            "{'criterion': 'mse', 'max_depth': 13}\n",
            "{'criterion': 'mse', 'max_depth': 21}\n",
            "{'criterion': 'friedman_mse', 'max_depth': 21}\n",
            "{'criterion': 'mse', 'max_depth': 13}\n",
            "{'criterion': 'friedman_mse', 'max_depth': 13}\n",
            "{'criterion': 'mse', 'max_depth': 21}\n"
          ],
          "name": "stdout"
        }
      ]
    },
    {
      "cell_type": "markdown",
      "metadata": {
        "id": "lSy7LAimii_Z"
      },
      "source": [
        "# Random Forest"
      ]
    },
    {
      "cell_type": "code",
      "metadata": {
        "colab": {
          "base_uri": "https://localhost:8080/",
          "height": 873
        },
        "id": "0LO7Wriyif8D",
        "outputId": "c75710d5-52a5-428f-ac83-f32364a38c0e"
      },
      "source": [
        "data.tts()\n",
        "forest = RandomForestRegressor(random_state=7) \n",
        "forest.fit(data.X_train, data.y_train)\n",
        "\n",
        "get_R2s(forest)\n",
        "plt_y_pred(forest)"
      ],
      "execution_count": null,
      "outputs": [
        {
          "output_type": "stream",
          "text": [
            "test R2: 0.6756121837930711\n",
            "train R2: 0.9364658888028049\n"
          ],
          "name": "stdout"
        },
        {
          "output_type": "display_data",
          "data": {
            "image/png": "[encoded data removed]",
            "text/plain": [
              "<Figure size 432x288 with 1 Axes>"
            ]
          },
          "metadata": {
            "tags": [],
            "needs_background": "light"
          }
        },
        {
          "output_type": "display_data",
          "data": {
            "image/png": "[encoded data removed]",
            "text/plain": [
              "<Figure size 432x288 with 1 Axes>"
            ]
          },
          "metadata": {
            "tags": [],
            "needs_background": "light"
          }
        },
        {
          "output_type": "display_data",
          "data": {
            "image/png": "[encoded data removed]",
            "text/plain": [
              "<Figure size 432x288 with 1 Axes>"
            ]
          },
          "metadata": {
            "tags": [],
            "needs_background": "light"
          }
        }
      ]
    },
    {
      "cell_type": "code",
      "metadata": {
        "colab": {
          "base_uri": "https://localhost:8080/"
        },
        "id": "_ypyZNFbimxl",
        "outputId": "011687b4-58c6-4208-e0b3-3c5f2bc20a30"
      },
      "source": [
        "forest_opt = RandomForestRegressor(n_estimators=59, max_depth=52)\n",
        "rnd_val(forest_opt)"
      ],
      "execution_count": null,
      "outputs": [
        {
          "output_type": "stream",
          "text": [
            "R2 test: 0.5235098839194365\n",
            "R2 train 0.9449077163606213\n",
            "R2 test: 0.4574907361178712\n",
            "R2 train 0.9499028539525585\n",
            "R2 test: 0.6405755194068483\n",
            "R2 train 0.9257831754737988\n",
            "R2 test: 0.6600492650031601\n",
            "R2 train 0.9397107200243169\n",
            "R2 test: 0.732247813664533\n",
            "R2 train 0.9415767190450841\n",
            "R2 test: 0.6372144857702045\n",
            "R2 train 0.9332442696764701\n",
            "R2 test: 0.6899139498375202\n",
            "R2 train 0.9498964035203988\n",
            "R2 test: 0.6752128492155983\n",
            "R2 train 0.9509118696041002\n",
            "R2 test: 0.6939232283750563\n",
            "R2 train 0.9420885399428155\n",
            "R2 test: 0.7160384227130593\n",
            "R2 train 0.9447731076730194\n",
            "R2 test: 0.5588221597354446\n",
            "R2 train 0.9475350585304425\n",
            "R2 test: 0.7314019565141351\n",
            "R2 train 0.9399245280072328\n",
            "R2 test: 0.4759484314216271\n",
            "R2 train 0.946628460985293\n",
            "R2 test: 0.6551400811383294\n",
            "R2 train 0.9061633032002699\n",
            "R2 test: 0.7716356260503946\n",
            "R2 train 0.9546907708377481\n",
            "R2 test: 0.6546025234500503\n",
            "R2 train 0.9607758858139109\n",
            "R2 test: 0.7073673961926141\n",
            "R2 train 0.9474055776183485\n",
            "R2 test: 0.5547184831135454\n",
            "R2 train 0.9381025577618535\n",
            "R2 test: 0.5737195004175918\n",
            "R2 train 0.933305039058044\n",
            "R2 test: 0.42777022634562445\n",
            "R2 train 0.9606071764976007\n",
            "R2 test: 0.6017159833729069\n",
            "R2 train 0.9278036502814381\n",
            "R2 test: 0.6031456680004694\n",
            "R2 train 0.9088368298513314\n",
            "R2 test: 0.6884578995486861\n",
            "R2 train 0.9160365061967817\n",
            "R2 test: 0.6113018030013891\n",
            "R2 train 0.9137998727902007\n",
            "R2 test: 0.7986081921610783\n",
            "R2 train 0.9436144428873277\n",
            "R2 test: 0.637840090867507\n",
            "R2 train 0.917228892569676\n",
            "R2 test: 0.6790719609771247\n",
            "R2 train 0.9430081776070952\n",
            "R2 test: 0.47047269212701603\n",
            "R2 train 0.9401684897233382\n",
            "R2 test: 0.6212556725086674\n",
            "R2 train 0.9472303882901089\n",
            "R2 test: 0.7104231354809827\n",
            "R2 train 0.9393377643257005\n",
            "R2 test: 0.7412085485767359\n",
            "R2 train 0.9415764998969929\n",
            "R2 test: 0.742588114628365\n",
            "R2 train 0.9342872094776873\n",
            "R2 test: 0.7333819449862109\n",
            "R2 train 0.9269069388526017\n",
            "R2 test: 0.7212817060978942\n",
            "R2 train 0.9258580769462078\n",
            "R2 test: 0.7559032341163981\n",
            "R2 train 0.9483458240612777\n",
            "R2 test: 0.6959476446897103\n",
            "R2 train 0.9325768253636311\n",
            "R2 test: 0.4889394486290054\n",
            "R2 train 0.9495787051667492\n",
            "R2 test: 0.7317164093077113\n",
            "R2 train 0.9487037245466939\n",
            "R2 test: 0.6415638473628629\n",
            "R2 train 0.9124375682925351\n",
            "R2 test: 0.5792501744746076\n",
            "R2 train 0.9368319838475706\n",
            "R2 test: 0.746033200986238\n",
            "R2 train 0.9545787181395682\n",
            "R2 test: 0.5528516358649647\n",
            "R2 train 0.9468108597373648\n",
            "R2 test: 0.4004824328317694\n",
            "R2 train 0.9492805867925733\n",
            "R2 test: 0.4280807979380485\n",
            "R2 train 0.9512313144315886\n",
            "R2 test: 0.6807643735045678\n",
            "R2 train 0.9498753735736458\n",
            "R2 test: 0.7456670933793319\n",
            "R2 train 0.9406807164737737\n",
            "R2 test: 0.525127808498115\n",
            "R2 train 0.9430115373218072\n",
            "R2 test: 0.8034206372561521\n",
            "R2 train 0.9502123052651376\n",
            "R2 test: 0.4596915814742736\n",
            "R2 train 0.9637008499846369\n",
            "R2 test: 0.45883225628912244\n",
            "R2 train 0.9408117744210039\n",
            "R2 test: 0.491885854794767\n",
            "R2 train 0.9475982589660021\n",
            "R2 test: 0.7070800916769471\n",
            "R2 train 0.9548841629327129\n",
            "R2 test: 0.45522703440442436\n",
            "R2 train 0.93261572240586\n",
            "R2 test: 0.642689770630506\n",
            "R2 train 0.9595492710260994\n",
            "R2 test: 0.5780527036020093\n",
            "R2 train 0.9589966792147351\n",
            "R2 test: 0.3094992263684798\n",
            "R2 train 0.9516626923559878\n",
            "R2 test: 0.6986636385923202\n",
            "R2 train 0.9418669171651547\n",
            "R2 test: 0.5211895809182345\n",
            "R2 train 0.943463003072765\n",
            "R2 test: 0.5462948040035851\n",
            "R2 train 0.9621705796803686\n",
            "R2 test: 0.72647195267956\n",
            "R2 train 0.948643130551113\n",
            "R2 test: 0.6506075929397688\n",
            "R2 train 0.9426362167431671\n",
            "R2 test: 0.5726544474032855\n",
            "R2 train 0.954385612573577\n",
            "R2 test: 0.502655009132112\n",
            "R2 train 0.9518295251238509\n",
            "R2 test: 0.5584661887918654\n",
            "R2 train 0.934939090997375\n",
            "R2 test: 0.7407593227437368\n",
            "R2 train 0.95034117580476\n",
            "R2 test: 0.3939390745055906\n",
            "R2 train 0.958948660409784\n",
            "R2 test: 0.7884926217497925\n",
            "R2 train 0.9434859137332203\n",
            "R2 test: 0.4904706192129605\n",
            "R2 train 0.9562862107416343\n",
            "R2 test: 0.5263998583561988\n",
            "R2 train 0.9546798693558586\n",
            "R2 test: 0.6250993891815124\n",
            "R2 train 0.9504073158098179\n",
            "R2 test: 0.668691509250869\n",
            "R2 train 0.9229702320019764\n",
            "R2 test: 0.5875222899609687\n",
            "R2 train 0.9358985182567139\n",
            "R2 test: 0.25940794134212897\n",
            "R2 train 0.9474204217576095\n",
            "R2 test: 0.6329692720047392\n",
            "R2 train 0.9354073825574363\n",
            "R2 test: 0.5421259019544685\n",
            "R2 train 0.9278358650915703\n",
            "R2 test: 0.7586794621259189\n",
            "R2 train 0.9471999909589649\n",
            "R2 test: 0.662525612954153\n",
            "R2 train 0.9241362785443001\n",
            "R2 test: 0.6342822510460459\n",
            "R2 train 0.9456826855279777\n",
            "R2 test: 0.6168140399305773\n",
            "R2 train 0.9610213611448243\n",
            "R2 test: 0.50272229463586\n",
            "R2 train 0.9536515028841399\n",
            "R2 test: 0.7313471561697196\n",
            "R2 train 0.9258455321459351\n",
            "R2 test: 0.3648350199763442\n",
            "R2 train 0.9483427124412838\n",
            "R2 test: 0.6978166108965337\n",
            "R2 train 0.9412761052137188\n",
            "R2 test: 0.7415451148781415\n",
            "R2 train 0.9413277942577573\n",
            "R2 test: 0.5691621065087871\n",
            "R2 train 0.9207521497935385\n",
            "R2 test: 0.78410188685217\n",
            "R2 train 0.9470825527760911\n",
            "R2 test: 0.7436262168358946\n",
            "R2 train 0.9462014541884303\n",
            "R2 test: 0.7693353301340384\n",
            "R2 train 0.9367357962921868\n",
            "R2 test: 0.6915850105726021\n",
            "R2 train 0.950249872934867\n",
            "R2 test: 0.627436286688081\n",
            "R2 train 0.9386554600257492\n",
            "R2 test: 0.685954465678302\n",
            "R2 train 0.9526070842036278\n",
            "R2 test: 0.6500815442752051\n",
            "R2 train 0.9520966462463155\n",
            "R2 test: 0.629737216254934\n",
            "R2 train 0.9514828844537967\n",
            "R2 test: 0.793624571157667\n",
            "R2 train 0.9541594521716905\n",
            "R2 test: 0.6992980962219668\n",
            "R2 train 0.9465912823749995\n",
            "R2 test: 0.729393083383187\n",
            "R2 train 0.9595238487195235\n",
            "R2 test: 0.7478677376036953\n",
            "R2 train 0.9439277311620502\n",
            "R2 test: 0.6423599218218758\n",
            "R2 train 0.9320619333794643\n",
            "R2 test: 0.6945229414647667\n",
            "R2 train 0.9301820094085312\n",
            "R2 test: 0.7667375051566443\n",
            "R2 train 0.9405217308088467\n",
            "mean R2 test: 0.6274503570676451\n"
          ],
          "name": "stdout"
        }
      ]
    },
    {
      "cell_type": "markdown",
      "metadata": {
        "id": "WRMw2SGMLHb-"
      },
      "source": [
        "random grid search for random forest"
      ]
    },
    {
      "cell_type": "code",
      "metadata": {
        "colab": {
          "base_uri": "https://localhost:8080/"
        },
        "id": "SxhYyRVNLL9t",
        "outputId": "a98ab454-b185-493e-93d4-8b07c3aa2732"
      },
      "source": [
        "# no. of trees in random forest\n",
        "n_estimators = [int(x) for x in np.linspace(start = 50, stop = 500, num = 50)]\n",
        "# max levels in tree\n",
        "max_depth = [int(x) for x in np.linspace(5, 100, num = 5)]\n",
        "max_depth.append(None)\n",
        "\n",
        "# create the random grid\n",
        "random_grid = {'n_estimators': n_estimators,\n",
        "               'max_depth': max_depth,\n",
        "               }\n",
        "\n",
        "# base model to tune\n",
        "baseForest = RandomForestRegressor()\n",
        "# random search of parameters, using 3 fold cross validation, \n",
        "# search across 100 different combinations, and use all available cores\n",
        "rf_random = RandomizedSearchCV(estimator = baseForest\n",
        "                               , param_distributions = random_grid\n",
        "                               , n_iter = 100, cv = 3, verbose=2\n",
        "                               #, random_state=42\n",
        "                               , n_jobs = -1)\n",
        "\n",
        "# if grid is to run on a different data split, run this:\n",
        "data.tts(rnd = None)\n",
        "# fixed data split:\n",
        "#data.tts(rnd = 42)\n",
        "\n",
        "# single grid search:\n",
        "rf_random.fit(data.X_train, data.y_train)\n",
        "rf_random.best_params_"
      ],
      "execution_count": null,
      "outputs": [
        {
          "output_type": "stream",
          "text": [
            "Fitting 3 folds for each of 100 candidates, totalling 300 fits\n"
          ],
          "name": "stdout"
        },
        {
          "output_type": "stream",
          "text": [
            "[Parallel(n_jobs=-1)]: Using backend LokyBackend with 2 concurrent workers.\n",
            "[Parallel(n_jobs=-1)]: Done  37 tasks      | elapsed:  7.5min\n",
            "[Parallel(n_jobs=-1)]: Done 158 tasks      | elapsed: 26.9min\n",
            "[Parallel(n_jobs=-1)]: Done 300 out of 300 | elapsed: 53.6min finished\n"
          ],
          "name": "stderr"
        },
        {
          "output_type": "execute_result",
          "data": {
            "text/plain": [
              "{'max_depth': 76, 'n_estimators': 86}"
            ]
          },
          "metadata": {
            "tags": []
          },
          "execution_count": 20
        }
      ]
    },
    {
      "cell_type": "code",
      "metadata": {
        "colab": {
          "base_uri": "https://localhost:8080/"
        },
        "id": "rAPmCrQTjJjB",
        "outputId": "bea1da1f-7005-422c-d11c-06b9a9f11569"
      },
      "source": [
        "forest_opt = RandomForestRegressor(n_estimators=377, max_depth=13)\n",
        "rnd_val(forest_opt)"
      ],
      "execution_count": null,
      "outputs": [
        {
          "output_type": "stream",
          "text": [
            "R2 test: 0.5801315753780065\n",
            "R2 train 0.9512462870043583\n",
            "R2 test: 0.7535991897006895\n",
            "R2 train 0.9414071223150008\n",
            "R2 test: 0.6293129331213545\n",
            "R2 train 0.948511919301278\n",
            "R2 test: 0.5605796572408259\n",
            "R2 train 0.9594975756523016\n",
            "R2 test: 0.636497128529293\n",
            "R2 train 0.9463063924883115\n",
            "R2 test: 0.7470044310412374\n",
            "R2 train 0.9562804437469578\n",
            "R2 test: 0.7364351838609807\n",
            "R2 train 0.9504606480753958\n",
            "R2 test: 0.5240218852921729\n",
            "R2 train 0.9442568808951834\n",
            "R2 test: 0.6150094082822655\n",
            "R2 train 0.9466349854940962\n",
            "R2 test: 0.675212963281651\n",
            "R2 train 0.9416246249836978\n",
            "R2 test: 0.5834885510787475\n",
            "R2 train 0.9394743025548743\n",
            "R2 test: 0.7166422330425961\n",
            "R2 train 0.9432070727815771\n",
            "R2 test: 0.7641926627909466\n",
            "R2 train 0.9407523021059435\n",
            "R2 test: 0.6375233717458788\n",
            "R2 train 0.9535893403496956\n",
            "R2 test: 0.6585040504949754\n",
            "R2 train 0.9436179653091585\n",
            "R2 test: 0.29426162482524254\n",
            "R2 train 0.9572238884546292\n",
            "R2 test: 0.6761099127879119\n",
            "R2 train 0.9481653877211518\n",
            "R2 test: 0.7106317697954172\n",
            "R2 train 0.9444483465660709\n",
            "R2 test: 0.587889599365475\n",
            "R2 train 0.9320546164461335\n",
            "R2 test: 0.6764063462078951\n",
            "R2 train 0.917263090779755\n",
            "R2 test: 0.6528433781848008\n",
            "R2 train 0.9486423220588477\n",
            "R2 test: 0.8095912512170813\n",
            "R2 train 0.9534137969311856\n",
            "R2 test: 0.6214407662283734\n",
            "R2 train 0.94239325670198\n",
            "R2 test: 0.6501699757219903\n",
            "R2 train 0.9489956563927552\n",
            "R2 test: 0.3797731731954802\n",
            "R2 train 0.9532620870828342\n",
            "R2 test: 0.7356094480287786\n",
            "R2 train 0.9343442077925107\n",
            "R2 test: 0.4302579042289907\n",
            "R2 train 0.9444419976264607\n",
            "R2 test: 0.5523751869344713\n",
            "R2 train 0.9564167389306075\n",
            "R2 test: 0.6673428795276444\n",
            "R2 train 0.9237153408848561\n",
            "R2 test: 0.592167996273204\n",
            "R2 train 0.9359134284955253\n",
            "R2 test: 0.7217320581076733\n",
            "R2 train 0.9464578631226789\n",
            "R2 test: 0.7459026929392886\n",
            "R2 train 0.9498952496968811\n",
            "R2 test: 0.4105811725220341\n",
            "R2 train 0.9441960760692424\n",
            "R2 test: 0.5820853377902032\n",
            "R2 train 0.9344180607404148\n",
            "R2 test: 0.6862532677700985\n",
            "R2 train 0.9436864740072529\n",
            "R2 test: 0.7130523877376818\n",
            "R2 train 0.9226325436127012\n",
            "R2 test: 0.5218445717410867\n",
            "R2 train 0.9521929271023629\n",
            "R2 test: 0.6372002827822043\n",
            "R2 train 0.9458078753739754\n",
            "R2 test: 0.7150623268087675\n",
            "R2 train 0.9323203983697996\n",
            "R2 test: 0.5566310092850475\n",
            "R2 train 0.9517899324029556\n",
            "R2 test: 0.599599714545832\n",
            "R2 train 0.9516153217426483\n",
            "R2 test: 0.7638618435973515\n",
            "R2 train 0.9513122745983078\n",
            "R2 test: 0.4611466032613094\n",
            "R2 train 0.9480911443818835\n",
            "R2 test: 0.6638000086515167\n",
            "R2 train 0.9409969704557604\n",
            "R2 test: 0.6807144805040084\n",
            "R2 train 0.9532789209259388\n",
            "R2 test: 0.4816110714060866\n",
            "R2 train 0.9099451022234025\n",
            "R2 test: 0.6640202958125588\n",
            "R2 train 0.9450201137779507\n",
            "R2 test: 0.30568223136744865\n",
            "R2 train 0.947691113611375\n",
            "R2 test: 0.732090459854266\n",
            "R2 train 0.946340118569818\n",
            "R2 test: 0.7340153420613641\n",
            "R2 train 0.955583209974939\n",
            "R2 test: 0.3184556732363063\n",
            "R2 train 0.9544097464442972\n",
            "R2 test: 0.6625822656910175\n",
            "R2 train 0.9320884057454425\n",
            "R2 test: 0.5074802323298044\n",
            "R2 train 0.9417415548349417\n",
            "R2 test: 0.5480258799998321\n",
            "R2 train 0.9382363581946005\n",
            "R2 test: 0.5949522945795958\n",
            "R2 train 0.9501575456280072\n",
            "R2 test: 0.6399016782469611\n",
            "R2 train 0.9307435611672148\n",
            "R2 test: 0.5999697638879634\n",
            "R2 train 0.950719344310847\n",
            "R2 test: 0.540719597740887\n",
            "R2 train 0.9534389343956665\n",
            "R2 test: 0.7328641724707867\n",
            "R2 train 0.9444213186787922\n",
            "R2 test: 0.7653589996846181\n",
            "R2 train 0.9561134029782693\n",
            "R2 test: 0.6740687142266495\n",
            "R2 train 0.9453393563235345\n",
            "R2 test: 0.6734134354205561\n",
            "R2 train 0.9243952840692256\n",
            "R2 test: 0.44330549271346803\n",
            "R2 train 0.95434149662664\n",
            "R2 test: 0.6888447911708304\n",
            "R2 train 0.9372799061328522\n",
            "R2 test: 0.6774650983861417\n",
            "R2 train 0.9364320358340061\n",
            "R2 test: 0.5429551267063436\n",
            "R2 train 0.9513683786061548\n",
            "R2 test: 0.5196169122502672\n",
            "R2 train 0.9555940854170717\n",
            "R2 test: 0.5177095268507266\n",
            "R2 train 0.9551441384089877\n",
            "R2 test: 0.4549662612799356\n",
            "R2 train 0.9566367781651014\n",
            "R2 test: 0.29554891484037515\n",
            "R2 train 0.9552904873707683\n",
            "R2 test: 0.7176673993290389\n",
            "R2 train 0.9442157851932617\n",
            "R2 test: 0.637917211638459\n",
            "R2 train 0.9361570968297597\n",
            "R2 test: 0.7463319945458555\n",
            "R2 train 0.92716724679829\n",
            "R2 test: 0.7044156763497467\n",
            "R2 train 0.9535382207306645\n",
            "R2 test: 0.6649779294053708\n",
            "R2 train 0.9473687980654972\n",
            "R2 test: 0.6314484552709473\n",
            "R2 train 0.925942611143194\n",
            "R2 test: 0.7144354023293398\n",
            "R2 train 0.957416513538692\n",
            "R2 test: 0.747398709098098\n",
            "R2 train 0.9493537083543209\n",
            "R2 test: 0.6397461454899691\n",
            "R2 train 0.9480334224223066\n",
            "R2 test: 0.25858327780091195\n",
            "R2 train 0.954426886455217\n",
            "R2 test: 0.7228185953571137\n",
            "R2 train 0.9522435389508679\n",
            "R2 test: 0.6829693962063486\n",
            "R2 train 0.9426854837265203\n",
            "R2 test: 0.47337217923782604\n",
            "R2 train 0.9502897688697494\n",
            "R2 test: 0.4799884200913619\n",
            "R2 train 0.9583233152426693\n",
            "R2 test: 0.6717746186105231\n",
            "R2 train 0.9266862712234989\n",
            "R2 test: 0.7014215216941153\n",
            "R2 train 0.9466288458134635\n",
            "R2 test: 0.742541373897504\n",
            "R2 train 0.9382453884243601\n",
            "R2 test: 0.6681681117081143\n",
            "R2 train 0.9374130300407588\n",
            "R2 test: 0.7136560224306359\n",
            "R2 train 0.9540569593291784\n",
            "R2 test: 0.6899638592480142\n",
            "R2 train 0.9476400607431654\n",
            "R2 test: 0.6244271511407757\n",
            "R2 train 0.9475655082855701\n",
            "R2 test: 0.672411798321222\n",
            "R2 train 0.942067144175051\n",
            "R2 test: 0.6487883804414984\n",
            "R2 train 0.9467655344775004\n",
            "R2 test: 0.6389821286438718\n",
            "R2 train 0.9537728357217726\n",
            "R2 test: 0.671441356193874\n",
            "R2 train 0.9480600436603227\n",
            "R2 test: 0.5410181583712703\n",
            "R2 train 0.9492208649139197\n",
            "R2 test: 0.7567524191292907\n",
            "R2 train 0.9337957104179679\n",
            "R2 test: 0.6243315021621819\n",
            "R2 train 0.949651030828879\n",
            "R2 test: 0.6842245175878197\n",
            "R2 train 0.9288541704066291\n",
            "R2 test: 0.7795656482093998\n",
            "R2 train 0.9415667145195123\n",
            "mean R2 test: 0.6228165778760377\n"
          ],
          "name": "stdout"
        }
      ]
    },
    {
      "cell_type": "code",
      "metadata": {
        "colab": {
          "base_uri": "https://localhost:8080/",
          "height": 545
        },
        "id": "mmMtgS_dLWL1",
        "outputId": "aa28837e-5130-4cbd-bcd4-01476572328b"
      },
      "source": [
        "plt_error_hist(forest_opt)"
      ],
      "execution_count": null,
      "outputs": [
        {
          "output_type": "display_data",
          "data": {
            "image/png": "[encoded data removed]",
            "text/plain": [
              "<Figure size 432x288 with 1 Axes>"
            ]
          },
          "metadata": {
            "tags": [],
            "needs_background": "light"
          }
        },
        {
          "output_type": "display_data",
          "data": {
            "image/png": "[encoded data removed]",
            "text/plain": [
              "<Figure size 432x288 with 1 Axes>"
            ]
          },
          "metadata": {
            "tags": [],
            "needs_background": "light"
          }
        }
      ]
    },
    {
      "cell_type": "markdown",
      "metadata": {
        "id": "f5ouxpw2LZUc"
      },
      "source": [
        "# Gradient Booster"
      ]
    },
    {
      "cell_type": "code",
      "metadata": {
        "colab": {
          "base_uri": "https://localhost:8080/",
          "height": 873
        },
        "id": "2iDLPzcfLd9X",
        "outputId": "e6af453f-efca-4618-896a-1ee1a913feb4"
      },
      "source": [
        "data.tts()\n",
        "booster = GradientBoostingRegressor(random_state=7)\n",
        "booster.fit(data.X_train, data.y_train)\n",
        "\n",
        "get_R2s(booster)\n",
        "plt_y_pred(booster)"
      ],
      "execution_count": null,
      "outputs": [
        {
          "output_type": "stream",
          "text": [
            "test R2: 0.7437957469661448\n",
            "train R2: 0.9357488921897997\n"
          ],
          "name": "stdout"
        },
        {
          "output_type": "display_data",
          "data": {
            "image/png": "[encoded data removed]",
            "text/plain": [
              "<Figure size 432x288 with 1 Axes>"
            ]
          },
          "metadata": {
            "tags": [],
            "needs_background": "light"
          }
        },
        {
          "output_type": "display_data",
          "data": {
            "image/png": "[encoded data removed]",
            "text/plain": [
              "<Figure size 432x288 with 1 Axes>"
            ]
          },
          "metadata": {
            "tags": [],
            "needs_background": "light"
          }
        },
        {
          "output_type": "display_data",
          "data": {
            "image/png": "[encoded data removed]",
            "text/plain": [
              "<Figure size 432x288 with 1 Axes>"
            ]
          },
          "metadata": {
            "tags": [],
            "needs_background": "light"
          }
        }
      ]
    },
    {
      "cell_type": "markdown",
      "metadata": {
        "id": "w2YV64Y3LtpD"
      },
      "source": [
        "grid search for the gradient booster"
      ]
    },
    {
      "cell_type": "code",
      "metadata": {
        "colab": {
          "base_uri": "https://localhost:8080/"
        },
        "id": "XQVzoDOaLxsW",
        "outputId": "363194e8-5137-40ab-b43b-a1368c514fef"
      },
      "source": [
        "# loss\n",
        "loss = ['ls', 'lad', 'huber', 'quantile']\n",
        "# learning rate\n",
        "lr = [0.001, 0.01, 0.1, 1]\n",
        "# max depth\n",
        "maxD = [2, 3, 5]\n",
        "\n",
        "# create the random grid\n",
        "random_grid = {'loss': loss\n",
        "               , 'learning_rate': lr\n",
        "               , 'max_depth': maxD\n",
        "               }\n",
        "\n",
        "# base model to tune\n",
        "baseBoost = GradientBoostingRegressor()\n",
        "\n",
        "# random grid search for parameters\n",
        "boost_random = RandomizedSearchCV(estimator = baseBoost\n",
        "                                  , param_distributions = random_grid\n",
        "                                  , n_iter =10           # different combinations to search\n",
        "                                  , cv = 3               # 3 fold cross validation\n",
        "                                  )\n",
        "\n",
        "# if grid is to run on a different data split, run this:\n",
        "data.tts(rnd = None)\n",
        "# fixed data split:\n",
        "# data.tts(rnd = 42)\n",
        "\n",
        "# single grid search:\n",
        "boost_random.fit(data.X_train, data.y_train)\n",
        "boost_random.best_params_"
      ],
      "execution_count": null,
      "outputs": [
        {
          "output_type": "execute_result",
          "data": {
            "text/plain": [
              "{'learning_rate': 1, 'loss': 'huber', 'max_depth': 2}"
            ]
          },
          "metadata": {
            "tags": []
          },
          "execution_count": 25
        }
      ]
    },
    {
      "cell_type": "code",
      "metadata": {
        "colab": {
          "base_uri": "https://localhost:8080/"
        },
        "id": "O4ZbgMl1L34l",
        "outputId": "99a3890c-b6bc-4ee7-f346-7d9a7c2904f6"
      },
      "source": [
        "booster_opt = GradientBoostingRegressor(learning_rate=0.1   \n",
        "                                        , loss = 'ls'          \n",
        "                                        , max_depth = 3         \n",
        "                                        , n_estimators = 200\n",
        "                                        )\n",
        "\n",
        "rnd_val(booster_opt)"
      ],
      "execution_count": null,
      "outputs": [
        {
          "output_type": "stream",
          "text": [
            "R2 test: 0.45532496155723046\n",
            "R2 train 0.9489453514274889\n",
            "R2 test: 0.8276302867178427\n",
            "R2 train 0.9666227511709168\n",
            "R2 test: 0.7749750085213584\n",
            "R2 train 0.9600063915195177\n",
            "R2 test: 0.7414109580724695\n",
            "R2 train 0.9608117029202727\n",
            "R2 test: 0.6437116325170633\n",
            "R2 train 0.9716506593129769\n",
            "R2 test: 0.26147225819536857\n",
            "R2 train 0.9722984354924782\n",
            "R2 test: 0.5833417401013898\n",
            "R2 train 0.9707229168290276\n",
            "R2 test: 0.5957244407646287\n",
            "R2 train 0.9737825377457694\n",
            "R2 test: 0.5647409813811375\n",
            "R2 train 0.9708743797040242\n",
            "R2 test: 0.8225887147335665\n",
            "R2 train 0.9582614200217096\n",
            "R2 test: 0.8560762069960499\n",
            "R2 train 0.9692150417088923\n",
            "R2 test: 0.414354337592323\n",
            "R2 train 0.9714505353422418\n",
            "R2 test: 0.7376485983280814\n",
            "R2 train 0.97126487981723\n",
            "R2 test: 0.7509028403331732\n",
            "R2 train 0.966873511662962\n",
            "R2 test: 0.8430194047811512\n",
            "R2 train 0.9595001158319082\n",
            "R2 test: 0.8126199030739486\n",
            "R2 train 0.9694332960123512\n",
            "R2 test: 0.7369656481934228\n",
            "R2 train 0.9687745440861285\n",
            "R2 test: 0.7640728904707291\n",
            "R2 train 0.971298646762494\n",
            "R2 test: 0.8025967090488364\n",
            "R2 train 0.9668279139687825\n",
            "R2 test: 0.7700702220939551\n",
            "R2 train 0.9630100697044535\n",
            "R2 test: 0.6077235278053887\n",
            "R2 train 0.9727984526926463\n",
            "R2 test: 0.6111126762165839\n",
            "R2 train 0.9710543306331229\n",
            "R2 test: 0.7022666990617104\n",
            "R2 train 0.9715722859696521\n",
            "R2 test: 0.6352116825956068\n",
            "R2 train 0.9695338082754427\n",
            "R2 test: 0.6566699925531949\n",
            "R2 train 0.9663739232645343\n",
            "R2 test: 0.6477091287850594\n",
            "R2 train 0.9712211812305882\n",
            "R2 test: 0.45292614349706267\n",
            "R2 train 0.9727438370778858\n",
            "R2 test: 0.5784170230211875\n",
            "R2 train 0.9696210020586212\n",
            "R2 test: 0.8359353939803823\n",
            "R2 train 0.9697200071692511\n",
            "R2 test: 0.8715527968051368\n",
            "R2 train 0.9686871612937135\n",
            "R2 test: 0.7269265902396296\n",
            "R2 train 0.9706486882692213\n",
            "R2 test: 0.42986735896710904\n",
            "R2 train 0.9747964043248118\n",
            "R2 test: 0.8248277996332127\n",
            "R2 train 0.9659698264918203\n",
            "R2 test: 0.7567407176198682\n",
            "R2 train 0.9661917347038463\n",
            "R2 test: 0.7769973378788311\n",
            "R2 train 0.9633210548932748\n",
            "R2 test: 0.7067736769361226\n",
            "R2 train 0.9720671990650933\n",
            "R2 test: 0.865824218447192\n",
            "R2 train 0.9716007130412204\n",
            "R2 test: 0.7253594552385665\n",
            "R2 train 0.9724491247047344\n",
            "R2 test: 0.6674033491696687\n",
            "R2 train 0.9676543114129743\n",
            "R2 test: 0.8072113298015968\n",
            "R2 train 0.9583640604254458\n",
            "R2 test: 0.638414458376792\n",
            "R2 train 0.9746368226810039\n",
            "R2 test: 0.6703603419628708\n",
            "R2 train 0.9736344298983647\n",
            "R2 test: 0.7213243955272106\n",
            "R2 train 0.9734886002901044\n",
            "R2 test: 0.5357631350445873\n",
            "R2 train 0.969041270634231\n",
            "R2 test: 0.5698155944673545\n",
            "R2 train 0.975927384118497\n",
            "R2 test: 0.5509152135458597\n",
            "R2 train 0.9727745574738378\n",
            "R2 test: 0.1767131146402613\n",
            "R2 train 0.9725197091829062\n",
            "R2 test: 0.7480866232288914\n",
            "R2 train 0.9732284529455977\n",
            "R2 test: 0.475705112672895\n",
            "R2 train 0.9662827596952049\n",
            "R2 test: 0.7290267028666281\n",
            "R2 train 0.9714857966149957\n",
            "R2 test: 0.5937700302776405\n",
            "R2 train 0.9736076874963501\n",
            "R2 test: 0.8382959628160097\n",
            "R2 train 0.9670101339796604\n",
            "R2 test: 0.5507264965150477\n",
            "R2 train 0.9705438310287401\n",
            "R2 test: 0.49525361993285283\n",
            "R2 train 0.9641904482235601\n",
            "R2 test: 0.5888197300498009\n",
            "R2 train 0.973080605229854\n",
            "R2 test: 0.8737380057680716\n",
            "R2 train 0.967158332223409\n",
            "R2 test: 0.8354232036878624\n",
            "R2 train 0.9718709267538792\n",
            "R2 test: 0.779582204231491\n",
            "R2 train 0.9665035962822499\n",
            "R2 test: 0.4195035159693197\n",
            "R2 train 0.9692702265375682\n",
            "R2 test: 0.7905995961597508\n",
            "R2 train 0.9667778400612703\n",
            "R2 test: 0.6834556453932592\n",
            "R2 train 0.971580896236871\n",
            "R2 test: 0.7403363199735643\n",
            "R2 train 0.9441936705530009\n",
            "R2 test: 0.817225123193966\n",
            "R2 train 0.965595278958644\n",
            "R2 test: 0.6775996889365523\n",
            "R2 train 0.9683966902652865\n",
            "R2 test: 0.7184372624192065\n",
            "R2 train 0.9704981905724924\n",
            "R2 test: 0.7344521895509037\n",
            "R2 train 0.9723358130863634\n",
            "R2 test: 0.8117957867268781\n",
            "R2 train 0.9699933866967749\n",
            "R2 test: 0.6952107138186755\n",
            "R2 train 0.9721281296174773\n",
            "R2 test: 0.7810918857663812\n",
            "R2 train 0.9628732635085948\n",
            "R2 test: 0.7925422998781757\n",
            "R2 train 0.9639616890316219\n",
            "R2 test: 0.7233308202386144\n",
            "R2 train 0.9714583089939393\n",
            "R2 test: 0.8621292156734419\n",
            "R2 train 0.9677588966816343\n",
            "R2 test: 0.7289084293943271\n",
            "R2 train 0.9691256152372021\n",
            "R2 test: 0.8368468819967128\n",
            "R2 train 0.9649847156685839\n",
            "R2 test: 0.8519212854733809\n",
            "R2 train 0.9692481740421841\n",
            "R2 test: 0.7692669547912783\n",
            "R2 train 0.9684717898245694\n",
            "R2 test: 0.8574425371930908\n",
            "R2 train 0.967739585721582\n",
            "R2 test: 0.4327674330759942\n",
            "R2 train 0.9550413881400921\n",
            "R2 test: 0.704032235756288\n",
            "R2 train 0.9683463968597152\n",
            "R2 test: 0.6734734288441313\n",
            "R2 train 0.9729640698600986\n",
            "R2 test: 0.8270797907344088\n",
            "R2 train 0.9691999565037216\n",
            "R2 test: 0.4650547153239282\n",
            "R2 train 0.9675962600786433\n",
            "R2 test: 0.6378328146142499\n",
            "R2 train 0.9668839421844359\n",
            "R2 test: 0.8815147420930745\n",
            "R2 train 0.9672333846191415\n",
            "R2 test: 0.8303527829978292\n",
            "R2 train 0.9699859002166757\n",
            "R2 test: 0.74255558344406\n",
            "R2 train 0.9644964948373046\n",
            "R2 test: 0.7092439917473383\n",
            "R2 train 0.9626923142598895\n",
            "R2 test: 0.8832584048387201\n",
            "R2 train 0.9713262974714445\n",
            "R2 test: 0.8468722577270775\n",
            "R2 train 0.9559128366184352\n",
            "R2 test: 0.5436407230240885\n",
            "R2 train 0.9703597700505826\n",
            "R2 test: 0.7665161018342812\n",
            "R2 train 0.9639717738554979\n",
            "R2 test: 0.7757952916185955\n",
            "R2 train 0.9617603180965226\n",
            "R2 test: 0.33307905959712486\n",
            "R2 train 0.9572199781833297\n",
            "R2 test: 0.6477564914145715\n",
            "R2 train 0.9707915120874678\n",
            "R2 test: 0.7642207050909837\n",
            "R2 train 0.9596400902396178\n",
            "R2 test: 0.8231123652736257\n",
            "R2 train 0.9657939761794487\n",
            "R2 test: 0.6851659678924051\n",
            "R2 train 0.9725275529069861\n",
            "R2 test: 0.6870173688425982\n",
            "R2 train 0.9738238158397324\n",
            "R2 test: 0.5975681294210082\n",
            "R2 train 0.9740826267176962\n",
            "R2 test: 0.7741135722756655\n",
            "R2 train 0.9714315027490277\n",
            "mean R2 test: 0.6934255869736848\n"
          ],
          "name": "stdout"
        }
      ]
    },
    {
      "cell_type": "code",
      "metadata": {
        "colab": {
          "base_uri": "https://localhost:8080/",
          "height": 839
        },
        "id": "q93FwAt7vP6t",
        "outputId": "d483231d-7a4a-4c8d-bb61-abb3353ee11e"
      },
      "source": [
        "plt_y_pred(booster_opt)"
      ],
      "execution_count": null,
      "outputs": [
        {
          "output_type": "display_data",
          "data": {
            "image/png": "[encoded data removed]",
            "text/plain": [
              "<Figure size 432x288 with 1 Axes>"
            ]
          },
          "metadata": {
            "tags": [],
            "needs_background": "light"
          }
        },
        {
          "output_type": "display_data",
          "data": {
            "image/png": "[encoded data removed]",
            "text/plain": [
              "<Figure size 432x288 with 1 Axes>"
            ]
          },
          "metadata": {
            "tags": [],
            "needs_background": "light"
          }
        },
        {
          "output_type": "display_data",
          "data": {
            "image/png": "[encoded data removed]",
            "text/plain": [
              "<Figure size 432x288 with 1 Axes>"
            ]
          },
          "metadata": {
            "tags": [],
            "needs_background": "light"
          }
        }
      ]
    },
    {
      "cell_type": "code",
      "metadata": {
        "colab": {
          "base_uri": "https://localhost:8080/",
          "height": 545
        },
        "id": "BzLS6A3XL_3G",
        "outputId": "0d7b698f-0625-43da-8e41-eef641ebf3e5"
      },
      "source": [
        "plt_error_hist(booster_opt)"
      ],
      "execution_count": null,
      "outputs": [
        {
          "output_type": "display_data",
          "data": {
            "image/png": "[encoded data removed]",
            "text/plain": [
              "<Figure size 432x288 with 1 Axes>"
            ]
          },
          "metadata": {
            "tags": [],
            "needs_background": "light"
          }
        },
        {
          "output_type": "display_data",
          "data": {
            "image/png": "[encoded data removed]",
            "text/plain": [
              "<Figure size 432x288 with 1 Axes>"
            ]
          },
          "metadata": {
            "tags": [],
            "needs_background": "light"
          }
        }
      ]
    },
    {
      "cell_type": "markdown",
      "metadata": {
        "id": "bLZwtKJJMLLP"
      },
      "source": [
        "# Stochastic Gradient Boosting Regressor"
      ]
    },
    {
      "cell_type": "code",
      "metadata": {
        "colab": {
          "base_uri": "https://localhost:8080/",
          "height": 873
        },
        "id": "ClHrGWe5MIf3",
        "outputId": "ff24460b-05dc-4934-fdb0-f79222d06fc6"
      },
      "source": [
        "data.tts() \n",
        "booster_SG = GradientBoostingRegressor(random_state=7\n",
        "                                        , subsample = 0.5\n",
        "                                        , max_depth=5       \n",
        "                                        , n_estimators = 200\n",
        "                                        ) \n",
        "     \n",
        "booster_SG.fit(data.X_train, data.y_train)\n",
        "\n",
        "get_R2s(booster_SG)\n",
        "plt_y_pred(booster_SG)"
      ],
      "execution_count": null,
      "outputs": [
        {
          "output_type": "stream",
          "text": [
            "test R2: 0.8512322213054507\n",
            "train R2: 0.9905828201636379\n"
          ],
          "name": "stdout"
        },
        {
          "output_type": "display_data",
          "data": {
            "image/png": "[encoded data removed]",
            "text/plain": [
              "<Figure size 432x288 with 1 Axes>"
            ]
          },
          "metadata": {
            "tags": [],
            "needs_background": "light"
          }
        },
        {
          "output_type": "display_data",
          "data": {
            "image/png": "[encoded data removed]",
            "text/plain": [
              "<Figure size 432x288 with 1 Axes>"
            ]
          },
          "metadata": {
            "tags": [],
            "needs_background": "light"
          }
        },
        {
          "output_type": "display_data",
          "data": {
            "image/png": "[encoded data removed]",
            "text/plain": [
              "<Figure size 432x288 with 1 Axes>"
            ]
          },
          "metadata": {
            "tags": [],
            "needs_background": "light"
          }
        }
      ]
    },
    {
      "cell_type": "markdown",
      "metadata": {
        "id": "2UsvSR2meNyL"
      },
      "source": [
        "grid search for stochastic gradient boosting regressor"
      ]
    },
    {
      "cell_type": "code",
      "metadata": {
        "colab": {
          "base_uri": "https://localhost:8080/"
        },
        "id": "wOVmXNU85KKF",
        "outputId": "bd33b6a7-816a-4a5d-eb0e-1d52f9d19c27"
      },
      "source": [
        "# loss\n",
        "loss = ['ls', 'lad', 'huber', 'quantile']\n",
        "# learning rate\n",
        "lr = [0.01, 0.1]\n",
        "# max depth\n",
        "maxD = [3, 5, 7]\n",
        "# estimators\n",
        "n_estim = [200, 500, 1000]\n",
        "\n",
        "# create the grid\n",
        "grid = {'loss': loss\n",
        "        , 'learning_rate': lr\n",
        "        , 'max_depth': maxD\n",
        "        , 'n_estimators' : n_estim\n",
        "        }\n",
        "\n",
        "# base model to tune\n",
        "baseSGBoost = GradientBoostingRegressor(subsample = 0.5)\n",
        "\n",
        "# random grid search for parameters\n",
        "boost_search = GridSearchCV(estimator = baseSGBoost, param_grid = grid)\n",
        "#boost_search = RandomizedSearchCV(estimator = baseSGBoost\n",
        "#                                  , param_distributions = grid\n",
        "#                                  , n_iter =100           # different combinations to search\n",
        "#                                  , cv = 3              # 3 fold cross validation\n",
        "#                                  )\n",
        "\n",
        "# if grid is to run on a different data split, run this:\n",
        "data.tts(rnd = None)\n",
        "# fixed data split:\n",
        "# data.tts(rnd = 42)\n",
        "\n",
        "# single grid search:\n",
        "boost_search.fit(data.X_train, data.y_train)\n",
        "boost_search.best_params_"
      ],
      "execution_count": null,
      "outputs": [
        {
          "output_type": "execute_result",
          "data": {
            "text/plain": [
              "{'learning_rate': 0.1, 'loss': 'huber', 'max_depth': 7, 'n_estimators': 1000}"
            ]
          },
          "metadata": {
            "tags": []
          },
          "execution_count": 31
        }
      ]
    },
    {
      "cell_type": "code",
      "metadata": {
        "colab": {
          "base_uri": "https://localhost:8080/"
        },
        "id": "OpAKQK89UWl3",
        "outputId": "0370a701-dfb1-4663-8f7d-46ef01c29266"
      },
      "source": [
        "booster_SG_opt_grid = GradientBoostingRegressor(subsample = 0.5\n",
        "                                           , max_depth=7       \n",
        "                                           , n_estimators = 1000\n",
        "                                           , loss = 'huber'\n",
        "                                            ) # \n",
        "rnd_val(booster_SG_opt_grid)"
      ],
      "execution_count": null,
      "outputs": [
        {
          "output_type": "stream",
          "text": [
            "R2 test: 0.8775675691104576\n",
            "R2 train 0.9937997837285317\n",
            "R2 test: 0.7016862744165089\n",
            "R2 train 0.9950097549723774\n",
            "R2 test: 0.8844707721581384\n",
            "R2 train 0.9921916021046637\n",
            "R2 test: 0.7759118193946077\n",
            "R2 train 0.9957085193345702\n",
            "R2 test: 0.7739705362180487\n",
            "R2 train 0.9933841830207589\n",
            "R2 test: 0.847165247062561\n",
            "R2 train 0.9942868757825165\n",
            "R2 test: 0.7162599402513066\n",
            "R2 train 0.9930097435158014\n",
            "R2 test: 0.8490603648373569\n",
            "R2 train 0.9951741592758141\n",
            "R2 test: 0.4553291083438363\n",
            "R2 train 0.9976506947399152\n",
            "R2 test: 0.4892846125134126\n",
            "R2 train 0.994334040617887\n",
            "R2 test: 0.9091048706609169\n",
            "R2 train 0.9945474568115076\n",
            "R2 test: 0.6260039136764052\n",
            "R2 train 0.9962186806088109\n",
            "R2 test: 0.9207746049097341\n",
            "R2 train 0.9952534712694642\n",
            "R2 test: 0.810849132672609\n",
            "R2 train 0.9942474978892646\n",
            "R2 test: 0.7691630171246157\n",
            "R2 train 0.9968718013197368\n",
            "R2 test: 0.7616605992620654\n",
            "R2 train 0.9965670432805265\n",
            "R2 test: 0.5287243816557256\n",
            "R2 train 0.987196828989511\n",
            "R2 test: 0.7065617751777113\n",
            "R2 train 0.9928571828111082\n",
            "R2 test: 0.4579330410034956\n",
            "R2 train 0.9894524127196282\n",
            "R2 test: 0.8372756769933183\n",
            "R2 train 0.9956870379354993\n",
            "R2 test: 0.7461199070323453\n",
            "R2 train 0.9924394141813189\n",
            "R2 test: 0.6391535062233747\n",
            "R2 train 0.9958331366752191\n",
            "R2 test: 0.7719294160655077\n",
            "R2 train 0.9972831405517614\n",
            "R2 test: 0.7768429820783049\n",
            "R2 train 0.9970237691579038\n",
            "R2 test: 0.7932439506632849\n",
            "R2 train 0.9943274501273749\n",
            "R2 test: 0.7734430610981519\n",
            "R2 train 0.9954222759380114\n",
            "R2 test: 0.6180325696762646\n",
            "R2 train 0.9962517916929131\n",
            "R2 test: 0.636129276760296\n",
            "R2 train 0.9909303634989562\n",
            "R2 test: 0.4518507288370347\n",
            "R2 train 0.9934893511270958\n",
            "R2 test: 0.7818686278672806\n",
            "R2 train 0.9934037079625018\n",
            "R2 test: 0.7388908289528527\n",
            "R2 train 0.9968411996770095\n",
            "R2 test: 0.5746061445650847\n",
            "R2 train 0.9962244506129373\n",
            "R2 test: 0.49207179473792284\n",
            "R2 train 0.9922911407124771\n",
            "R2 test: 0.8544493292935313\n",
            "R2 train 0.9966444521349787\n",
            "R2 test: 0.8515057901603919\n",
            "R2 train 0.9950308075044306\n",
            "R2 test: 0.7861229940760444\n",
            "R2 train 0.9953440502630798\n",
            "R2 test: 0.7327308943505851\n",
            "R2 train 0.9963229489293486\n",
            "R2 test: 0.7151938566612068\n",
            "R2 train 0.9950536601478176\n",
            "R2 test: 0.8427107582791691\n",
            "R2 train 0.9964533788131333\n",
            "R2 test: 0.7851157306656171\n",
            "R2 train 0.9898336032623954\n",
            "R2 test: 0.7823670458337011\n",
            "R2 train 0.9938089036701044\n",
            "R2 test: 0.7871670879165659\n",
            "R2 train 0.9928728208588508\n",
            "R2 test: 0.7531101191018873\n",
            "R2 train 0.9965897762605634\n",
            "R2 test: 0.8011240227350503\n",
            "R2 train 0.9869436917115393\n",
            "R2 test: 0.5440041651503087\n",
            "R2 train 0.9949312864766644\n",
            "R2 test: 0.5378275676143891\n",
            "R2 train 0.9875728354146631\n",
            "R2 test: 0.7829909284146711\n",
            "R2 train 0.9895327907275823\n",
            "R2 test: 0.8293222490376415\n",
            "R2 train 0.9957321397361559\n",
            "R2 test: 0.721770970699692\n",
            "R2 train 0.9960805275193881\n",
            "R2 test: 0.769905019201531\n",
            "R2 train 0.9948129399996929\n",
            "R2 test: 0.699560276286499\n",
            "R2 train 0.9963556571660807\n",
            "R2 test: 0.6647956664692448\n",
            "R2 train 0.9943147763403337\n",
            "R2 test: 0.5728723883370028\n",
            "R2 train 0.9978166392721101\n",
            "R2 test: 0.796981392210287\n",
            "R2 train 0.9955196512416017\n",
            "R2 test: 0.7522621338374128\n",
            "R2 train 0.9961741242717576\n",
            "R2 test: 0.7755316264579637\n",
            "R2 train 0.9935292388493341\n",
            "R2 test: 0.6753366508556721\n",
            "R2 train 0.9942210857631837\n",
            "R2 test: 0.6748332452790624\n",
            "R2 train 0.9944936065319554\n",
            "R2 test: 0.8137196456977357\n",
            "R2 train 0.9968944028018486\n",
            "R2 test: 0.8814362195107838\n",
            "R2 train 0.996439463540754\n",
            "R2 test: 0.7524172427065365\n",
            "R2 train 0.9886538115566935\n",
            "R2 test: 0.8368139485021735\n",
            "R2 train 0.9818563465705216\n",
            "R2 test: 0.8008320461104441\n",
            "R2 train 0.9965682801329782\n",
            "R2 test: 0.8647960113488924\n",
            "R2 train 0.992284814873483\n",
            "R2 test: 0.7339454988879024\n",
            "R2 train 0.9736978281066413\n",
            "R2 test: 0.8414466902151077\n",
            "R2 train 0.9920866617119398\n",
            "R2 test: 0.5750224332736809\n",
            "R2 train 0.9975569133907107\n",
            "R2 test: 0.6441636024145808\n",
            "R2 train 0.9931712686274823\n",
            "R2 test: 0.8090339356004099\n",
            "R2 train 0.9957369552628449\n",
            "R2 test: 0.920840995054005\n",
            "R2 train 0.993261325693997\n",
            "R2 test: 0.6511638778384704\n",
            "R2 train 0.9951098440848238\n",
            "R2 test: 0.8120156257457166\n",
            "R2 train 0.9901354269361795\n",
            "R2 test: 0.7039448645828608\n",
            "R2 train 0.9915701649113343\n",
            "R2 test: 0.8220484925282401\n",
            "R2 train 0.9953172394038939\n",
            "R2 test: 0.7048366598890159\n",
            "R2 train 0.9943067555150635\n",
            "R2 test: 0.6232247608532153\n",
            "R2 train 0.9949590894213969\n",
            "R2 test: 0.7909067017938568\n",
            "R2 train 0.9904233573181372\n",
            "R2 test: 0.767601775196876\n",
            "R2 train 0.9944333764609484\n",
            "R2 test: 0.8044954811823207\n",
            "R2 train 0.9874910934311042\n",
            "R2 test: 0.817120190447678\n",
            "R2 train 0.9933923279654506\n",
            "R2 test: 0.7380772604881896\n",
            "R2 train 0.9941949660047141\n",
            "R2 test: 0.7803412207731643\n",
            "R2 train 0.9955961814408446\n",
            "R2 test: 0.8830291981247964\n",
            "R2 train 0.9947732394334222\n",
            "R2 test: 0.710874104375677\n",
            "R2 train 0.9958960437013247\n",
            "R2 test: 0.7354540733303667\n",
            "R2 train 0.9888313689431528\n",
            "R2 test: 0.7567817847571834\n",
            "R2 train 0.9876020489002884\n",
            "R2 test: 0.8618634325945503\n",
            "R2 train 0.9893384404996339\n",
            "R2 test: 0.8113755366756765\n",
            "R2 train 0.9872786938985811\n",
            "R2 test: 0.7526330085675436\n",
            "R2 train 0.9915829054893359\n",
            "R2 test: 0.7964274702276168\n",
            "R2 train 0.9938729538760361\n",
            "R2 test: 0.6101266448332403\n",
            "R2 train 0.9964964338960086\n",
            "R2 test: 0.7719256580742818\n",
            "R2 train 0.9952028755540645\n",
            "R2 test: 0.7353524974587347\n",
            "R2 train 0.9897230438107026\n",
            "R2 test: 0.7092906341921903\n",
            "R2 train 0.9960774189579144\n",
            "R2 test: 0.8407529785408794\n",
            "R2 train 0.989639433652363\n",
            "R2 test: 0.7414676105136624\n",
            "R2 train 0.9949710703425384\n",
            "R2 test: 0.7582172174688\n",
            "R2 train 0.9953319776697445\n",
            "R2 test: 0.8621081539169764\n",
            "R2 train 0.9925314408343329\n",
            "R2 test: 0.9085392646216042\n",
            "R2 train 0.9962202083993349\n",
            "R2 test: 0.8044031235842334\n",
            "R2 train 0.9962796911765534\n",
            "mean R2 test: 0.7452339953342553\n"
          ],
          "name": "stdout"
        }
      ]
    },
    {
      "cell_type": "code",
      "metadata": {
        "colab": {
          "base_uri": "https://localhost:8080/"
        },
        "id": "_z-qdWepI4Lz",
        "outputId": "80342c35-8aee-4a79-fc7c-0b51f265bb3a"
      },
      "source": [
        "booster_SG_opt = GradientBoostingRegressor(subsample = 0.5\n",
        "                                           , max_depth=5       \n",
        "                                           , n_estimators = 200\n",
        "                                            ) # \n",
        "rnd_val(booster_SG_opt)"
      ],
      "execution_count": null,
      "outputs": [
        {
          "output_type": "stream",
          "text": [
            "R2 test: 0.3445033888033039\n",
            "R2 train 0.9910631122681031\n",
            "R2 test: 0.8770362682394481\n",
            "R2 train 0.9930444408289166\n",
            "R2 test: 0.7170232732112858\n",
            "R2 train 0.9926514394712871\n",
            "R2 test: 0.886631921190569\n",
            "R2 train 0.9929423382759177\n",
            "R2 test: 0.42863688829458807\n",
            "R2 train 0.9896951730054735\n",
            "R2 test: 0.6104031942433513\n",
            "R2 train 0.9930944300045018\n",
            "R2 test: 0.8102458660069469\n",
            "R2 train 0.9894509116379794\n",
            "R2 test: 0.8471669631998757\n",
            "R2 train 0.9917233091245206\n",
            "R2 test: 0.769330598511588\n",
            "R2 train 0.9906936842676407\n",
            "R2 test: 0.7411174738868986\n",
            "R2 train 0.9934593894172029\n",
            "R2 test: 0.8443590316640595\n",
            "R2 train 0.9910061582899135\n",
            "R2 test: 0.562319977929056\n",
            "R2 train 0.9939216341575492\n",
            "R2 test: 0.8188075739741794\n",
            "R2 train 0.9929562418145302\n",
            "R2 test: 0.7813719792318493\n",
            "R2 train 0.993575263274609\n",
            "R2 test: 0.7608258008406344\n",
            "R2 train 0.9930920834425725\n",
            "R2 test: 0.7391409628139343\n",
            "R2 train 0.9936423284127022\n",
            "R2 test: 0.6743478862482781\n",
            "R2 train 0.9935003830923393\n",
            "R2 test: 0.700889344452723\n",
            "R2 train 0.9930317319332561\n",
            "R2 test: 0.5930307174164122\n",
            "R2 train 0.9934913428397911\n",
            "R2 test: 0.4546411304012864\n",
            "R2 train 0.9938080649461463\n",
            "R2 test: 0.8020830014151384\n",
            "R2 train 0.9924801614250206\n",
            "R2 test: 0.7867288127472661\n",
            "R2 train 0.9898517443381173\n",
            "R2 test: 0.7872339871850103\n",
            "R2 train 0.9935323227071449\n",
            "R2 test: 0.6397814995740031\n",
            "R2 train 0.9934269109719652\n",
            "R2 test: 0.6973651005090076\n",
            "R2 train 0.9933586322964809\n",
            "R2 test: 0.44086856021485765\n",
            "R2 train 0.9938209439513731\n",
            "R2 test: 0.8071934432944772\n",
            "R2 train 0.9926012957182968\n",
            "R2 test: 0.8488626232797242\n",
            "R2 train 0.9898089392447308\n",
            "R2 test: 0.8867887436096633\n",
            "R2 train 0.9915276978068087\n",
            "R2 test: 0.626926597248235\n",
            "R2 train 0.9931940744368652\n",
            "R2 test: 0.8096686097857498\n",
            "R2 train 0.9900964397523988\n",
            "R2 test: 0.2672684260126187\n",
            "R2 train 0.9908003643629809\n",
            "R2 test: 0.7187840813688058\n",
            "R2 train 0.9921173333574835\n",
            "R2 test: 0.723248749437519\n",
            "R2 train 0.9937316540760468\n",
            "R2 test: 0.6530603558485748\n",
            "R2 train 0.9929785804918908\n",
            "R2 test: 0.7220820057283484\n",
            "R2 train 0.993637923665393\n",
            "R2 test: 0.7768592524952602\n",
            "R2 train 0.9934112396631221\n",
            "R2 test: 0.5937733038172034\n",
            "R2 train 0.993954486313694\n",
            "R2 test: 0.354111638096656\n",
            "R2 train 0.9905084171649294\n",
            "R2 test: 0.5929176807285506\n",
            "R2 train 0.9936878757317287\n",
            "R2 test: 0.6499186984911175\n",
            "R2 train 0.9938705230509242\n",
            "R2 test: 0.4894234999936444\n",
            "R2 train 0.9940515949046209\n",
            "R2 test: 0.8229964145665795\n",
            "R2 train 0.9928049612161213\n",
            "R2 test: 0.7903559252046186\n",
            "R2 train 0.9892067880208153\n",
            "R2 test: 0.7932087753163635\n",
            "R2 train 0.98921150306087\n",
            "R2 test: 0.6966564718713248\n",
            "R2 train 0.9908267895323734\n",
            "R2 test: 0.7235271576833368\n",
            "R2 train 0.9934820234093966\n",
            "R2 test: 0.8643873651455289\n",
            "R2 train 0.992270910879008\n",
            "R2 test: 0.579744717886041\n",
            "R2 train 0.9931623001498303\n",
            "R2 test: 0.7020908667902184\n",
            "R2 train 0.9931319820277779\n",
            "R2 test: 0.842973089482545\n",
            "R2 train 0.9932177900827361\n",
            "R2 test: 0.8559543913337178\n",
            "R2 train 0.9927223070461211\n",
            "R2 test: 0.8230483934706997\n",
            "R2 train 0.9904398509659136\n",
            "R2 test: 0.3670951987767775\n",
            "R2 train 0.9903596525115008\n",
            "R2 test: 0.8555453007616868\n",
            "R2 train 0.9920628395451426\n",
            "R2 test: 0.7245217612613062\n",
            "R2 train 0.9920513885362074\n",
            "R2 test: 0.8161750299776336\n",
            "R2 train 0.9908307737893449\n",
            "R2 test: 0.7351343112400599\n",
            "R2 train 0.9921143762298386\n",
            "R2 test: 0.3724742794072756\n",
            "R2 train 0.9898528570289301\n",
            "R2 test: 0.740099433894546\n",
            "R2 train 0.9937421971998502\n",
            "R2 test: 0.4674718658701058\n",
            "R2 train 0.9923850085098745\n",
            "R2 test: 0.6685152001997223\n",
            "R2 train 0.9924745327395834\n",
            "R2 test: 0.8686597783033868\n",
            "R2 train 0.9922444945973068\n",
            "R2 test: 0.6987153627992655\n",
            "R2 train 0.9933146799019861\n",
            "R2 test: 0.8578394056952349\n",
            "R2 train 0.9923620942710893\n",
            "R2 test: 0.5746690664397163\n",
            "R2 train 0.9931364859066754\n",
            "R2 test: 0.7755786706543231\n",
            "R2 train 0.9932345747023195\n",
            "R2 test: 0.6715678369778547\n",
            "R2 train 0.9928755712397485\n",
            "R2 test: 0.8496217219130291\n",
            "R2 train 0.9928007150548248\n",
            "R2 test: 0.854307509533681\n",
            "R2 train 0.9930109880182927\n",
            "R2 test: 0.6859390638945673\n",
            "R2 train 0.993298940152085\n",
            "R2 test: 0.6748199042993676\n",
            "R2 train 0.9936485296903277\n",
            "R2 test: 0.6257069979321651\n",
            "R2 train 0.9936131551701778\n",
            "R2 test: 0.7073219533476481\n",
            "R2 train 0.9930692025738798\n",
            "R2 test: 0.8099214413368014\n",
            "R2 train 0.992567343041298\n",
            "R2 test: 0.831020379527536\n",
            "R2 train 0.991025442469064\n",
            "R2 test: 0.788494208093941\n",
            "R2 train 0.9894516750528604\n",
            "R2 test: 0.8192616354424929\n",
            "R2 train 0.991045478417658\n",
            "R2 test: 0.8112509789633945\n",
            "R2 train 0.9930564948686251\n",
            "R2 test: 0.7324910131380605\n",
            "R2 train 0.9927820313768904\n",
            "R2 test: 0.5926009835154027\n",
            "R2 train 0.9936196260952439\n",
            "R2 test: 0.6046273599248044\n",
            "R2 train 0.993224832962016\n",
            "R2 test: 0.8019473742235262\n",
            "R2 train 0.9924991566673917\n",
            "R2 test: 0.7960084379320521\n",
            "R2 train 0.9921576057671895\n",
            "R2 test: 0.691472509658394\n",
            "R2 train 0.9886894528830482\n",
            "R2 test: 0.8105332461860716\n",
            "R2 train 0.9914189425906993\n",
            "R2 test: 0.31207120003131383\n",
            "R2 train 0.9913810919136283\n",
            "R2 test: 0.8497656834866003\n",
            "R2 train 0.9917202008479915\n",
            "R2 test: 0.5981126471249735\n",
            "R2 train 0.9927590170943228\n",
            "R2 test: 0.9227434321902992\n",
            "R2 train 0.9917558973957253\n",
            "R2 test: 0.6496221123081782\n",
            "R2 train 0.9928029350907486\n",
            "R2 test: 0.5791404351449123\n",
            "R2 train 0.9936711354544039\n",
            "R2 test: 0.7882336280193414\n",
            "R2 train 0.9927027531432693\n",
            "R2 test: 0.8138006113211123\n",
            "R2 train 0.9910416901409839\n",
            "R2 test: 0.84427635335305\n",
            "R2 train 0.9899355604023551\n",
            "R2 test: 0.7785532655666658\n",
            "R2 train 0.9912590885631927\n",
            "R2 test: 0.8000176353412003\n",
            "R2 train 0.9926059058097217\n",
            "R2 test: 0.8047204369687284\n",
            "R2 train 0.9897877348293523\n",
            "R2 test: 0.6811025309227288\n",
            "R2 train 0.9929533751068471\n",
            "R2 test: 0.3514861465887984\n",
            "R2 train 0.9908806949662704\n",
            "mean R2 test: 0.705867778196824\n"
          ],
          "name": "stdout"
        }
      ]
    },
    {
      "cell_type": "code",
      "metadata": {
        "colab": {
          "base_uri": "https://localhost:8080/",
          "height": 839
        },
        "id": "ZxWOUW3PFBm-",
        "outputId": "9717463c-a96e-46cc-de02-a69f4c028e74"
      },
      "source": [
        " plt_y_pred(booster_SG_opt)"
      ],
      "execution_count": null,
      "outputs": [
        {
          "output_type": "display_data",
          "data": {
            "image/png": "[encoded data removed]",
            "text/plain": [
              "<Figure size 432x288 with 1 Axes>"
            ]
          },
          "metadata": {
            "tags": [],
            "needs_background": "light"
          }
        },
        {
          "output_type": "display_data",
          "data": {
            "image/png": "[encoded data removed]",
            "text/plain": [
              "<Figure size 432x288 with 1 Axes>"
            ]
          },
          "metadata": {
            "tags": [],
            "needs_background": "light"
          }
        },
        {
          "output_type": "display_data",
          "data": {
            "image/png": "[encoded data removed]",
            "text/plain": [
              "<Figure size 432x288 with 1 Axes>"
            ]
          },
          "metadata": {
            "tags": [],
            "needs_background": "light"
          }
        }
      ]
    },
    {
      "cell_type": "markdown",
      "metadata": {
        "id": "Skvg36OEMZKc"
      },
      "source": [
        "# Ada Boost"
      ]
    },
    {
      "cell_type": "code",
      "metadata": {
        "colab": {
          "base_uri": "https://localhost:8080/",
          "height": 873
        },
        "id": "DmGVBU-zMa8I",
        "outputId": "e7ad4955-8334-4770-9a1a-597d499c22f2"
      },
      "source": [
        "data.tts() \n",
        "ada = AdaBoostRegressor()\n",
        "     \n",
        "ada.fit(data.X_train, data.y_train)\n",
        "\n",
        "get_R2s(ada)\n",
        "plt_y_pred(ada)"
      ],
      "execution_count": null,
      "outputs": [
        {
          "output_type": "stream",
          "text": [
            "test R2: 0.6190297773137095\n",
            "train R2: 0.6192623487683989\n"
          ],
          "name": "stdout"
        },
        {
          "output_type": "display_data",
          "data": {
            "image/png": "[encoded data removed]",
            "text/plain": [
              "<Figure size 432x288 with 1 Axes>"
            ]
          },
          "metadata": {
            "tags": [],
            "needs_background": "light"
          }
        },
        {
          "output_type": "display_data",
          "data": {
            "image/png": "[encoded data removed]",
            "text/plain": [
              "<Figure size 432x288 with 1 Axes>"
            ]
          },
          "metadata": {
            "tags": [],
            "needs_background": "light"
          }
        },
        {
          "output_type": "display_data",
          "data": {
            "image/png": "[encoded data removed]",
            "text/plain": [
              "<Figure size 432x288 with 1 Axes>"
            ]
          },
          "metadata": {
            "tags": [],
            "needs_background": "light"
          }
        }
      ]
    },
    {
      "cell_type": "code",
      "metadata": {
        "colab": {
          "base_uri": "https://localhost:8080/"
        },
        "id": "07ezxOzCeB76",
        "outputId": "617ca946-f022-4ef6-b499-06a947111ecb"
      },
      "source": [
        "# learning rate\n",
        "lr = [0.01, 0.1, 1]\n",
        "# loss\n",
        "loss = ['linear', 'square', 'exponential']\n",
        "# estimators\n",
        "n_estim = [50, 100, 500]\n",
        "\n",
        "# create the grid\n",
        "grid = {'learning_rate': lr\n",
        "        , 'loss': loss\n",
        "        , 'n_estimators' : n_estim\n",
        "        }\n",
        "\n",
        "# base model to tune\n",
        "baseAda = AdaBoostRegressor()\n",
        "\n",
        "# random grid search for parameters\n",
        "ada_search = GridSearchCV(estimator = baseAda, param_grid = grid)\n",
        "#boost_search = RandomizedSearchCV(estimator = baseSGBoost\n",
        "#                                  , param_distributions = grid\n",
        "#                                  , n_iter =100           # different combinations to search\n",
        "#                                  , cv = 3              # 3 fold cross validation\n",
        "#                                  )\n",
        "\n",
        "# if grid is to run on a different data split, run this:\n",
        "data.tts(rnd = None)\n",
        "# fixed data split:\n",
        "# data.tts(rnd = 42)\n",
        "\n",
        "# single grid search:\n",
        "ada_search.fit(data.X_train, data.y_train)\n",
        "ada_search.best_params_"
      ],
      "execution_count": null,
      "outputs": [
        {
          "output_type": "execute_result",
          "data": {
            "text/plain": [
              "{'learning_rate': 0.1, 'loss': 'square', 'n_estimators': 50}"
            ]
          },
          "metadata": {
            "tags": []
          },
          "execution_count": 39
        }
      ]
    },
    {
      "cell_type": "code",
      "metadata": {
        "colab": {
          "base_uri": "https://localhost:8080/"
        },
        "id": "_YkIZXvZd_xZ",
        "outputId": "bbf024a0-9769-4842-94cd-7b83d714d1d4"
      },
      "source": [
        "ada_opt = AdaBoostRegressor(DecisionTreeRegressor(max_depth=5), learning_rate=0.1, loss='square', n_estimators=200)\n",
        "rnd_val(ada_opt)"
      ],
      "execution_count": null,
      "outputs": [
        {
          "output_type": "stream",
          "text": [
            "R2 test: 0.5136643785475418\n",
            "R2 train 0.9472970734089774\n",
            "R2 test: 0.42461967877337653\n",
            "R2 train 0.9446240493623992\n",
            "R2 test: 0.5886609250901942\n",
            "R2 train 0.9303431697558304\n",
            "R2 test: 0.5223033942834883\n",
            "R2 train 0.9490389751735433\n",
            "R2 test: 0.41693717276045816\n",
            "R2 train 0.9482245965243233\n",
            "R2 test: 0.24855667758966193\n",
            "R2 train 0.9270018618645788\n",
            "R2 test: 0.8514047081796847\n",
            "R2 train 0.9404592739439043\n",
            "R2 test: 0.701245004871942\n",
            "R2 train 0.9269550734762536\n",
            "R2 test: 0.546633031291514\n",
            "R2 train 0.9450702658760858\n",
            "R2 test: 0.7791383250664237\n",
            "R2 train 0.9252820190169938\n",
            "R2 test: 0.48542874848147627\n",
            "R2 train 0.9541085694424474\n",
            "R2 test: 0.7071825051553579\n",
            "R2 train 0.9400195563131977\n",
            "R2 test: 0.7199891404853576\n",
            "R2 train 0.9370777959541924\n",
            "R2 test: 0.4036951356406068\n",
            "R2 train 0.949443333129123\n",
            "R2 test: 0.5372775180460132\n",
            "R2 train 0.9521173904620817\n",
            "R2 test: 0.7159476576189603\n",
            "R2 train 0.9109757835636505\n",
            "R2 test: 0.8392280986974963\n",
            "R2 train 0.9125119892268695\n",
            "R2 test: 0.4947374516544586\n",
            "R2 train 0.9470266971407201\n",
            "R2 test: 0.5512655810054293\n",
            "R2 train 0.9447136830761848\n",
            "R2 test: 0.5121040575566906\n",
            "R2 train 0.9482995249786919\n",
            "R2 test: 0.4010076849685045\n",
            "R2 train 0.8979472431837832\n",
            "R2 test: 0.5792429963743531\n",
            "R2 train 0.946777419097172\n",
            "R2 test: 0.571236269088818\n",
            "R2 train 0.9478203028844089\n",
            "R2 test: 0.6775090796324414\n",
            "R2 train 0.9371988456432502\n",
            "R2 test: 0.4838916524063502\n",
            "R2 train 0.9457738125383485\n",
            "R2 test: 0.7744908845253662\n",
            "R2 train 0.9240407131262819\n",
            "R2 test: 0.5645154411485438\n",
            "R2 train 0.9419503958223633\n",
            "R2 test: 0.6985183178654051\n",
            "R2 train 0.9436198585062721\n",
            "R2 test: 0.8370850493741473\n",
            "R2 train 0.9428649829343928\n",
            "R2 test: 0.5563675479419592\n",
            "R2 train 0.9452875951182779\n",
            "R2 test: 0.6280790812393853\n",
            "R2 train 0.9498362729006022\n",
            "R2 test: 0.7454036209100754\n",
            "R2 train 0.9409804615666881\n",
            "R2 test: 0.5259902520163444\n",
            "R2 train 0.9420480190561753\n",
            "R2 test: 0.47918478505615425\n",
            "R2 train 0.9388895200459654\n",
            "R2 test: 0.3109219840306786\n",
            "R2 train 0.9381342834660089\n",
            "R2 test: 0.6422860358124137\n",
            "R2 train 0.9454513609979728\n",
            "R2 test: 0.4143758557448066\n",
            "R2 train 0.9412361566896758\n",
            "R2 test: 0.4872828965322432\n",
            "R2 train 0.9486259531593784\n",
            "R2 test: 0.799891265595791\n",
            "R2 train 0.9455334833623174\n",
            "R2 test: 0.44881828635839993\n",
            "R2 train 0.9457817190007333\n",
            "R2 test: 0.7518939178238004\n",
            "R2 train 0.9465038176326176\n",
            "R2 test: 0.5522338623335918\n",
            "R2 train 0.9431263095558353\n",
            "R2 test: 0.7682814391196124\n",
            "R2 train 0.9432705858897815\n",
            "R2 test: 0.8423290958902914\n",
            "R2 train 0.914284709374835\n",
            "R2 test: 0.8368251134234879\n",
            "R2 train 0.9399678833691045\n",
            "R2 test: 0.3960856159651392\n",
            "R2 train 0.9373608066780263\n",
            "R2 test: 0.7215169407316593\n",
            "R2 train 0.9491682621390097\n",
            "R2 test: 0.674812467203904\n",
            "R2 train 0.9476106541085769\n",
            "R2 test: 0.557645398809167\n",
            "R2 train 0.9449055491493933\n",
            "R2 test: 0.4382565830380507\n",
            "R2 train 0.9390496264218502\n",
            "R2 test: 0.3073444524832595\n",
            "R2 train 0.9102621732286382\n",
            "R2 test: 0.6864732405915287\n",
            "R2 train 0.9465025336940316\n",
            "R2 test: 0.4770714291738489\n",
            "R2 train 0.9458261545746932\n",
            "R2 test: 0.4990279875140781\n",
            "R2 train 0.9381976381403943\n",
            "R2 test: 0.4805460616501279\n",
            "R2 train 0.948668682885254\n",
            "R2 test: 0.743736895150459\n",
            "R2 train 0.9403455218548524\n",
            "R2 test: 0.3431355478247253\n",
            "R2 train 0.9536720695857607\n",
            "R2 test: 0.6524313038390266\n",
            "R2 train 0.9453585829740336\n",
            "R2 test: 0.4928114930321831\n",
            "R2 train 0.9435393079513598\n",
            "R2 test: 0.5408300766089499\n",
            "R2 train 0.9398318812355485\n",
            "R2 test: 0.8052249857768643\n",
            "R2 train 0.9405432938384897\n",
            "R2 test: 0.7601695038680416\n",
            "R2 train 0.9443767437996902\n",
            "R2 test: 0.2283970985372813\n",
            "R2 train 0.9221128762128135\n",
            "R2 test: 0.6911539461787006\n",
            "R2 train 0.9328813104717781\n",
            "R2 test: 0.5095283362853453\n",
            "R2 train 0.9456485853091078\n",
            "R2 test: 0.5307862878813736\n",
            "R2 train 0.9356331080623924\n",
            "R2 test: 0.32131934026645026\n",
            "R2 train 0.945809156519383\n",
            "R2 test: 0.642036095370379\n",
            "R2 train 0.945114486749886\n",
            "R2 test: 0.4448477466535712\n",
            "R2 train 0.951179947534978\n",
            "R2 test: 0.6037809448543745\n",
            "R2 train 0.9493760613207235\n",
            "R2 test: 0.6004868152662858\n",
            "R2 train 0.9363494515935593\n",
            "R2 test: 0.3284954573096725\n",
            "R2 train 0.9474576969212676\n",
            "R2 test: 0.7818606004846349\n",
            "R2 train 0.9363037402123962\n",
            "R2 test: 0.8107042578122468\n",
            "R2 train 0.9346766482977809\n",
            "R2 test: 0.710819367936582\n",
            "R2 train 0.9398951324765781\n",
            "R2 test: 0.8049313664109905\n",
            "R2 train 0.9263319633899626\n",
            "R2 test: 0.3501834601484842\n",
            "R2 train 0.9435612492410151\n",
            "R2 test: 0.6737511337363666\n",
            "R2 train 0.9477792024497547\n",
            "R2 test: 0.8194614324723487\n",
            "R2 train 0.9463746104940466\n",
            "R2 test: 0.5662482335569959\n",
            "R2 train 0.945131258769974\n",
            "R2 test: 0.6839306664035907\n",
            "R2 train 0.9458081423527547\n",
            "R2 test: 0.4021418942468611\n",
            "R2 train 0.9548959819989884\n",
            "R2 test: 0.4785337406227143\n",
            "R2 train 0.9517267495002135\n",
            "R2 test: 0.2708252023824588\n",
            "R2 train 0.9212504800902813\n",
            "R2 test: 0.7564226501427178\n",
            "R2 train 0.9482622556234801\n",
            "R2 test: 0.7990758096451291\n",
            "R2 train 0.9270938755897598\n",
            "R2 test: 0.8175646292073807\n",
            "R2 train 0.9378427389918127\n",
            "R2 test: 0.7361926883096992\n",
            "R2 train 0.9192935122145279\n",
            "R2 test: 0.8162841111965655\n",
            "R2 train 0.9376265682870892\n",
            "R2 test: 0.3851020776507039\n",
            "R2 train 0.9430612446385479\n",
            "R2 test: 0.6872788388874884\n",
            "R2 train 0.9303107719639088\n",
            "R2 test: 0.504108185035488\n",
            "R2 train 0.9169764911892616\n",
            "R2 test: 0.7256210371507252\n",
            "R2 train 0.944796083402424\n",
            "R2 test: 0.8171800521980297\n",
            "R2 train 0.9400294102826713\n",
            "R2 test: 0.8416405078419223\n",
            "R2 train 0.932593418444943\n",
            "R2 test: 0.769051303226453\n",
            "R2 train 0.9207614977289695\n",
            "R2 test: 0.3687247590063374\n",
            "R2 train 0.9500140317594716\n",
            "R2 test: 0.5521463085805356\n",
            "R2 train 0.9464288823758573\n",
            "R2 test: 0.6583124644569407\n",
            "R2 train 0.9446547340438258\n",
            "R2 test: 0.7151375644108838\n",
            "R2 train 0.9022886855721398\n",
            "mean R2 test: 0.5971886800103482\n"
          ],
          "name": "stdout"
        }
      ]
    },
    {
      "cell_type": "code",
      "metadata": {
        "colab": {
          "base_uri": "https://localhost:8080/",
          "height": 839
        },
        "id": "cS_ROhwfeExI",
        "outputId": "a9407ce6-3dd2-4b01-8196-0b470e5ee8f0"
      },
      "source": [
        "plt_y_pred(ada_opt)"
      ],
      "execution_count": null,
      "outputs": [
        {
          "output_type": "display_data",
          "data": {
            "image/png": "[encoded data removed]",
            "text/plain": [
              "<Figure size 432x288 with 1 Axes>"
            ]
          },
          "metadata": {
            "tags": [],
            "needs_background": "light"
          }
        },
        {
          "output_type": "display_data",
          "data": {
            "image/png": "[encoded data removed]",
            "text/plain": [
              "<Figure size 432x288 with 1 Axes>"
            ]
          },
          "metadata": {
            "tags": [],
            "needs_background": "light"
          }
        },
        {
          "output_type": "display_data",
          "data": {
            "image/png": "[encoded data removed]",
            "text/plain": [
              "<Figure size 432x288 with 1 Axes>"
            ]
          },
          "metadata": {
            "tags": [],
            "needs_background": "light"
          }
        }
      ]
    },
    {
      "cell_type": "code",
      "metadata": {
        "colab": {
          "base_uri": "https://localhost:8080/",
          "height": 545
        },
        "id": "zCo8jsNwMe9v",
        "outputId": "a2948f8d-78d8-406a-bfee-aa921c3f38af"
      },
      "source": [
        "plt_error_hist(ada_opt)"
      ],
      "execution_count": null,
      "outputs": [
        {
          "output_type": "display_data",
          "data": {
            "image/png": "[encoded data removed]",
            "text/plain": [
              "<Figure size 432x288 with 1 Axes>"
            ]
          },
          "metadata": {
            "tags": [],
            "needs_background": "light"
          }
        },
        {
          "output_type": "display_data",
          "data": {
            "image/png": "[encoded data removed]",
            "text/plain": [
              "<Figure size 432x288 with 1 Axes>"
            ]
          },
          "metadata": {
            "tags": [],
            "needs_background": "light"
          }
        }
      ]
    }
  ]
}