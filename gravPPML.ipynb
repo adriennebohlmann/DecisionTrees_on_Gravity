{
  "nbformat": 4,
  "nbformat_minor": 0,
  "metadata": {
    "colab": {
      "name": "gravPPML.ipynb",
      "provenance": [],
      "collapsed_sections": [],
      "authorship_tag": "ABX9TyMJBzFruO2GXm/QGj1VINkS"
    },
    "kernelspec": {
      "name": "python3",
      "display_name": "Python 3"
    },
    "language_info": {
      "name": "python"
    }
  },
  "cells": [
    {
      "cell_type": "markdown",
      "metadata": {
        "id": "ELCyFZ61HTnY"
      },
      "source": [
        "https://www.usitc.gov/data/gravity/gme_docs/estimation_tutorial/"
      ]
    },
    {
      "cell_type": "code",
      "metadata": {
        "colab": {
          "base_uri": "https://localhost:8080/"
        },
        "id": "yJMI4QGLDBIM",
        "outputId": "e030ecb2-8249-4f6a-9571-6bd3c97b5bf8"
      },
      "source": [
        "from google.colab import drive\n",
        "drive.mount('/content/gdrive')"
      ],
      "execution_count": 21,
      "outputs": [
        {
          "output_type": "stream",
          "text": [
            "Drive already mounted at /content/gdrive; to attempt to forcibly remount, call drive.mount(\"/content/gdrive\", force_remount=True).\n"
          ],
          "name": "stdout"
        }
      ]
    },
    {
      "cell_type": "code",
      "metadata": {
        "id": "4FPnMQPtHHDP"
      },
      "source": [
        "import pandas as pd\n",
        "import numpy as np\n",
        "from sklearn.model_selection import train_test_split, RandomizedSearchCV, GridSearchCV\n",
        "from sklearn.tree import DecisionTreeRegressor\n",
        "from sklearn.ensemble import RandomForestRegressor, GradientBoostingRegressor, AdaBoostRegressor\n",
        "import matplotlib.pyplot as plt \n",
        "\n",
        "import statsmodels.api as sm\n",
        "from scipy import stats"
      ],
      "execution_count": 22,
      "outputs": []
    },
    {
      "cell_type": "code",
      "metadata": {
        "colab": {
          "base_uri": "https://localhost:8080/"
        },
        "id": "isrJupZPHMFM",
        "outputId": "d8ca6b0f-e860-4365-e857-059e2567bca2"
      },
      "source": [
        "gravd = pd.read_csv('/content/gdrive/MyDrive/gravity/gravd.csv')\n",
        "gravd.columns"
      ],
      "execution_count": 23,
      "outputs": [
        {
          "output_type": "execute_result",
          "data": {
            "text/plain": [
              "Index(['year', 'iso_o', 'iso_d', 'contig', 'comlang_off', 'distw', 'pop_o',\n",
              "       'gdp_o', 'gdpcap_o', 'iso2_o', 'pop_d', 'gdp_d', 'gdpcap_d', 'iso2_d',\n",
              "       'heg_d', 'conflict', 'indepdate', 'heg_o', 'col_to', 'col_fr',\n",
              "       'col_hist', 'col_cur', 'sever', 'sib_conflict', 'gatt_o', 'gatt_d',\n",
              "       'rta', 'comleg', 'comcur', 'acp_to_eu', 'gsp', 'eu_to_acp', 'gsp_rec',\n",
              "       'flow', 'validmirror', 'family', 'isl_o', 'isl_d', 'lndl_o', 'lndl_d'],\n",
              "      dtype='object')"
            ]
          },
          "metadata": {
            "tags": []
          },
          "execution_count": 23
        }
      ]
    },
    {
      "cell_type": "code",
      "metadata": {
        "id": "ZrgRQxZcHoq6"
      },
      "source": [
        "gravd = gravd[['flow', 'distw'\n",
        "                     , 'gdp_o', 'gdp_d'\n",
        "                     , 'contig', 'comlang_off', 'col_hist'\n",
        "                     , 'isl_o', 'isl_d', 'lndl_o', 'lndl_d'\n",
        "                     ]]\n",
        "gravd = gravd.dropna()"
      ],
      "execution_count": 24,
      "outputs": []
    },
    {
      "cell_type": "code",
      "metadata": {
        "colab": {
          "base_uri": "https://localhost:8080/"
        },
        "id": "XwE4QJNTH0wK",
        "outputId": "3109238c-bebc-424e-9530-9eabd32d2163"
      },
      "source": [
        "flow = np.array(gravd.flow.astype(np.float32))  \n",
        "print('of', len(flow), 'observations'\n",
        "      , len(flow) - np.count_nonzero(flow), ' are zero ='\n",
        "      , (len(flow) - np.count_nonzero(flow))/ len(flow)*100, '%')"
      ],
      "execution_count": 25,
      "outputs": [
        {
          "output_type": "stream",
          "text": [
            "of 26967 observations 6970  are zero = 25.846404865205624 %\n"
          ],
          "name": "stdout"
        }
      ]
    },
    {
      "cell_type": "code",
      "metadata": {
        "id": "dcd38KufH5EB"
      },
      "source": [
        "bins = np.geomspace(1, len(gravd), 100)\n",
        "flowZ = flow.copy()\n",
        "flowZ = np.digitize(flow, bins)"
      ],
      "execution_count": 26,
      "outputs": []
    },
    {
      "cell_type": "code",
      "metadata": {
        "id": "UHIhwWQgH80Y"
      },
      "source": [
        "# weighted geographical between origin and destination\n",
        "distw = np.log(np.array(gravd.distw.astype(np.float32)))\n",
        "\n",
        "# GDP of origin\n",
        "gdp_o = np.log(np.array(gravd.gdp_o.astype(np.float32)))\n",
        "\n",
        "# GDP of destination\n",
        "gdp_d = np.log(np.array(gravd.gdp_d.astype(np.float32)))\n",
        "\n",
        "# Dummies \n",
        "# neighbourhood status between origin and destination\n",
        "contig = np.array(gravd.contig.astype(np.int8))\n",
        "# common official language of origin and destination\n",
        "comlang_off = np.array(gravd.comlang_off.astype(np.int8))\n",
        "# colonial ties between origin and destination\n",
        "col_hist = np.array(gravd.col_hist.astype(np.int8))\n",
        "# island\n",
        "isl_o = np.array(gravd.isl_o.astype(np.int8))\n",
        "isl_d = np.array(gravd.isl_d.astype(np.int8))\n",
        "# landlocked\n",
        "lndl_o = np.array(gravd.lndl_o.astype(np.int8))\n",
        "lndl_d = np.array(gravd.lndl_d.astype(np.int8))\n",
        "\n",
        "X = np.array([flowZ, distw, gdp_o, gdp_d\n",
        "              , contig, comlang_off, col_hist\n",
        "              , isl_o, isl_d, lndl_o, lndl_d\n",
        "              ]).T"
      ],
      "execution_count": 27,
      "outputs": []
    },
    {
      "cell_type": "code",
      "metadata": {
        "id": "s9cZPw28H_k9"
      },
      "source": [
        "# class for data preparation\n",
        "class prepare_data:\n",
        "    def __init__(self):\n",
        "        self.X = X.copy()\n",
        "        self.y = flow.copy()\n",
        "        \n",
        "    # train test split and transform\n",
        "    def tts(self, rnd = 42):\n",
        "         # train test split stratify on binary zero trade\n",
        "        self.X_train, self.X_test, self.y_train, self.y_test = train_test_split(self.X[:,1:11], self.y\n",
        "                                                                                , random_state=(rnd)\n",
        "                                                                                , test_size=0.2\n",
        "                                                                                , stratify=(self.X[:,0])\n",
        "                                                                                )"
      ],
      "execution_count": 28,
      "outputs": []
    },
    {
      "cell_type": "code",
      "metadata": {
        "id": "8vtZeWDLIKHG"
      },
      "source": [
        "data = prepare_data()\n",
        "data.tts()"
      ],
      "execution_count": 33,
      "outputs": []
    },
    {
      "cell_type": "code",
      "metadata": {
        "colab": {
          "base_uri": "https://localhost:8080/"
        },
        "id": "F6KekrsRc6tE",
        "outputId": "3038b776-36bf-434b-afd9-f0a2b1cdf023"
      },
      "source": [
        "feature_names = gravd.columns[1:len(X[0,:])]\n",
        "feature_names"
      ],
      "execution_count": 34,
      "outputs": [
        {
          "output_type": "execute_result",
          "data": {
            "text/plain": [
              "Index(['distw', 'gdp_o', 'gdp_d', 'contig', 'comlang_off', 'col_hist', 'isl_o',\n",
              "       'isl_d', 'lndl_o', 'lndl_d'],\n",
              "      dtype='object')"
            ]
          },
          "metadata": {
            "tags": []
          },
          "execution_count": 34
        }
      ]
    },
    {
      "cell_type": "markdown",
      "metadata": {
        "id": "63sBgJPCikUM"
      },
      "source": [
        "https://github.com/statsmodels/statsmodels/issues/4942\n",
        "https://www.statsmodels.org/stable/generated/statsmodels.genmod.generalized_linear_model.GLM.html\n",
        "https://personal.lse.ac.uk/tenreyro/LGW.html?"
      ]
    },
    {
      "cell_type": "code",
      "metadata": {
        "id": "4IE-Npi_Fdbw"
      },
      "source": [
        "mod = sm.GLM(data.y_train, data.X_train, family=sm.families.Poisson())"
      ],
      "execution_count": 35,
      "outputs": []
    },
    {
      "cell_type": "code",
      "metadata": {
        "id": "DpQKQLonkbxz"
      },
      "source": [
        "results = mod.fit(cov_type='HC1')\n",
        "#results = mod.fit(cov_type='HC0')"
      ],
      "execution_count": 36,
      "outputs": []
    },
    {
      "cell_type": "code",
      "metadata": {
        "colab": {
          "base_uri": "https://localhost:8080/"
        },
        "id": "wjqHn3dwL6gy",
        "outputId": "f722215f-6fa6-4ba7-8718-e9c8f82e1b5c"
      },
      "source": [
        "# results = mod.fit()\n",
        "print(results.summary())"
      ],
      "execution_count": 37,
      "outputs": [
        {
          "output_type": "stream",
          "text": [
            "                 Generalized Linear Model Regression Results                  \n",
            "==============================================================================\n",
            "Dep. Variable:                      y   No. Observations:                21573\n",
            "Model:                            GLM   Df Residuals:                    21563\n",
            "Model Family:                 Poisson   Df Model:                            9\n",
            "Link Function:                    log   Scale:                          1.0000\n",
            "Method:                          IRLS   Log-Likelihood:            -3.1565e+06\n",
            "Date:                Sun, 16 May 2021   Deviance:                   6.2600e+06\n",
            "Time:                        16:46:53   Pearson chi2:                 1.03e+07\n",
            "No. Iterations:                     7                                         \n",
            "Covariance Type:                  HC1                                         \n",
            "==============================================================================\n",
            "                 coef    std err          z      P>|z|      [0.025      0.975]\n",
            "------------------------------------------------------------------------------\n",
            "x1            -1.0123      0.025    -40.667      0.000      -1.061      -0.963\n",
            "x2             0.6068      0.021     29.523      0.000       0.566       0.647\n",
            "x3             0.6300      0.021     29.791      0.000       0.589       0.671\n",
            "x4             0.3409      0.191      1.783      0.075      -0.034       0.716\n",
            "x5             0.4507      0.167      2.696      0.007       0.123       0.778\n",
            "x6            -0.2000      0.154     -1.301      0.193      -0.501       0.101\n",
            "x7             0.2064      0.149      1.387      0.165      -0.085       0.498\n",
            "x8             0.1646      0.102      1.611      0.107      -0.036       0.365\n",
            "x9            -0.8997      0.124     -7.249      0.000      -1.143      -0.656\n",
            "x10           -0.9404      0.118     -7.957      0.000      -1.172      -0.709\n",
            "==============================================================================\n"
          ],
          "name": "stdout"
        }
      ]
    },
    {
      "cell_type": "code",
      "metadata": {
        "colab": {
          "base_uri": "https://localhost:8080/"
        },
        "id": "4zeFTLu0egrz",
        "outputId": "4f3201a0-ad2b-44e7-82d9-713d76db9fc5"
      },
      "source": [
        "feature_names"
      ],
      "execution_count": 38,
      "outputs": [
        {
          "output_type": "execute_result",
          "data": {
            "text/plain": [
              "Index(['distw', 'gdp_o', 'gdp_d', 'contig', 'comlang_off', 'col_hist', 'isl_o',\n",
              "       'isl_d', 'lndl_o', 'lndl_d'],\n",
              "      dtype='object')"
            ]
          },
          "metadata": {
            "tags": []
          },
          "execution_count": 38
        }
      ]
    },
    {
      "cell_type": "code",
      "metadata": {
        "id": "u7eRS-MngWtg"
      },
      "source": [
        "params = results.params"
      ],
      "execution_count": 39,
      "outputs": []
    },
    {
      "cell_type": "markdown",
      "metadata": {
        "id": "1asAwfdZ2t5O"
      },
      "source": [
        "compute R2"
      ]
    },
    {
      "cell_type": "code",
      "metadata": {
        "colab": {
          "base_uri": "https://localhost:8080/"
        },
        "id": "4EB94P5Cg1LI",
        "outputId": "55f60c82-198b-488b-844d-effc92a6310f"
      },
      "source": [
        "predict_oos = mod.predict(params, data.X_test)\n",
        "predict_wis = mod.predict(params, data.X_train)\n",
        "\n",
        "cor_oos = np.corrcoef(data.y_test, predict_oos)[1][0]\n",
        "print('out of sample R2', cor_oos*cor_oos)\n",
        "\n",
        "cor_wis = np.corrcoef(data.y_train, predict_wis)[1][0]\n",
        "print('within sample R2', cor_wis*cor_wis)"
      ],
      "execution_count": 40,
      "outputs": [
        {
          "output_type": "stream",
          "text": [
            "out of sample R2 0.5188754220662021\n",
            "within sample R2 0.515009217566273\n"
          ],
          "name": "stdout"
        }
      ]
    },
    {
      "cell_type": "code",
      "metadata": {
        "colab": {
          "base_uri": "https://localhost:8080/",
          "height": 545
        },
        "id": "9OR9IKSRhsoN",
        "outputId": "a330cfa6-8054-4a64-8925-b8aabd4a97b5"
      },
      "source": [
        "plt.hist(predict_oos, bins=100, log=True)\n",
        "plt.title('hist predicted trade flow out of sample')\n",
        "plt.show()\n",
        "plt.hist(predict_wis, bins=100, log=True)\n",
        "plt.title('hist predicted trade flow within sample')\n",
        "plt.show()"
      ],
      "execution_count": 41,
      "outputs": [
        {
          "output_type": "display_data",
          "data": {
            "image/png": "[encoded data removed]",
            "text/plain": [
              "<Figure size 432x288 with 1 Axes>"
            ]
          },
          "metadata": {
            "tags": [],
            "needs_background": "light"
          }
        },
        {
          "output_type": "display_data",
          "data": {
            "image/png": "[encoded data removed]",
            "text/plain": [
              "<Figure size 432x288 with 1 Axes>"
            ]
          },
          "metadata": {
            "tags": [],
            "needs_background": "light"
          }
        }
      ]
    },
    {
      "cell_type": "code",
      "metadata": {
        "colab": {
          "base_uri": "https://localhost:8080/",
          "height": 577
        },
        "id": "SGF2uAamQgYh",
        "outputId": "1ca6d5f6-9e48-48a2-b21e-b1e7a3eba655"
      },
      "source": [
        "# plot y against y^\n",
        "plt.scatter(predict_oos, data.y_test, s = 3)\n",
        "plt.xlabel('prediced trade flow from test data')\n",
        "plt.ylabel('true trade flow from test data')\n",
        "plt.title('test vs predicted trade flow')\n",
        "plt.show()\n",
        "# plot y against y^ on log axes\n",
        "plt.loglog(predict_oos, data.y_test, marker = 'o', markersize = 3, linestyle = '')\n",
        "plt.xlabel('prediced trade flow from test data')\n",
        "plt.ylabel('true trade flow from test data')\n",
        "plt.title('test vs predicted trade flow on log axes')\n",
        "plt.show()"
      ],
      "execution_count": 42,
      "outputs": [
        {
          "output_type": "display_data",
          "data": {
            "image/png": "[encoded data removed]",
            "text/plain": [
              "<Figure size 432x288 with 1 Axes>"
            ]
          },
          "metadata": {
            "tags": [],
            "needs_background": "light"
          }
        },
        {
          "output_type": "display_data",
          "data": {
            "image/png": "[encoded data removed]",
            "text/plain": [
              "<Figure size 432x288 with 1 Axes>"
            ]
          },
          "metadata": {
            "tags": [],
            "needs_background": "light"
          }
        }
      ]
    },
    {
      "cell_type": "code",
      "metadata": {
        "colab": {
          "base_uri": "https://localhost:8080/",
          "height": 545
        },
        "id": "51ZTpic0jWK8",
        "outputId": "73c20a61-8b3e-4984-895b-327b67221b15"
      },
      "source": [
        "# out-of-sample errors\n",
        "oos_errors = data.y_test - predict_oos\n",
        "plt.hist(oos_errors, bins=100, log=True)\n",
        "plt.title('out-of-sample error distribution')\n",
        "plt.show()\n",
        "# within-sample errors\n",
        "is_prediction = mod.predict(params, data.X_train)\n",
        "is_errors = data.y_train - is_prediction\n",
        "plt.hist(is_errors, bins=100, log=True)\n",
        "plt.title('within-sample error distribution')\n",
        "plt.show()"
      ],
      "execution_count": 43,
      "outputs": [
        {
          "output_type": "display_data",
          "data": {
            "image/png": "[encoded data removed]",
            "text/plain": [
              "<Figure size 432x288 with 1 Axes>"
            ]
          },
          "metadata": {
            "tags": [],
            "needs_background": "light"
          }
        },
        {
          "output_type": "display_data",
          "data": {
            "image/png": "[encoded data removed]",
            "text/plain": [
              "<Figure size 432x288 with 1 Axes>"
            ]
          },
          "metadata": {
            "tags": [],
            "needs_background": "light"
          }
        }
      ]
    },
    {
      "cell_type": "markdown",
      "metadata": {
        "id": "KKEBDpjm8ctb"
      },
      "source": [
        "random validation loop"
      ]
    },
    {
      "cell_type": "code",
      "metadata": {
        "colab": {
          "base_uri": "https://localhost:8080/"
        },
        "id": "bFYFtq8a8bp0",
        "outputId": "223dfa60-9532-4468-acc0-515d3932d3b2"
      },
      "source": [
        "all_r2_test = []\n",
        "for i in range(100):\n",
        "  data.tts(rnd=None)\n",
        "  mod = sm.GLM(data.y_train, data.X_train, family=sm.families.Poisson())\n",
        "  mod.fit(cov_type='HC1')\n",
        "\n",
        "  predict_oos = mod.predict(params, data.X_test)\n",
        "  predict_wis = mod.predict(params, data.X_train)\n",
        "\n",
        "  cor_oos = np.corrcoef(data.y_test, predict_oos)[1][0]\n",
        "  cor_wis = np.corrcoef(data.y_train, predict_wis)[1][0]\n",
        "  \n",
        "  r2_test = cor_oos*cor_oos\n",
        "  \n",
        "  all_r2_test.append(r2_test)\n",
        "  print('R2 test:', r2_test)\n",
        "  print('R2 train', cor_wis*cor_wis)\n",
        "print('mean R2 test:', np.mean(all_r2_test))"
      ],
      "execution_count": 20,
      "outputs": [
        {
          "output_type": "stream",
          "text": [
            "R2 test: 0.5595509668540819\n",
            "R2 train 0.506117019993818\n",
            "R2 test: 0.5407344367048017\n",
            "R2 train 0.49789257079823984\n",
            "R2 test: 0.5892011591309668\n",
            "R2 train 0.4930409749490371\n",
            "R2 test: 0.5758248318499092\n",
            "R2 train 0.537987050834712\n",
            "R2 test: 0.44631835337281267\n",
            "R2 train 0.5332638506144936\n",
            "R2 test: 0.46922085819024734\n",
            "R2 train 0.5187225030847982\n",
            "R2 test: 0.49657934248119706\n",
            "R2 train 0.5138329744244224\n",
            "R2 test: 0.39361906898643034\n",
            "R2 train 0.5371102301986443\n",
            "R2 test: 0.6220217494816696\n",
            "R2 train 0.48098838629071267\n",
            "R2 test: 0.48811308604885234\n",
            "R2 train 0.512423577655874\n",
            "R2 test: 0.6481552256425105\n",
            "R2 train 0.5183295948609847\n",
            "R2 test: 0.5261707841648937\n",
            "R2 train 0.506997336202984\n",
            "R2 test: 0.4533152964513959\n",
            "R2 train 0.5194782576048418\n",
            "R2 test: 0.4678612118496203\n",
            "R2 train 0.5230604069764304\n",
            "R2 test: 0.531457806940581\n",
            "R2 train 0.5050411157872969\n",
            "R2 test: 0.5491801829223126\n",
            "R2 train 0.5021369796804613\n",
            "R2 test: 0.5891233541868744\n",
            "R2 train 0.48437874546086984\n",
            "R2 test: 0.6492978189691622\n",
            "R2 train 0.502326167736668\n",
            "R2 test: 0.4345217450562708\n",
            "R2 train 0.5236461018716988\n",
            "R2 test: 0.55832985264357\n",
            "R2 train 0.5358035789828022\n",
            "R2 test: 0.5705577401607598\n",
            "R2 train 0.4949920870591713\n",
            "R2 test: 0.37945119864046095\n",
            "R2 train 0.5409025932668763\n",
            "R2 test: 0.6170406842036511\n",
            "R2 train 0.4843111814980064\n",
            "R2 test: 0.6004968018531109\n",
            "R2 train 0.5018168547919643\n",
            "R2 test: 0.574809319975001\n",
            "R2 train 0.48636229810677434\n",
            "R2 test: 0.43990065638705417\n",
            "R2 train 0.5278894640690133\n",
            "R2 test: 0.6178010931660654\n",
            "R2 train 0.5086624112195695\n",
            "R2 test: 0.4219888198845208\n",
            "R2 train 0.5593833793184005\n",
            "R2 test: 0.45066055807480354\n",
            "R2 train 0.5162792802370489\n",
            "R2 test: 0.5787169896664114\n",
            "R2 train 0.502563576003274\n",
            "R2 test: 0.4480039318226932\n",
            "R2 train 0.516771462433856\n",
            "R2 test: 0.6273606047448008\n",
            "R2 train 0.5005623359245752\n",
            "R2 test: 0.494925364923824\n",
            "R2 train 0.5228627233458921\n",
            "R2 test: 0.5641879095933076\n",
            "R2 train 0.5112955327351033\n",
            "R2 test: 0.45709603972754953\n",
            "R2 train 0.5160576846291153\n",
            "R2 test: 0.5805714487771921\n",
            "R2 train 0.5139242051531951\n",
            "R2 test: 0.6532625671847324\n",
            "R2 train 0.5284927826629829\n",
            "R2 test: 0.4853660542833626\n",
            "R2 train 0.5141539317371328\n",
            "R2 test: 0.5573840691067469\n",
            "R2 train 0.4956836965452889\n",
            "R2 test: 0.4855785205584357\n",
            "R2 train 0.5228047974229199\n",
            "R2 test: 0.5253615057964556\n",
            "R2 train 0.5063710226155895\n",
            "R2 test: 0.5043074253231808\n",
            "R2 train 0.5095999080055766\n",
            "R2 test: 0.42569563195608606\n",
            "R2 train 0.5287453709277754\n",
            "R2 test: 0.44266195584823587\n",
            "R2 train 0.5224387213627768\n",
            "R2 test: 0.5940988036757382\n",
            "R2 train 0.48823611313925114\n",
            "R2 test: 0.5676513429686239\n",
            "R2 train 0.4953091648246853\n",
            "R2 test: 0.6678911086037956\n",
            "R2 train 0.5167353472065085\n",
            "R2 test: 0.6547550156996832\n",
            "R2 train 0.5043930251233444\n",
            "R2 test: 0.638749259704797\n",
            "R2 train 0.4433883168028754\n",
            "R2 test: 0.5088455700431214\n",
            "R2 train 0.5130153586429322\n",
            "R2 test: 0.7213406898420265\n",
            "R2 train 0.49622910809437076\n",
            "R2 test: 0.6875615002482263\n",
            "R2 train 0.4629569167189419\n",
            "R2 test: 0.4942480144185199\n",
            "R2 train 0.5193541132478114\n",
            "R2 test: 0.654406876537001\n",
            "R2 train 0.469637356614798\n",
            "R2 test: 0.6132843132183121\n",
            "R2 train 0.45679916447573576\n",
            "R2 test: 0.7087942588398513\n",
            "R2 train 0.49725478603103507\n",
            "R2 test: 0.5012029060975067\n",
            "R2 train 0.5112468437526106\n",
            "R2 test: 0.6121277710346688\n",
            "R2 train 0.49876138397766123\n",
            "R2 test: 0.576308412906906\n",
            "R2 train 0.5181529052463847\n",
            "R2 test: 0.5520258852242956\n",
            "R2 train 0.4917748043942724\n",
            "R2 test: 0.5781196772141625\n",
            "R2 train 0.4937957007583235\n",
            "R2 test: 0.580969804741141\n",
            "R2 train 0.493171300976642\n",
            "R2 test: 0.5991051380439069\n",
            "R2 train 0.49700760885025663\n",
            "R2 test: 0.5699866765297923\n",
            "R2 train 0.5332548980126499\n",
            "R2 test: 0.60439681548738\n",
            "R2 train 0.5077803661217515\n",
            "R2 test: 0.5521250865245793\n",
            "R2 train 0.5261425070108813\n",
            "R2 test: 0.591409185389692\n",
            "R2 train 0.48167384658583684\n",
            "R2 test: 0.699795727559581\n",
            "R2 train 0.49947900738512657\n",
            "R2 test: 0.5927609608150581\n",
            "R2 train 0.4781933013074344\n",
            "R2 test: 0.5149474611188551\n",
            "R2 train 0.51303512259193\n",
            "R2 test: 0.6599416987713312\n",
            "R2 train 0.5000358914635322\n",
            "R2 test: 0.4902840683654385\n",
            "R2 train 0.5205415143683731\n",
            "R2 test: 0.49487034375670047\n",
            "R2 train 0.5204267822744971\n",
            "R2 test: 0.525144159633396\n",
            "R2 train 0.5064165667188393\n",
            "R2 test: 0.6433202407164228\n",
            "R2 train 0.4964972494856907\n",
            "R2 test: 0.5419804557691605\n",
            "R2 train 0.5109797500197122\n",
            "R2 test: 0.5403111078789453\n",
            "R2 train 0.5332592027648386\n",
            "R2 test: 0.5698914322583266\n",
            "R2 train 0.4903484048016341\n",
            "R2 test: 0.38877604301475127\n",
            "R2 train 0.535198867326467\n",
            "R2 test: 0.8032110053417936\n",
            "R2 train 0.5139565420547858\n",
            "R2 test: 0.5366064431875992\n",
            "R2 train 0.5024856275624595\n",
            "R2 test: 0.5315971969500463\n",
            "R2 train 0.5047190664378206\n",
            "R2 test: 0.5693165887802587\n",
            "R2 train 0.5274180507098875\n",
            "R2 test: 0.515314912494908\n",
            "R2 train 0.5481650340218126\n",
            "R2 test: 0.5167519120983897\n",
            "R2 train 0.5095370250280646\n",
            "R2 test: 0.49202158062554424\n",
            "R2 train 0.5152519380364348\n",
            "R2 test: 0.5212189773744016\n",
            "R2 train 0.5161833818682267\n",
            "R2 test: 0.543434951422877\n",
            "R2 train 0.49588974387590645\n",
            "R2 test: 0.5645057261712381\n",
            "R2 train 0.5294456915668954\n",
            "R2 test: 0.6507760122931963\n",
            "R2 train 0.47450595059693734\n",
            "R2 test: 0.6576844071682973\n",
            "R2 train 0.49661666068219956\n",
            "R2 test: 0.43178874442801607\n",
            "R2 train 0.5343245846767958\n",
            "R2 test: 0.6307642529327045\n",
            "R2 train 0.4941366220788609\n",
            "R2 test: 0.512024897319211\n",
            "R2 train 0.5254690344614643\n",
            "R2 test: 0.626075110176395\n",
            "R2 train 0.5102654200733201\n",
            "R2 test: 0.6303164654742488\n",
            "R2 train 0.4816853188794273\n",
            "R2 test: 0.4439422227620189\n",
            "R2 train 0.5297250865264778\n",
            "R2 test: 0.5716599501935548\n",
            "R2 train 0.49174904115187956\n",
            "R2 test: 0.5689956315172737\n",
            "R2 train 0.5006317523081839\n",
            "R2 test: 0.39501362811429547\n",
            "R2 train 0.5386500459211\n",
            "mean R2 test: 0.5529623245306458\n"
          ],
          "name": "stdout"
        }
      ]
    }
  ]
}