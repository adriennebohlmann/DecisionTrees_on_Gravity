{
  "nbformat": 4,
  "nbformat_minor": 0,
  "metadata": {
    "colab": {
      "name": "gravPPML.ipynb",
      "provenance": [],
      "collapsed_sections": [],
      "authorship_tag": "ABX9TyM4wRgPPazWxYA5nAU8Ycam"
    },
    "kernelspec": {
      "name": "python3",
      "display_name": "Python 3"
    },
    "language_info": {
      "name": "python"
    }
  },
  "cells": [
    {
      "cell_type": "markdown",
      "metadata": {
        "id": "ELCyFZ61HTnY"
      },
      "source": [
        "https://www.usitc.gov/data/gravity/gme_docs/estimation_tutorial/"
      ]
    },
    {
      "cell_type": "code",
      "metadata": {
        "colab": {
          "base_uri": "https://localhost:8080/"
        },
        "id": "4FPnMQPtHHDP",
        "outputId": "79ee2425-3cd7-42e7-ffb3-38c357d1d86a"
      },
      "source": [
        "import pandas as pd\n",
        "import numpy as np\n",
        "from sklearn.model_selection import train_test_split, RandomizedSearchCV, GridSearchCV\n",
        "from sklearn.tree import DecisionTreeRegressor\n",
        "from sklearn.ensemble import RandomForestRegressor, GradientBoostingRegressor, AdaBoostRegressor\n",
        "import matplotlib.pyplot as plt \n",
        "\n",
        "import statsmodels.api as sm\n",
        "from scipy import stats"
      ],
      "execution_count": 3,
      "outputs": [
        {
          "output_type": "stream",
          "text": [
            "/usr/local/lib/python3.7/dist-packages/statsmodels/tools/_testing.py:19: FutureWarning: pandas.util.testing is deprecated. Use the functions in the public API at pandas.testing instead.\n",
            "  import pandas.util.testing as tm\n"
          ],
          "name": "stderr"
        }
      ]
    },
    {
      "cell_type": "code",
      "metadata": {
        "colab": {
          "base_uri": "https://localhost:8080/"
        },
        "id": "isrJupZPHMFM",
        "outputId": "72cd1c58-c6f3-4cf5-809b-48b1a687c5c0"
      },
      "source": [
        "gravd = pd.read_csv('/content/gdrive/MyDrive/gravity/gravd.csv')\n",
        "gravd.columns"
      ],
      "execution_count": 4,
      "outputs": [
        {
          "output_type": "execute_result",
          "data": {
            "text/plain": [
              "Index(['year', 'iso_o', 'iso_d', 'contig', 'comlang_off', 'distw', 'pop_o',\n",
              "       'gdp_o', 'gdpcap_o', 'iso2_o', 'pop_d', 'gdp_d', 'gdpcap_d', 'iso2_d',\n",
              "       'heg_d', 'conflict', 'indepdate', 'heg_o', 'col_to', 'col_fr',\n",
              "       'col_hist', 'col_cur', 'sever', 'sib_conflict', 'gatt_o', 'gatt_d',\n",
              "       'rta', 'comleg', 'comcur', 'acp_to_eu', 'gsp', 'eu_to_acp', 'gsp_rec',\n",
              "       'flow', 'validmirror', 'family', 'isl_o', 'isl_d', 'lndl_o', 'lndl_d'],\n",
              "      dtype='object')"
            ]
          },
          "metadata": {
            "tags": []
          },
          "execution_count": 4
        }
      ]
    },
    {
      "cell_type": "code",
      "metadata": {
        "id": "ZrgRQxZcHoq6"
      },
      "source": [
        "gravd = gravd[['flow', 'distw'\n",
        "                     , 'gdp_o', 'gdp_d'\n",
        "                     , 'contig', 'comlang_off', 'col_hist'\n",
        "                     #, 'iso_o', 'iso_d'\n",
        "                     #, 'gdpcap_o', 'gdpcap_d'\n",
        "                     #, 'heg_o', 'heg_d'\n",
        "                     #, 'gatt_o', 'gatt_d'\n",
        "                     #, 'rta', 'comcur', 'family'\n",
        "                     , 'isl_o', 'isl_d', 'lndl_o', 'lndl_d'\n",
        "                     ]]\n",
        "gravd = gravd.dropna()"
      ],
      "execution_count": 5,
      "outputs": []
    },
    {
      "cell_type": "code",
      "metadata": {
        "colab": {
          "base_uri": "https://localhost:8080/"
        },
        "id": "XwE4QJNTH0wK",
        "outputId": "8f47f922-a0f5-4ec9-b95a-090b5a4e833a"
      },
      "source": [
        "flow = np.array(gravd.flow.astype(np.float32))  \n",
        "print('of', len(flow), 'observations'\n",
        "      , len(flow) - np.count_nonzero(flow), ' are zero ='\n",
        "      , (len(flow) - np.count_nonzero(flow))/ len(flow)*100, '%')"
      ],
      "execution_count": 6,
      "outputs": [
        {
          "output_type": "stream",
          "text": [
            "of 26967 observations 6970  are zero = 25.846404865205624 %\n"
          ],
          "name": "stdout"
        }
      ]
    },
    {
      "cell_type": "code",
      "metadata": {
        "id": "dcd38KufH5EB"
      },
      "source": [
        "bins = np.geomspace(1, len(gravd), 100)\n",
        "flowZ = flow.copy()\n",
        "flowZ = np.digitize(flow, bins)"
      ],
      "execution_count": 7,
      "outputs": []
    },
    {
      "cell_type": "code",
      "metadata": {
        "id": "UHIhwWQgH80Y"
      },
      "source": [
        "# weighted geographical between origin and destination\n",
        "distw = np.array(gravd.distw.astype(np.float32))\n",
        "\n",
        "# GDP of origin\n",
        "gdp_o = np.array(gravd.gdp_o.astype(np.float32))\n",
        "\n",
        "# GDP of destination\n",
        "gdp_d = np.array(gravd.gdp_d.astype(np.float32))\n",
        "\n",
        "# Dummies \n",
        "# neighbourhood status between origin and destination\n",
        "contig = np.array(gravd.contig.astype(np.int8))\n",
        "# common official language of origin and destination\n",
        "comlang_off = np.array(gravd.comlang_off.astype(np.int8))\n",
        "# colonial ties between origin and destination\n",
        "col_hist = np.array(gravd.col_hist.astype(np.int8))\n",
        "# island\n",
        "isl_o = np.array(gravd.isl_o.astype(np.int8))\n",
        "isl_d = np.array(gravd.isl_d.astype(np.int8))\n",
        "# landlocked\n",
        "lndl_o = np.array(gravd.lndl_o.astype(np.int8))\n",
        "lndl_d = np.array(gravd.lndl_d.astype(np.int8))\n",
        "\n",
        "X = np.array([flowZ, distw, gdp_o, gdp_d\n",
        "              , contig, comlang_off, col_hist\n",
        "              , isl_o, isl_d, lndl_o, lndl_d\n",
        "              ]).T"
      ],
      "execution_count": 8,
      "outputs": []
    },
    {
      "cell_type": "code",
      "metadata": {
        "id": "s9cZPw28H_k9"
      },
      "source": [
        "# class for data preparation\n",
        "class prepare_data:\n",
        "    def __init__(self):\n",
        "        self.X = X.copy()\n",
        "        self.y = flow.copy()\n",
        "        \n",
        "    # train test split and transform\n",
        "    def tts(self, rnd = 42):\n",
        "         # train test split stratify on binary zero trade\n",
        "        self.X_train, self.X_test, self.y_train, self.y_test = train_test_split(self.X[:,1:11], self.y\n",
        "                                                                                , random_state=(rnd)\n",
        "                                                                                , test_size=0.2\n",
        "                                                                                , stratify=(self.X[:,0])\n",
        "                                                                                )\n",
        "        \n",
        "# plot feature importance \n",
        "def plot_feature_importance(model):\n",
        "    n_features = len(data.X_train[0,:])\n",
        "    plt.barh(range(n_features), model.feature_importances_, align='center') \n",
        "    plt.yticks(np.arange(n_features), feature_names) \n",
        "    plt.xlabel(\"Feature importance\")\n",
        "    plt.ylabel(\"Feature\")\n",
        "\n"
      ],
      "execution_count": 9,
      "outputs": []
    },
    {
      "cell_type": "code",
      "metadata": {
        "id": "8vtZeWDLIKHG"
      },
      "source": [
        "data = prepare_data()\n",
        "data.tts()"
      ],
      "execution_count": 10,
      "outputs": []
    },
    {
      "cell_type": "code",
      "metadata": {
        "colab": {
          "base_uri": "https://localhost:8080/"
        },
        "id": "F6KekrsRc6tE",
        "outputId": "a2156a9a-5214-4c7f-8f0a-a99fe9ef5203"
      },
      "source": [
        "feature_names = gravd.columns[1:len(X[0,:])]\n",
        "feature_names"
      ],
      "execution_count": 11,
      "outputs": [
        {
          "output_type": "execute_result",
          "data": {
            "text/plain": [
              "Index(['distw', 'gdp_o', 'gdp_d', 'contig', 'comlang_off', 'col_hist', 'isl_o',\n",
              "       'isl_d', 'lndl_o', 'lndl_d'],\n",
              "      dtype='object')"
            ]
          },
          "metadata": {
            "tags": []
          },
          "execution_count": 11
        }
      ]
    },
    {
      "cell_type": "markdown",
      "metadata": {
        "id": "63sBgJPCikUM"
      },
      "source": [
        "https://github.com/statsmodels/statsmodels/issues/4942\n",
        "https://www.statsmodels.org/stable/generated/statsmodels.genmod.generalized_linear_model.GLM.html\n",
        "https://personal.lse.ac.uk/tenreyro/LGW.html?"
      ]
    },
    {
      "cell_type": "code",
      "metadata": {
        "id": "4IE-Npi_Fdbw"
      },
      "source": [
        "mod = sm.GLM(data.y_train, data.X_train, family=sm.families.Poisson())"
      ],
      "execution_count": 12,
      "outputs": []
    },
    {
      "cell_type": "code",
      "metadata": {
        "id": "DpQKQLonkbxz"
      },
      "source": [
        "results = mod.fit(cov_type='HC1')\n",
        "#results = mod.fit(cov_type='HC0')"
      ],
      "execution_count": 13,
      "outputs": []
    },
    {
      "cell_type": "code",
      "metadata": {
        "colab": {
          "base_uri": "https://localhost:8080/"
        },
        "id": "wjqHn3dwL6gy",
        "outputId": "fcdbc152-6751-418c-897d-cc1dd19084b1"
      },
      "source": [
        "# results = mod.fit()\n",
        "print(results.summary())"
      ],
      "execution_count": 14,
      "outputs": [
        {
          "output_type": "stream",
          "text": [
            "                 Generalized Linear Model Regression Results                  \n",
            "==============================================================================\n",
            "Dep. Variable:                      y   No. Observations:                21573\n",
            "Model:                            GLM   Df Residuals:                    21563\n",
            "Model Family:                 Poisson   Df Model:                            9\n",
            "Link Function:                    log   Scale:                          1.0000\n",
            "Method:                          IRLS   Log-Likelihood:            -1.7469e+07\n",
            "Date:                Sat, 15 May 2021   Deviance:                   3.4885e+07\n",
            "Time:                        20:45:25   Pearson chi2:                 2.90e+09\n",
            "No. Iterations:                     9                                         \n",
            "Covariance Type:                  HC1                                         \n",
            "==============================================================================\n",
            "                 coef    std err          z      P>|z|      [0.025      0.975]\n",
            "------------------------------------------------------------------------------\n",
            "x1             0.0002   1.89e-05      9.780      0.000       0.000       0.000\n",
            "x2          5.656e-07   2.72e-08     20.824      0.000    5.12e-07    6.19e-07\n",
            "x3          6.123e-07   3.02e-08     20.246      0.000    5.53e-07    6.72e-07\n",
            "x4             6.1094      0.281     21.710      0.000       5.558       6.661\n",
            "x5             0.0332      0.224      0.148      0.882      -0.406       0.472\n",
            "x6             1.2455      0.291      4.277      0.000       0.675       1.816\n",
            "x7             1.2732      0.260      4.903      0.000       0.764       1.782\n",
            "x8             1.4718      0.286      5.141      0.000       0.911       2.033\n",
            "x9            -0.0137      0.277     -0.049      0.961      -0.556       0.528\n",
            "x10            0.1623      0.241      0.673      0.501      -0.310       0.635\n",
            "==============================================================================\n"
          ],
          "name": "stdout"
        }
      ]
    },
    {
      "cell_type": "code",
      "metadata": {
        "colab": {
          "base_uri": "https://localhost:8080/"
        },
        "id": "4zeFTLu0egrz",
        "outputId": "e28b5862-0f43-4a4a-f1bc-fc618b5a9fe0"
      },
      "source": [
        "feature_names"
      ],
      "execution_count": 15,
      "outputs": [
        {
          "output_type": "execute_result",
          "data": {
            "text/plain": [
              "Index(['distw', 'gdp_o', 'gdp_d', 'contig', 'comlang_off', 'col_hist', 'isl_o',\n",
              "       'isl_d', 'lndl_o', 'lndl_d'],\n",
              "      dtype='object')"
            ]
          },
          "metadata": {
            "tags": []
          },
          "execution_count": 15
        }
      ]
    },
    {
      "cell_type": "code",
      "metadata": {
        "id": "u7eRS-MngWtg"
      },
      "source": [
        "params = results.params"
      ],
      "execution_count": 16,
      "outputs": []
    },
    {
      "cell_type": "markdown",
      "metadata": {
        "id": "1asAwfdZ2t5O"
      },
      "source": [
        "compute R2"
      ]
    },
    {
      "cell_type": "code",
      "metadata": {
        "colab": {
          "base_uri": "https://localhost:8080/"
        },
        "id": "4EB94P5Cg1LI",
        "outputId": "3c4e403b-caba-4483-dfdd-7b584f842194"
      },
      "source": [
        "predict_oos = mod.predict(params, data.X_test)\n",
        "predict_wis = mod.predict(params, data.X_train)\n",
        "\n",
        "cor_oos = np.corrcoef(data.y_test, predict_oos)[1][0]\n",
        "print('out of sample R2', cor_oos*cor_oos)\n",
        "\n",
        "cor_wis = np.corrcoef(data.y_train, predict_wis)[1][0]\n",
        "print('within sample R2', cor_wis*cor_wis)"
      ],
      "execution_count": 18,
      "outputs": [
        {
          "output_type": "stream",
          "text": [
            "out of sample R2 0.7400814311405779\n",
            "within sample R2 0.5157339382705933\n"
          ],
          "name": "stdout"
        }
      ]
    },
    {
      "cell_type": "code",
      "metadata": {
        "colab": {
          "base_uri": "https://localhost:8080/",
          "height": 545
        },
        "id": "9OR9IKSRhsoN",
        "outputId": "f3fd80ff-323e-407e-ee8b-3b2bc299adfd"
      },
      "source": [
        "plt.hist(predict_oos, bins=100, log=True)\n",
        "plt.title('hist predicted trade flow out of sample')\n",
        "plt.show()\n",
        "plt.hist(predict_wis, bins=100, log=True)\n",
        "plt.title('hist predicted trade flow within sample')\n",
        "plt.show()"
      ],
      "execution_count": 19,
      "outputs": [
        {
          "output_type": "display_data",
          "data": {
            "image/png": "[encoded data removed]",
            "text/plain": [
              "<Figure size 432x288 with 1 Axes>"
            ]
          },
          "metadata": {
            "tags": [],
            "needs_background": "light"
          }
        },
        {
          "output_type": "display_data",
          "data": {
            "image/png": "[encoded data removed]",
            "text/plain": [
              "<Figure size 432x288 with 1 Axes>"
            ]
          },
          "metadata": {
            "tags": [],
            "needs_background": "light"
          }
        }
      ]
    },
    {
      "cell_type": "code",
      "metadata": {
        "colab": {
          "base_uri": "https://localhost:8080/",
          "height": 577
        },
        "id": "SGF2uAamQgYh",
        "outputId": "a8e1eb5c-5138-41bf-a071-0fc4a24d768b"
      },
      "source": [
        "# plot y against y^\n",
        "plt.scatter(predict_oos, data.y_test, s = 3)\n",
        "plt.xlabel('prediced trade flow from test data')\n",
        "plt.ylabel('true trade flow from test data')\n",
        "plt.title('test vs predicted trade flow')\n",
        "plt.show()\n",
        "# plot y against y^ on log axes\n",
        "plt.loglog(predict_oos, data.y_test, marker = 'o', markersize = 3, linestyle = '')\n",
        "plt.xlabel('prediced trade flow from test data')\n",
        "plt.ylabel('true trade flow from test data')\n",
        "plt.title('test vs predicted trade flow on log axes')\n",
        "plt.show()"
      ],
      "execution_count": 20,
      "outputs": [
        {
          "output_type": "display_data",
          "data": {
            "image/png": "[encoded data removed]",
            "text/plain": [
              "<Figure size 432x288 with 1 Axes>"
            ]
          },
          "metadata": {
            "tags": [],
            "needs_background": "light"
          }
        },
        {
          "output_type": "display_data",
          "data": {
            "image/png": "[encoded data removed]",
            "text/plain": [
              "<Figure size 432x288 with 1 Axes>"
            ]
          },
          "metadata": {
            "tags": [],
            "needs_background": "light"
          }
        }
      ]
    },
    {
      "cell_type": "code",
      "metadata": {
        "colab": {
          "base_uri": "https://localhost:8080/",
          "height": 545
        },
        "id": "51ZTpic0jWK8",
        "outputId": "74db2cc5-7085-4dc1-ceb1-c61bed7d23ac"
      },
      "source": [
        "# out-of-sample errors\n",
        "oos_errors = data.y_test - predict_oos\n",
        "plt.hist(oos_errors, bins=100, log=True)\n",
        "plt.title('out-of-sample error distribution')\n",
        "plt.show()\n",
        "# within-sample errors\n",
        "is_prediction = mod.predict(params, data.X_train)\n",
        "is_errors = data.y_train - is_prediction\n",
        "plt.hist(is_errors, bins=100, log=True)\n",
        "plt.title('within-sample error distribution')\n",
        "plt.show()"
      ],
      "execution_count": 21,
      "outputs": [
        {
          "output_type": "display_data",
          "data": {
            "image/png": "[encoded data removed]",
            "text/plain": [
              "<Figure size 432x288 with 1 Axes>"
            ]
          },
          "metadata": {
            "tags": [],
            "needs_background": "light"
          }
        },
        {
          "output_type": "display_data",
          "data": {
            "image/png": "[encoded data removed]",
            "text/plain": [
              "<Figure size 432x288 with 1 Axes>"
            ]
          },
          "metadata": {
            "tags": [],
            "needs_background": "light"
          }
        }
      ]
    },
    {
      "cell_type": "markdown",
      "metadata": {
        "id": "KKEBDpjm8ctb"
      },
      "source": [
        "random validation loop"
      ]
    },
    {
      "cell_type": "code",
      "metadata": {
        "colab": {
          "base_uri": "https://localhost:8080/"
        },
        "id": "bFYFtq8a8bp0",
        "outputId": "b268281b-90c5-4083-a433-55f118f1687a"
      },
      "source": [
        "all_r2_test = []\n",
        "for i in range(100):\n",
        "  data.tts(rnd=None)\n",
        "  mod = sm.GLM(data.y_train, data.X_train, family=sm.families.Poisson())\n",
        "  mod.fit(cov_type='HC1')\n",
        "\n",
        "  predict_oos = mod.predict(params, data.X_test)\n",
        "  predict_wis = mod.predict(params, data.X_train)\n",
        "\n",
        "  cor_oos = np.corrcoef(data.y_test, predict_oos)[1][0]\n",
        "  cor_wis = np.corrcoef(data.y_train, predict_wis)[1][0]\n",
        "  \n",
        "  r2_test = cor_oos*cor_oos\n",
        "  \n",
        "  all_r2_test.append(r2_test)\n",
        "  print('R2 test:', r2_test)\n",
        "  print('R2 train', cor_wis*cor_wis)\n",
        "print('mean R2 test:', np.mean(all_r2_test))\n"
      ],
      "execution_count": 22,
      "outputs": [
        {
          "output_type": "stream",
          "text": [
            "R2 test: 0.06149543610636213\n",
            "R2 train 0.64436849579187\n",
            "R2 test: 0.790585807651109\n",
            "R2 train 0.35164398657995355\n",
            "R2 test: 0.4767756410329245\n",
            "R2 train 0.6244938247232416\n",
            "R2 test: 0.516111191227965\n",
            "R2 train 0.5958192792884521\n",
            "R2 test: 0.24650661980468727\n",
            "R2 train 0.6114043553359138\n",
            "R2 test: 0.2952062564992763\n",
            "R2 train 0.6042229810045798\n",
            "R2 test: 0.24938831571925363\n",
            "R2 train 0.613596448456819\n",
            "R2 test: 0.7832035210277478\n",
            "R2 train 0.501569011997855\n",
            "R2 test: 0.7730955680885097\n",
            "R2 train 0.5264131879348793\n",
            "R2 test: 0.6106835489232203\n",
            "R2 train 0.599171476451351\n",
            "R2 test: 0.7523842744044342\n",
            "R2 train 0.4923888261123389\n",
            "R2 test: 0.026207219399280154\n",
            "R2 train 0.6293872848219585\n",
            "R2 test: 0.6592975009561006\n",
            "R2 train 0.5675030597856813\n",
            "R2 test: 0.19760159879335804\n",
            "R2 train 0.626986661269516\n",
            "R2 test: 0.7234659692235225\n",
            "R2 train 0.49460557010497097\n",
            "R2 test: 0.6146253376126962\n",
            "R2 train 0.5806777657684766\n",
            "R2 test: 0.751083278410763\n",
            "R2 train 0.48029462790696614\n",
            "R2 test: 0.7458586227919787\n",
            "R2 train 0.505839121945799\n",
            "R2 test: 0.6478630813558994\n",
            "R2 train 0.5727233909789385\n",
            "R2 test: 0.7214194631955934\n",
            "R2 train 0.4958209719181258\n",
            "R2 test: 0.5466420249475109\n",
            "R2 train 0.5911888271557769\n",
            "R2 test: 0.8738437433451363\n",
            "R2 train 0.3996449234607482\n",
            "R2 test: 0.6878021771525524\n",
            "R2 train 0.5682568780490505\n",
            "R2 test: 0.8433099166933542\n",
            "R2 train 0.24025200969085747\n",
            "R2 test: 0.7081915885031248\n",
            "R2 train 0.5277112394884469\n",
            "R2 test: 0.7674004476630965\n",
            "R2 train 0.5031379099320016\n",
            "R2 test: 0.5083268443587697\n",
            "R2 train 0.6152836575488536\n",
            "R2 test: 0.5972214392407253\n",
            "R2 train 0.5864779431189213\n",
            "R2 test: 0.7964960509554327\n",
            "R2 train 0.46271013272610567\n",
            "R2 test: 0.5024539862463795\n",
            "R2 train 0.5975352158170588\n",
            "R2 test: 0.7920548818641432\n",
            "R2 train 0.5015573142546101\n",
            "R2 test: 0.5236790041156429\n",
            "R2 train 0.6230808863682561\n",
            "R2 test: 0.6383331476227736\n",
            "R2 train 0.5986773006121981\n",
            "R2 test: 0.7204492531574127\n",
            "R2 train 0.520516488166953\n",
            "R2 test: 0.7044902705432333\n",
            "R2 train 0.5506707056191082\n",
            "R2 test: 0.03899535888727974\n",
            "R2 train 0.619171946651619\n",
            "R2 test: 0.0873816523718332\n",
            "R2 train 0.6218103886251495\n",
            "R2 test: 0.5517210591956088\n",
            "R2 train 0.594271288328122\n",
            "R2 test: 0.8284091848652716\n",
            "R2 train 0.4533919891925208\n",
            "R2 test: 0.7296500059184726\n",
            "R2 train 0.5119875552237814\n",
            "R2 test: 0.8399900315235873\n",
            "R2 train 0.4438347939458093\n",
            "R2 test: 0.5136437149067564\n",
            "R2 train 0.5945468391045875\n",
            "R2 test: 0.8036945588578727\n",
            "R2 train 0.4938977781622528\n",
            "R2 test: 0.8262065268187335\n",
            "R2 train 0.4589520152184333\n",
            "R2 test: 0.04086691254662769\n",
            "R2 train 0.6258822192033945\n",
            "R2 test: 0.200884194291217\n",
            "R2 train 0.6218731393802567\n",
            "R2 test: 0.02985441976919991\n",
            "R2 train 0.6238108660274034\n",
            "R2 test: 0.12646316677079253\n",
            "R2 train 0.6213177132193999\n",
            "R2 test: 0.6490724433350565\n",
            "R2 train 0.5978293637396692\n",
            "R2 test: 0.5836731869671854\n",
            "R2 train 0.6076668011587678\n",
            "R2 test: 0.034226162345195627\n",
            "R2 train 0.6555655107896109\n",
            "R2 test: 0.6318318059850887\n",
            "R2 train 0.6014502045529784\n",
            "R2 test: 0.5550415360947979\n",
            "R2 train 0.6094223641890288\n",
            "R2 test: 0.5325884565731285\n",
            "R2 train 0.6225693601888037\n",
            "R2 test: 0.8090835757084605\n",
            "R2 train 0.46749667263950173\n",
            "R2 test: 0.6340749914933347\n",
            "R2 train 0.5736371054686453\n",
            "R2 test: 0.580099273974069\n",
            "R2 train 0.5879054642608282\n",
            "R2 test: 0.1822309003579019\n",
            "R2 train 0.6442311887097446\n",
            "R2 test: 0.06511785000207028\n",
            "R2 train 0.6423574225932203\n",
            "R2 test: 0.7535759015917258\n",
            "R2 train 0.5343720917923542\n",
            "R2 test: 0.06933797091844648\n",
            "R2 train 0.631865812803886\n",
            "R2 test: 0.5150484357112743\n",
            "R2 train 0.6110232079099945\n",
            "R2 test: 0.09044217047265456\n",
            "R2 train 0.6281753296828115\n",
            "R2 test: 0.5670213408771638\n",
            "R2 train 0.6083369095762038\n",
            "R2 test: 0.594276141364449\n",
            "R2 train 0.5860558894565969\n",
            "R2 test: 0.6423400839194175\n",
            "R2 train 0.5719779313160352\n",
            "R2 test: 0.09736623974040182\n",
            "R2 train 0.6165998301795391\n",
            "R2 test: 0.45056361390362254\n",
            "R2 train 0.6293895587470533\n",
            "R2 test: 0.1995628842556664\n",
            "R2 train 0.6233201249036859\n",
            "R2 test: 0.5010529116007538\n",
            "R2 train 0.6208429416705127\n",
            "R2 test: 0.07342524487822373\n",
            "R2 train 0.6324951448576304\n",
            "R2 test: 0.40717954215184254\n",
            "R2 train 0.6224320341065084\n",
            "R2 test: 0.08594196577334946\n",
            "R2 train 0.6158777904572627\n",
            "R2 test: 0.07991390454657016\n",
            "R2 train 0.6204158032541934\n",
            "R2 test: 0.7287718488999234\n",
            "R2 train 0.5183614740439414\n",
            "R2 test: 0.07678131280066164\n",
            "R2 train 0.6405078701398881\n",
            "R2 test: 0.1092619375049574\n",
            "R2 train 0.6196651210576307\n",
            "R2 test: 0.09102854023240836\n",
            "R2 train 0.6399472495238547\n",
            "R2 test: 0.5713761165078086\n",
            "R2 train 0.6111228342492032\n",
            "R2 test: 0.1786285227400309\n",
            "R2 train 0.6328636859937063\n",
            "R2 test: 0.526912095019488\n",
            "R2 train 0.6162611523504791\n",
            "R2 test: 0.18155253770443536\n",
            "R2 train 0.6366371704350365\n",
            "R2 test: 0.05855833286817704\n",
            "R2 train 0.6261077303077527\n",
            "R2 test: 0.7346034582679549\n",
            "R2 train 0.5181112051884182\n",
            "R2 test: 0.7494726967321806\n",
            "R2 train 0.5104648610083491\n",
            "R2 test: 0.45497620018821405\n",
            "R2 train 0.6271349582301324\n",
            "R2 test: 0.7735205404473846\n",
            "R2 train 0.5180842386499737\n",
            "R2 test: 0.6734484286798839\n",
            "R2 train 0.5675284476278653\n",
            "R2 test: 0.5630619701733873\n",
            "R2 train 0.6123541896138475\n",
            "R2 test: 0.11712678791687564\n",
            "R2 train 0.6172157956603956\n",
            "R2 test: 0.4154630157519455\n",
            "R2 train 0.6246314525820582\n",
            "R2 test: 0.7161970042217625\n",
            "R2 train 0.5730983785283331\n",
            "R2 test: 0.06613908665532338\n",
            "R2 train 0.6178165942288256\n",
            "R2 test: 0.6215935689684139\n",
            "R2 train 0.5812101561391937\n",
            "R2 test: 0.7649490893608182\n",
            "R2 train 0.5074357407267192\n",
            "R2 test: 0.6526078578382809\n",
            "R2 train 0.5716174746209179\n",
            "R2 test: 0.772119515739338\n",
            "R2 train 0.49572311488298776\n",
            "R2 test: 0.06514885766964497\n",
            "R2 train 0.6295077512175018\n",
            "R2 test: 0.5149770833829767\n",
            "R2 train 0.5951300720878775\n",
            "R2 test: 0.0730731786027936\n",
            "R2 train 0.6373228115304701\n",
            "mean R2 test: 0.48106751934774145\n"
          ],
          "name": "stdout"
        }
      ]
    }
  ]
}
